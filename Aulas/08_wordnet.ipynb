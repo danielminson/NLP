{
 "cells": [
  {
   "cell_type": "code",
   "execution_count": 1,
   "metadata": {},
   "outputs": [
    {
     "name": "stderr",
     "output_type": "stream",
     "text": [
      "[nltk_data] Downloading package wordnet to\n",
      "[nltk_data]     /Users/danielminsonpucciariello/nltk_data...\n",
      "[nltk_data] Downloading package omw to\n",
      "[nltk_data]     /Users/danielminsonpucciariello/nltk_data...\n",
      "[nltk_data] Downloading package omw-1.4 to\n",
      "[nltk_data]     /Users/danielminsonpucciariello/nltk_data...\n"
     ]
    },
    {
     "data": {
      "text/plain": [
       "True"
      ]
     },
     "execution_count": 1,
     "metadata": {},
     "output_type": "execute_result"
    }
   ],
   "source": [
    "from nltk.corpus import wordnet\n",
    "import nltk\n",
    "nltk.download('wordnet')\n",
    "nltk.download('omw')\n",
    "nltk.download('omw-1.4')\n"
   ]
  },
  {
   "cell_type": "markdown",
   "metadata": {},
   "source": [
    "# Aula 8: Ontologias e Wordnet\n",
    "**Objetivo da aula:** ao fim desta aula, o aluno será capaz de usar ontologias para avaliar palavras de acordo com seu conteúdo semântico.\n",
    "\n",
    "# Exercício 1\n",
    "*Objetivo: aplicar o conceito de busca por TF-IDF e analisar os resultados, evidenciando o problema de ambiguidades*\n",
    "\n",
    "Suponha que temos um sistema de busca por conteúdo que funciona usando TF-IDF e há três diferentes documentos:\n",
    "\n",
    "DOCUMENTO 1: “O arquiteto fez a planta da minha casa em janeiro”\n",
    "\n",
    "DOCUMENTO 2: “O decorador que escolheu essa planta que tenho em casa”\n",
    "\n",
    "DOCUMENTO 3: “Meu avô não compra verduras. Ele planta tudo em casa”\n",
    "\n",
    "1. Qual é o problema que teremos se fizermos a query: “planta em casa”?\n",
    "1. Se pudéssemos escrever a palavra “planta” de uma maneira diferente para cada significado (por exemplo, “planta_arquitetura”, “planta_vegetal” e “planta_verbo”), esse problema estaria resolvido? Como ficaria a query, nessse caso?\n"
   ]
  },
  {
   "cell_type": "markdown",
   "metadata": {},
   "source": [
    "# Exercício 2\n",
    "*Objetivo: explicar o que é um synset e o seu conteúdo*\n",
    "\n",
    "Um importante conceito para ligar palavras a significados é o *synset*. Execute o código abaixo e, de acordo com as saídas, encotnre uma definição para *synset*."
   ]
  },
  {
   "cell_type": "code",
   "execution_count": 6,
   "metadata": {},
   "outputs": [
    {
     "name": "stdout",
     "output_type": "stream",
     "text": [
      "[Synset('green.n.01'), Synset('park.n.02'), Synset('green.n.03'), Synset('green.n.04'), Synset('green.n.05'), Synset('green.n.06'), Synset('greens.n.01'), Synset('k.n.07'), Synset('green.v.01'), Synset('green.s.01'), Synset('green.a.02'), Synset('green.a.03'), Synset('green.s.04'), Synset('fleeceable.s.01')]\n",
      "['green.n.01', 'park.n.02', 'green.n.03', 'green.n.04', 'green.n.05', 'green.n.06', 'greens.n.01', 'k.n.07', 'green.v.01', 'green.s.01', 'green.a.02', 'green.a.03', 'green.s.04', 'fleeceable.s.01']\n",
      "['green color or pigment; resembling the color of growing grass', 'a piece of open land for recreational use in an urban area', 'United States labor leader who was president of the American Federation of Labor from 1924 to 1952 and who led the struggle with the Congress of Industrial Organizations (1873-1952)', 'an environmentalist who belongs to the Green Party', 'a river that rises in western Wyoming and flows southward through Utah to become a tributary of the Colorado River', 'an area of closely cropped grass surrounding the hole on a golf course', 'any of various leafy plants or their leaves and stems eaten as vegetables', 'street names for ketamine', 'turn or become green', 'of the color between blue and yellow in the color spectrum; similar to the color of fresh grass', 'concerned with or supporting or in conformity with the political principles of the Green Party', 'not fully developed or mature; not ripe', 'looking pale and unhealthy', 'naive and easily deceived or tricked']\n"
     ]
    }
   ],
   "source": [
    "from nltk.corpus import wordnet\n",
    "synsets = wordnet.synsets('green')\n",
    "print([syn for syn in synsets])\n",
    "print([syn.name() for syn in synsets])\n",
    "print([syn.definition() for syn in synsets])"
   ]
  },
  {
   "cell_type": "markdown",
   "metadata": {},
   "source": [
    "# Exercício 3\n",
    "*Objetivo: explorar synsets em outras palavras*\n",
    "\n",
    "Encontre synsets para a palavra “green”.\n",
    "\n",
    "1. Quantos sentidos diferentes essa palavra pode ter, de acordo com a Wordnet?\n",
    "1. Em cada um dos sentidos, como podemos saber qual é o part-of-speech correspondente?\n",
    "1. Quais são os possíveis part-of-speech que estão definidos na WordNet?"
   ]
  },
  {
   "cell_type": "code",
   "execution_count": 7,
   "metadata": {},
   "outputs": [
    {
     "name": "stdout",
     "output_type": "stream",
     "text": [
      "14\n"
     ]
    }
   ],
   "source": [
    "# Resolva este exercício aqui\n",
    "synsets = wordnet.synsets('green')\n",
    "print(len([syn.definition() for syn in synsets]))"
   ]
  },
  {
   "cell_type": "markdown",
   "metadata": {},
   "source": [
    "# Exercício 4\n",
    "*Objetivo: explicar como lemas se relacionam com synsets*\n",
    "\n",
    "Execute o código a seguir. O que significa a saída que é impressa na tela?"
   ]
  },
  {
   "cell_type": "code",
   "execution_count": 5,
   "metadata": {},
   "outputs": [
    {
     "name": "stdout",
     "output_type": "stream",
     "text": [
      "['write', 'compose', 'pen', 'indite']\n"
     ]
    }
   ],
   "source": [
    "from nltk.corpus import wordnet\n",
    "synsets = wordnet.synsets('writes')\n",
    "print([lemma.name() for lemma in synsets[0].lemmas()])"
   ]
  },
  {
   "cell_type": "markdown",
   "metadata": {},
   "source": [
    "# Exercício 5\n",
    "*Objetivo: aplicar um algoritmo de desambiguação de significado*\n",
    "\n",
    "Analise e execute o código abaixo.\n",
    "\n",
    "1. Que tipo de dado a função “lesk” retorna (ou: de qual tipo/classe são as variáveis syns1 e syns2?)\n",
    "1. Analisando a saída que é impressa na tela, o que podemos dizer que a função “lesk” faz?\n",
    "1. Veja na [documentação da função lesk](https://www.nltk.org/howto/wsd.html) como ela funciona. Encontre algumas frases em que esse algoritmo não funciona."
   ]
  },
  {
   "cell_type": "code",
   "execution_count": 8,
   "metadata": {},
   "outputs": [
    {
     "name": "stdout",
     "output_type": "stream",
     "text": [
      "Synset('cold.a.02') extended meanings; especially of psychological coldness; without human warmth or emotion\n",
      "Synset('cold.a.01') having a low or inadequate temperature or feeling a sensation of coldness or having been made cold by e.g. ice or refrigeration\n"
     ]
    }
   ],
   "source": [
    "from nltk.wsd import lesk\n",
    "phrase1 = \"they were so cold - entirely without emotion\".split()\n",
    "syns1 = lesk(phrase1, 'cold')\n",
    "phrase2 = \"when I had time to eat, my meal was ice cold\".split()\n",
    "syns2 = lesk(phrase2, 'cold')\n",
    "print(syns1, syns1.definition())\n",
    "print(syns2, syns2.definition())"
   ]
  },
  {
   "cell_type": "markdown",
   "metadata": {},
   "source": [
    "# Exercício 6\n",
    "*Objetivo: analisar os limites dentro dos quais é possível fazer desambiguação de significado*\n",
    "\n",
    "1. Uma das aplicações da desambiguação de sentidos é diferenciar significados em palavras que têm polissemias ou homonímias. Por exemplo, é interessante diferenciar “mina de ouro” de “mina terrestre” porque a palavra “mina” significa coisas muito diferentes nesses casos. Encontre mais dois exemplos de palavras que podem ter significados muito diferentes.\n",
    "1. Por que o algoritmo de Lesk tende a falhar em muitas situações?\n",
    "1. Considere a passagem: “Navegar é preciso. Viver não é preciso.”. É possível desambiguar o significado da palavra “preciso” em cada uma das frases?\n",
    "1. É possível fazer um algoritmo que consiga desambiguar sentidos de palavras com 100% de acurácia?\n",
    "\n"
   ]
  },
  {
   "attachments": {},
   "cell_type": "markdown",
   "metadata": {},
   "source": [
    "Resposta\n",
    "2. Se o contexto tiver ambiguidade envolvida, o algoritmo tende a falhar.\n",
    "3. nao é possível desambiguar, porque existem diversas resposta possiveis."
   ]
  },
  {
   "cell_type": "code",
   "execution_count": 17,
   "metadata": {},
   "outputs": [
    {
     "name": "stdout",
     "output_type": "stream",
     "text": [
      "excavation in the earth from which ores and minerals are extracted\n",
      "----\n",
      "explosive device that explodes on contact; designed to destroy vehicles or ships or to kill or maim personnel\n"
     ]
    }
   ],
   "source": [
    "syn = wordnet.synsets('mine')[0]\n",
    "print(syn.definition())\n",
    "print(\"----\")\n",
    "syn = wordnet.synsets('mine')[1]\n",
    "print(syn.definition())"
   ]
  },
  {
   "cell_type": "markdown",
   "metadata": {},
   "source": [
    "# Exercício 7\n",
    "*Objetivo: aplicar o conceito de busca por TF-IDF e analisar os resultados, evidenciando o problema de termos palavras com significados próximos*\n",
    "\n",
    "Suponha que temos um sistema de busca por conteúdo que funciona usando TF-IDF. Ele tem diversos documentos sobre como montar móveis, eletrodomésticos, etc., e temos o seguinte documento em nossa base:\n",
    "\n",
    "“Para montar seu computador, siga os seguintes passos: “(o documento continua com instruções claras para montar um computador).\n",
    "\n",
    "Nosso usuário buscou: “como montar meu PC”.\n",
    "\n",
    "O sistema vai encontrar o documento correto? Por que?\n"
   ]
  },
  {
   "attachments": {},
   "cell_type": "markdown",
   "metadata": {},
   "source": [
    "Nao vai dar certo porque montar nao tem relevancia na maioria dos textos sobre PC, mas sim textos de computador (palavras que significam a mesma coisa) "
   ]
  },
  {
   "cell_type": "markdown",
   "metadata": {},
   "source": [
    "# Exercício 8\n",
    "*Objetivo: organizar conceitos em uma ontologia baseada em abstrações*\n",
    "\n",
    "1. Organize as seguintes palavras em uma árvore hierarquicamente definida pelo nível de abstração (por exemplo: \"material escolar\" é mais abstrato que \"caderno\", embora possam se referir ao mesmo conceito): Organismo | Planta | Animal | Gato | Cachorro | Rosa | Coqueiro | Humano | Poodle | Vira_lata_Caramelo | Bulldog | Alecrim\n",
    "1. Considerando sua árvore, que palavras melhor substituiriam a palavra “Poodle” na frase: “Meu poodle gosta de brincar”? Por que? Seriam essas as únicas palavras que garantiriam que a frase está sintaticamente correta?\n",
    "1. Um **hiperônimo** é uma palavra cujo sentido é imediatamente mais “genérico” que outra. Partindo de sua árvore, qual é o hiperônimo de “humano”?\n",
    "1. Um **hipônimo** é uma palavra cujo sentido é imediatamente mais “específico” que outra. Partindo de sua árvore, quais são os hipônimos de “animal”?\n",
    "1. Usando sua árvore, defina: um “vira_lata_caramelo” é mais semelhante a um “poodle” ou a um “coqueiro”? Por que?\n"
   ]
  },
  {
   "attachments": {},
   "cell_type": "markdown",
   "metadata": {},
   "source": [
    "Hiponimo é o imediatamnete mais especifico que a outra. Hiperonimo é o imediatamente menos especifico que a palavra.\n"
   ]
  },
  {
   "cell_type": "code",
   "execution_count": null,
   "metadata": {},
   "outputs": [],
   "source": []
  },
  {
   "cell_type": "markdown",
   "metadata": {},
   "source": [
    "# Exercício 9\n",
    "*Objetivo: usar a wordnet para encontrar hiperônimos e hipônimos de palavras*\n",
    "\n",
    "Analise o trecho de código abaixo.\n",
    "\n",
    "1. O que ele faz?\n",
    "1. O hiperônimo que você encontrou para poodle é o mesmo que você propôs no exercício anterior?\n",
    "1. Troque a palavra “poodle” por “bulldog”. Houve diferenças nos resultados? Por que?\n",
    "1. Modifique o código para encontra os hiperônimos de um dos hiperônimos da palavra bulldog.\n",
    "1. Encontre hiperônimos e hipônimos de outras palavras. Você consegue encontrar algum caso de que discorde?"
   ]
  },
  {
   "attachments": {},
   "cell_type": "markdown",
   "metadata": {},
   "source": []
  },
  {
   "cell_type": "code",
   "execution_count": 9,
   "metadata": {},
   "outputs": [
    {
     "name": "stdout",
     "output_type": "stream",
     "text": [
      "an intelligent dog with a heavy curly solid-colored coat that is usually clipped; an old breed sometimes trained as sporting dogs or as performing dogs\n",
      "\n",
      "Synset abstract term :   [Synset('dog.n.01')]\n",
      "\n",
      "Synset specific term :   [Synset('large_poodle.n.01'), Synset('miniature_poodle.n.01'), Synset('standard_poodle.n.01'), Synset('toy_poodle.n.01')]\n",
      "\n",
      "Synset root hypernerm :   [Synset('entity.n.01')]\n"
     ]
    }
   ],
   "source": [
    "syn = wordnet.synsets('poodle')[0]# primeiro significado da palavra poodle\n",
    "print(syn.definition())\n",
    "print (\"\\nSynset abstract term :  \", syn.hypernyms())\n",
    "print (\"\\nSynset specific term :  \", syn.hyponyms())\n",
    "  \n",
    "syn.root_hypernyms()\n",
    "  \n",
    "print (\"\\nSynset root hypernerm :  \", syn.root_hypernyms()) #hiperonimo mais acimas"
   ]
  },
  {
   "cell_type": "markdown",
   "metadata": {},
   "source": [
    "# Exercício 10\n",
    "*Objetivo: usar a wordnet para encontrar raízes comuns entre synsets*\n",
    "\n",
    "Analise e execute o código abaixo.\n",
    "\n",
    "1. O que ele imprime na tela? Por que?\n",
    "1. O que é “menor hiperônimo comum”?\n",
    "1. Qual é o “menor hiperônimo comum” entre “poodle” e “palm_tree”?\n",
    "1. Encontre o \"menor hiperônimo comum\" para palavras que participam de domínios cada vez mais distantes. Quais synsets são mais próximos da raiz da ontologia Wordnet?"
   ]
  },
  {
   "cell_type": "code",
   "execution_count": 19,
   "metadata": {},
   "outputs": [
    {
     "name": "stdout",
     "output_type": "stream",
     "text": [
      "Synset('dog.n.01') a member of the genus Canis (probably descended from the common wolf) that has been domesticated by man since prehistoric times; occurs in many breeds\n"
     ]
    }
   ],
   "source": [
    "syns1 = wordnet.synsets(\"poodle\")[0]\n",
    "syns2 = wordnet.synsets(\"bulldog\")[0]\n",
    "hyper = syns1.lowest_common_hypernyms(syns2)[0]\n",
    "print(hyper, hyper.definition())"
   ]
  },
  {
   "attachments": {},
   "cell_type": "markdown",
   "metadata": {},
   "source": [
    "# Exercício 11\n",
    "*Objetivo: usar a wordnet para encontrar a distância semântica entre synsets*\n",
    "\n",
    "Leia e execute o código abaixo.\n",
    "\n",
    "1. O que ele imprime na tela?\n",
    "1. Consulte a documentação do nltk. O que é “path similarity” e o que é “wup similarity”?\n",
    "1. De acordo com a wordnet, um poodle é mais semelhante a um bulldog ou a uma palmeira (“palm_tree”)?\n",
    "\n",
    "2: Sao formas diferentes de achar a distancia entre palavras"
   ]
  },
  {
   "cell_type": "code",
   "execution_count": 10,
   "metadata": {},
   "outputs": [
    {
     "name": "stdout",
     "output_type": "stream",
     "text": [
      "0.25\n",
      "0.8387096774193549\n"
     ]
    }
   ],
   "source": [
    "syns1 = wordnet.synsets(\"poodle\")[0]\n",
    "syns2 = wordnet.synsets(\"bulldog\")[0]\n",
    "print(syns1.path_similarity(syns2))\n",
    "print(syns1.wup_similarity(syns2))"
   ]
  },
  {
   "cell_type": "markdown",
   "metadata": {},
   "source": [
    "# Exercício 12\n",
    "*Objetivo: entender como usar a tradução da Wordnet para português*\n",
    "\n",
    "O trecho de código abaixo tem uma demonstração de como usar a wordnet em português.\n",
    "\n",
    "1. Quais partes da Wordnet estão traduzidas? Quais partes não estão traduzidas?\n",
    "1. Você consegue encontrar problemas de tradução?\n",
    "1. Veja na documentação da [Open Wordnet PT](https://github.com/own-pt/openWordnet-PT): como a wordnet em português foi construída?\n"
   ]
  },
  {
   "cell_type": "code",
   "execution_count": 14,
   "metadata": {},
   "outputs": [
    {
     "name": "stdout",
     "output_type": "stream",
     "text": [
      "Synonyms:  ['capacidade', 'faculdade', 'habilidade', 'talento']\n",
      "Definition: possession of the qualities (especially mental qualities) required to do something or get something done\n",
      "Hyponyms:  ['aptitude', 'bilingualism', 'capacity', 'creativity', 'faculty', 'hand', 'intelligence', 'know-how', 'leadership', 'originality', 'skill', 'skill', 'superior_skill']\n",
      "Hypernyms:  ['cognition']\n",
      "\n",
      "Synonyms:  ['faculdade', 'talento']\n",
      "Definition: one of the inherent cognitive or perceptual powers of the mind\n",
      "Hyponyms:  ['attention', 'language', 'memory', 'reason', 'sense', 'volition']\n",
      "Hypernyms:  ['ability']\n",
      "\n",
      "Synonyms:  ['IES', 'escola', 'faculdade', 'instituição_de_ensino_superior', 'instituto', 'universidade']\n",
      "Definition: the body of faculty and students of a college\n",
      "Hyponyms:  []\n",
      "Hypernyms:  ['body']\n",
      "\n",
      "Synonyms:  ['Faculdade', 'escola', 'instituto', 'universidade']\n",
      "Definition: an institution of higher education created to educate and grant degrees; often a part of a university\n",
      "Hyponyms:  ['business_college', 'junior_college', 'training_college']\n",
      "Hypernyms:  ['educational_institution']\n",
      "\n",
      "Synonyms:  ['Universidades', 'faculdade', 'faculdades_e_escolas_superiores_por_tipo']\n",
      "Definition: the body of teachers and administrators at a school\n",
      "Hyponyms:  []\n",
      "Hypernyms:  ['body']\n",
      "\n"
     ]
    }
   ],
   "source": [
    "word = 'faculdade'\n",
    "syn = wordnet.synsets(word, lang='por')#realiza a traducao da palavra e continuar\n",
    "for s in syn:\n",
    "    print (\"Synonyms: \", [l.name() for l in s.lemmas(lang='por')])\n",
    "    print (\"Definition:\", s.definition())\n",
    "    print (\"Hyponyms: \", [l.lemmas()[0].name() for l in s.hyponyms()])\n",
    "    print (\"Hypernyms: \", [l.lemmas()[0].name() for l in s.hypernyms()]) \n",
    "    print(\"\")  "
   ]
  },
  {
   "cell_type": "markdown",
   "metadata": {},
   "source": [
    "# Exercício 13\n",
    "*Objetivo: usar uma ontologia para encontrar a semelhança semântica entre frases*\n",
    "\n",
    "Neste exercício, trabalharemos com o problema de tentar agrupar frases de acordo com sua semelhança semântica.\n",
    "\n",
    "Considere as frases abaixo (todas foram retiradas de músicas dos Beatles):\n",
    "\n",
    "* How could I dance with another when I saw her standing there?\n",
    "* Oh, darling, please believe me, I will never leave you alone\n",
    "* I want to be under the sea in an octopus' garden in the shade\n",
    "* In the town where I was born lived a man who sailed to sea\n",
    "* I want to hold your hand\n",
    "* What would you think if I sang out of tune? Would you stand up and walk out on me?\n",
    "* I look at the world and I notice it's turning while my guitar gently weeps\n",
    "* Eleanor Rigby picks up the rice in the church where a wedding has been\n",
    "\n",
    "Podemos encontrar algumas músicas que são sobre amor, outras que são sobre fazer música, e algumas que são sobre situações ficcionais. Porém, as palavras \"love\", \"music\" e \"fiction\" não aparecem em nenhuma das frases. Também, há pouca coincidência entre as palavras que são usadas nas frases, então uma técnica como TFIDF pode ser inadequada para encontrar os significados das frases.\n",
    "\n",
    "1. Como poderíamos usar a Wordnet para ajudar a resolver o problema de agrupamento, neste caso? \n",
    "1. Implemente sua proposta de solução e a avalie. Ela funciona?\n",
    "1. Você acredita que é necessário fazer uma ontologia específica para seu problema, ou a ontologia fornecida pela wordnet já é semelhante?\n",
    "\n",
    "\n"
   ]
  },
  {
   "cell_type": "code",
   "execution_count": 18,
   "metadata": {},
   "outputs": [
    {
     "name": "stdout",
     "output_type": "stream",
     "text": [
      "0.2953950811093668\n"
     ]
    }
   ],
   "source": [
    "import numpy as np\n",
    "frase= 'How could I dance with another when I saw her standing there?'.lower().replace(\"?\", '').split()\n",
    "palavra = \"love\"\n",
    "syn = wordnet.synsets(palavra)[0]\n",
    "\n",
    "acc = []\n",
    "for w in frase:\n",
    "    syn_target = wordnet.synsets(w)\n",
    "    if len(syn_target)>0:\n",
    "        syn_target = syn_target[0]\n",
    "        acc.append(syn.wup_similarity(syn_target))\n",
    "print(np.mean(acc))"
   ]
  },
  {
   "attachments": {},
   "cell_type": "markdown",
   "metadata": {},
   "source": [
    "A ontologia usa sinonimos oba"
   ]
  },
  {
   "cell_type": "markdown",
   "metadata": {},
   "source": []
  }
 ],
 "metadata": {
  "interpreter": {
   "hash": "b3ba2566441a7c06988d0923437866b63cedc61552a5af99d1f4fb67d367b25f"
  },
  "kernelspec": {
   "display_name": "Python 3.9.7 64-bit ('base': conda)",
   "language": "python",
   "name": "python3"
  },
  "language_info": {
   "codemirror_mode": {
    "name": "ipython",
    "version": 3
   },
   "file_extension": ".py",
   "mimetype": "text/x-python",
   "name": "python",
   "nbconvert_exporter": "python",
   "pygments_lexer": "ipython3",
   "version": "3.10.8"
  },
  "orig_nbformat": 4
 },
 "nbformat": 4,
 "nbformat_minor": 2
}
