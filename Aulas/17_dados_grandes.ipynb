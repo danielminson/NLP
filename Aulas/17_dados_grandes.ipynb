{
 "cells": [
  {
   "attachments": {},
   "cell_type": "markdown",
   "metadata": {},
   "source": [
    "# Datasets muito grandes"
   ]
  },
  {
   "attachments": {},
   "cell_type": "markdown",
   "metadata": {},
   "source": [
    "Neste momento, estamos tendo problemas ligados ao fato de que precisamos usar muito mais memória do que temos disponível para fazer caber os dados que estamos usando. Neste notebook, vamos usar a API do Keras para lidar com uma grande base de dados.\n",
    "\n",
    "\n",
    "## Exercício\n",
    "**Objetivo: entender como a base de dados deve ser armazenada**\n",
    "\n",
    "Até o momento, usamos bases de dados em grandes arquivos CSV. O problema desse tipo de abordagem é que precisaremos abrir arquivos muito grandes, e isso pode ocupar muita memória, tornando difícil treinarmos classificadores para nossa base.\n",
    "\n",
    "Analisando o código abaixo, identifique como a base de dados deve ficar organizada no computador para poder ser usada pela API do Keras."
   ]
  },
  {
   "cell_type": "code",
   "execution_count": 324,
   "metadata": {},
   "outputs": [],
   "source": []
  },
  {
   "cell_type": "code",
   "execution_count": 40,
   "metadata": {},
   "outputs": [],
   "source": [
    "from keras.layers import Input, Dense, Activation, TimeDistributed, Softmax, TextVectorization, Reshape, RepeatVector, GRU, Conv1D, Bidirectional, AveragePooling1D, UpSampling1D, Embedding, Concatenate, GlobalAveragePooling1D, LSTM, Multiply\n",
    "from keras.models import Model\n",
    "import pandas as pd\n",
    "import os\n",
    "import re\n",
    "from tqdm import tqdm\n",
    "from sklearn.model_selection import train_test_split\n",
    "import tensorflow as tf\n",
    "import matplotlib.pyplot as plt\n"
   ]
  },
  {
   "cell_type": "code",
   "execution_count": null,
   "metadata": {},
   "outputs": [],
   "source": [
    "\n",
    "df = pd.read_csv('datasets/IMDB Dataset.csv')\n",
    "DATASET_DIR = './datasets/frases_classificacao/'\n"
   ]
  },
  {
   "cell_type": "code",
   "execution_count": 3,
   "metadata": {},
   "outputs": [],
   "source": [
    "os.mkdir(DATASET_DIR)\n",
    "os.mkdir(DATASET_DIR + \"/train\")\n",
    "os.mkdir(DATASET_DIR + \"/train/positive\")\n",
    "os.mkdir(DATASET_DIR + \"/train/negative\")\n",
    "os.mkdir(DATASET_DIR + \"/test\")\n",
    "os.mkdir(DATASET_DIR + \"/test/positive\")\n",
    "os.mkdir(DATASET_DIR + \"/test/negative\")\n"
   ]
  },
  {
   "cell_type": "code",
   "execution_count": 5,
   "metadata": {},
   "outputs": [
    {
     "name": "stderr",
     "output_type": "stream",
     "text": [
      "100%|██████████| 40000/40000 [00:56<00:00, 706.11it/s]\n",
      "100%|██████████| 10000/10000 [00:16<00:00, 623.98it/s]"
     ]
    },
    {
     "name": "stdout",
     "output_type": "stream",
     "text": [
      "Criei textos: 50000\n"
     ]
    },
    {
     "name": "stderr",
     "output_type": "stream",
     "text": [
      "\n"
     ]
    }
   ],
   "source": [
    "reviews = df['review']\n",
    "labels = df['sentiment']\n",
    "x_train, x_test, y_train, y_test = train_test_split(reviews, labels, train_size=0.8)\n",
    "\n",
    "n_texto = 0\n",
    "for i in tqdm(range(len(y_train))):\n",
    "    texto = x_train.iloc[i]\n",
    "    fname = 'review_' + str(n_texto) + '.txt'\n",
    "    with open(DATASET_DIR + \"/train/\" + y_train.iloc[i] + \"/\" + fname, 'w') as f:\n",
    "        f.write(texto)\n",
    "        n_texto += 1\n",
    "\n",
    "for i in tqdm(range(len(y_test))):\n",
    "    texto = x_test.iloc[i]\n",
    "    fname = 'review_' + str(n_texto) + '.txt'\n",
    "    with open(DATASET_DIR + \"/test/\" + y_test.iloc[i] + \"/\" + fname, 'w') as f:\n",
    "        f.write(texto)\n",
    "        n_texto += 1\n",
    "\n",
    "print(\"Criei textos:\", n_texto)\n"
   ]
  },
  {
   "cell_type": "code",
   "execution_count": 51,
   "metadata": {},
   "outputs": [
    {
     "name": "stdout",
     "output_type": "stream",
     "text": [
      "Found 40003 files belonging to 2 classes.\n",
      "Found 10000 files belonging to 2 classes.\n"
     ]
    }
   ],
   "source": [
    "# Ler um dataset e fazer batches\n",
    "from tensorflow.keras.utils import text_dataset_from_directory\n",
    "\n",
    "dataset_train = text_dataset_from_directory(\n",
    "    DATASET_DIR + '/train',\n",
    "    labels='inferred',\n",
    "    label_mode='categorical',\n",
    "    class_names=None,\n",
    "    batch_size=1024,\n",
    "    max_length=None,\n",
    "    shuffle=True,\n",
    "    seed=None,\n",
    "    validation_split=None,\n",
    "    subset=None,\n",
    "    follow_links=False\n",
    ")\n",
    "\n",
    "dataset_test = text_dataset_from_directory(\n",
    "    DATASET_DIR+ '/test',\n",
    "    labels='inferred',\n",
    "    label_mode='categorical',\n",
    "    class_names=None,\n",
    "    batch_size=1024,\n",
    "    max_length=None,\n",
    "    shuffle=True,\n",
    "    seed=None,\n",
    "    validation_split=None,\n",
    "    subset=None,\n",
    "    follow_links=False\n",
    ")"
   ]
  },
  {
   "attachments": {},
   "cell_type": "markdown",
   "metadata": {},
   "source": [
    "## Exercício 2\n",
    "**Objetivo: entender como funciona a função .map()**\n",
    "\n",
    "Algumas vezes, precisamos fazer alguns tipos de pré-processamento na base de dados. Para isso, usamos o método `.map()`.  Para que ele é usado, e para que ele está sendo usado no contexto do código abaixo?"
   ]
  },
  {
   "cell_type": "code",
   "execution_count": 10,
   "metadata": {},
   "outputs": [],
   "source": [
    "from keras.layers import Input, TextVectorization\n",
    "from keras.models import Model\n",
    "\n",
    "def remover_label(x,label):\n",
    "    return x\n",
    "\n",
    "vocab_size = 10000\n",
    "vectorize_layer = TextVectorization(max_tokens=vocab_size, output_sequence_length=256)\n",
    "vectorize_layer.adapt(dataset_train.map(remover_label))"
   ]
  },
  {
   "cell_type": "code",
   "execution_count": 11,
   "metadata": {},
   "outputs": [
    {
     "data": {
      "text/plain": [
       "['', '[UNK]', 'the', 'a', 'and', 'of', 'to', 'is', 'in', 'it']"
      ]
     },
     "execution_count": 11,
     "metadata": {},
     "output_type": "execute_result"
    }
   ],
   "source": [
    "vectorize_layer.get_vocabulary()[0:10]"
   ]
  },
  {
   "attachments": {},
   "cell_type": "markdown",
   "metadata": {},
   "source": [
    "## Exercício 3\n",
    "**Objetivo: usar um dataset para treinar uma rede neural de classificação**\n",
    "\n",
    "Analisando o código abaixo, identifique:\n",
    "\n",
    "1. Como usar um dataset para treinar uma rede neural de classificação de textos?\n",
    "1. Modifique o parâmetro `batch_size` na criação do dataset. Como isso influencia o tempo de execução e o resultado final?\n",
    "1. Por que não podemos usar `batch_size` infinitamente alto (ou: porque não devemos treinar usando o dataset inteiro em um único batch?)"
   ]
  },
  {
   "cell_type": "code",
   "execution_count": 32,
   "metadata": {},
   "outputs": [
    {
     "name": "stdout",
     "output_type": "stream",
     "text": [
      "Model: \"model_41\"\n",
      "_________________________________________________________________\n",
      " Layer (type)                Output Shape              Param #   \n",
      "=================================================================\n",
      " input_39 (InputLayer)       [(None, 1)]               0         \n",
      "                                                                 \n",
      " text_vectorization_2 (TextV  (None, 256)              0         \n",
      " ectorization)                                                   \n",
      "                                                                 \n",
      " projecao (Embedding)        (None, 256, 2)            20000     \n",
      "                                                                 \n",
      " ngramas (Functional)        (None, 128, 16)           96        \n",
      "                                                                 \n",
      " model_34 (Functional)       (None, 64, 16)            768       \n",
      "                                                                 \n",
      " model_35 (Functional)       (None, 32, 16)            768       \n",
      "                                                                 \n",
      " model_36 (Functional)       (None, 16, 16)            768       \n",
      "                                                                 \n",
      " model_37 (Functional)       (None, 8, 16)             768       \n",
      "                                                                 \n",
      " model_38 (Functional)       (None, 4, 16)             768       \n",
      "                                                                 \n",
      " model_39 (Functional)       (None, 2, 16)             768       \n",
      "                                                                 \n",
      " model_40 (Functional)       (None, 1, 16)             768       \n",
      "                                                                 \n",
      " reshape_4 (Reshape)         (None, 16)                0         \n",
      "                                                                 \n",
      " classificador (Dense)       (None, 2)                 34        \n",
      "                                                                 \n",
      " activation_46 (Activation)  (None, 2)                 0         \n",
      "                                                                 \n",
      "=================================================================\n",
      "Total params: 25,506\n",
      "Trainable params: 25,506\n",
      "Non-trainable params: 0\n",
      "_________________________________________________________________\n",
      "None\n"
     ]
    }
   ],
   "source": [
    "def convolve_and_downsample(input_n_samples, input_embedding_size, n_filters, kernel_size=3, **kwargs):\n",
    "    input_layer = Input(shape=(input_n_samples,input_embedding_size))\n",
    "    x = input_layer\n",
    "    x = Conv1D( filters=n_filters,\n",
    "                kernel_size=kernel_size,\n",
    "                padding='same',\n",
    "                use_bias=False,\n",
    "                )(x)\n",
    "    x = AveragePooling1D(pool_size=2)(x)\n",
    "    x = Activation('elu')(x)\n",
    "    return Model(input_layer, x, **kwargs)\n",
    "\n",
    "def deep_cnn_embedding_softmax_model(vectorize_layer, vocab_size=vocab_size, number_of_ngrams=16, n_gram_size=3):\n",
    "    input_layer = Input(shape=(1,), dtype=tf.string)\n",
    "    x = input_layer\n",
    "    x = vectorize_layer(x)\n",
    "    x = Embedding(vocab_size, 2, name='projecao')(x)\n",
    "    x = convolve_and_downsample(256, 2, number_of_ngrams, n_gram_size, name='ngramas')(x)\n",
    "    x = convolve_and_downsample(128, number_of_ngrams, number_of_ngrams, n_gram_size)(x)\n",
    "    x = convolve_and_downsample(64, number_of_ngrams, number_of_ngrams, n_gram_size)(x)\n",
    "    x = convolve_and_downsample(32, number_of_ngrams, number_of_ngrams, n_gram_size)(x)\n",
    "    x = convolve_and_downsample(16, number_of_ngrams, number_of_ngrams, n_gram_size)(x)\n",
    "    x = convolve_and_downsample(8, number_of_ngrams, number_of_ngrams, n_gram_size)(x)\n",
    "    x = convolve_and_downsample(4, number_of_ngrams, number_of_ngrams, n_gram_size)(x)\n",
    "    x = convolve_and_downsample(2, number_of_ngrams, number_of_ngrams, n_gram_size)(x)\n",
    "    x = Reshape( (-1,))(x)\n",
    "    x = Dense(2, name='classificador')(x)\n",
    "    x = Activation('softmax')(x)\n",
    "    return Model(input_layer, x)\n",
    "\n",
    "clf = deep_cnn_embedding_softmax_model(vectorize_layer)\n",
    "print(clf.summary())\n",
    "clf.compile(loss='categorical_crossentropy', metrics=['accuracy'])\n"
   ]
  },
  {
   "cell_type": "code",
   "execution_count": 33,
   "metadata": {},
   "outputs": [
    {
     "name": "stdout",
     "output_type": "stream",
     "text": [
      "Epoch 1/10\n",
      "40/40 [==============================] - 32s 632ms/step - loss: 0.6919 - accuracy: 0.5485 - val_loss: 0.6777 - val_accuracy: 0.6287\n",
      "Epoch 2/10\n",
      "40/40 [==============================] - 29s 634ms/step - loss: 0.5442 - accuracy: 0.7262 - val_loss: 0.4424 - val_accuracy: 0.7992\n",
      "Epoch 3/10\n",
      "40/40 [==============================] - 35s 777ms/step - loss: 0.3946 - accuracy: 0.8245 - val_loss: 0.4050 - val_accuracy: 0.8221\n",
      "Epoch 4/10\n",
      "40/40 [==============================] - 31s 690ms/step - loss: 0.3220 - accuracy: 0.8645 - val_loss: 0.3505 - val_accuracy: 0.8424\n",
      "Epoch 5/10\n",
      "40/40 [==============================] - 31s 685ms/step - loss: 0.2797 - accuracy: 0.8849 - val_loss: 0.3712 - val_accuracy: 0.8437\n",
      "Epoch 6/10\n",
      "40/40 [==============================] - 30s 654ms/step - loss: 0.2550 - accuracy: 0.8978 - val_loss: 0.3131 - val_accuracy: 0.8685\n",
      "Epoch 7/10\n",
      "40/40 [==============================] - 29s 646ms/step - loss: 0.2345 - accuracy: 0.9073 - val_loss: 0.3154 - val_accuracy: 0.8754\n",
      "Epoch 8/10\n",
      "40/40 [==============================] - 31s 699ms/step - loss: 0.2188 - accuracy: 0.9140 - val_loss: 0.3346 - val_accuracy: 0.8635\n",
      "Epoch 9/10\n",
      "40/40 [==============================] - 29s 644ms/step - loss: 0.2069 - accuracy: 0.9200 - val_loss: 0.3275 - val_accuracy: 0.8714\n",
      "Epoch 10/10\n",
      "40/40 [==============================] - 29s 643ms/step - loss: 0.1953 - accuracy: 0.9242 - val_loss: 0.3296 - val_accuracy: 0.8670\n"
     ]
    }
   ],
   "source": [
    "history = clf.fit(dataset_train, epochs=10, verbose=1, validation_data=dataset_test)\n"
   ]
  },
  {
   "cell_type": "code",
   "execution_count": 34,
   "metadata": {},
   "outputs": [
    {
     "name": "stdout",
     "output_type": "stream",
     "text": [
      "10/10 [==============================] - 6s 212ms/step - loss: 0.3296 - accuracy: 0.8670\n"
     ]
    },
    {
     "data": {
      "text/plain": [
       "[0.32960501313209534, 0.8669999837875366]"
      ]
     },
     "execution_count": 34,
     "metadata": {},
     "output_type": "execute_result"
    }
   ],
   "source": [
    "clf.evaluate(dataset_test)"
   ]
  },
  {
   "cell_type": "code",
   "execution_count": 35,
   "metadata": {},
   "outputs": [
    {
     "data": {
      "image/png": "[encoded data removed]",
      "text/plain": [
       "<Figure size 1400x100 with 1 Axes>"
      ]
     },
     "metadata": {},
     "output_type": "display_data"
    },
    {
     "data": {
      "image/png": "[encoded data removed]",
      "text/plain": [
       "<Figure size 1400x100 with 1 Axes>"
      ]
     },
     "metadata": {},
     "output_type": "display_data"
    }
   ],
   "source": [
    "plt.figure(figsize=(14,1))\n",
    "plt.plot(history.history['loss'], label='loss')\n",
    "plt.plot(history.history['val_loss'], label='val_loss')\n",
    "plt.legend()\n",
    "plt.show()\n",
    "plt.figure(figsize=(14,1))\n",
    "plt.plot(history.history['accuracy'], label='accuracy')\n",
    "plt.plot(history.history['val_accuracy'], label='val_accuracy')\n",
    "plt.legend()\n",
    "plt.show()\n"
   ]
  },
  {
   "attachments": {},
   "cell_type": "markdown",
   "metadata": {},
   "source": [
    "## Exercício 4\n",
    "**Objetivo: salvar um modelo pré-treinado**\n",
    "\n",
    "Veja as instruções na [documentação do Keras](https://www.tensorflow.org/guide/keras/save_and_serialize?hl=pt-br) sobre como salvar um modelo pré-treinado.\n",
    "\n",
    "Modifique o código acima de forma que o treinamento gere dois modelos diferentes:\n",
    "\n",
    "1. Um extrator de features, que recebe como entrada uma lista de strings e retorna uma representação vetorial de cada uma das strings (isto é, executa a rede até antes da última camada densa),\n",
    "1. Um classificador, que corresponde à rede inteira.\n",
    "\n",
    "Após:\n",
    "\n",
    "1. Passe seu extrator de features para um colega.\n",
    "1. Use o extrator de features de outro colega, congele seus pesos, e treine um classificador usando seus próprios dados."
   ]
  },
  {
   "attachments": {},
   "cell_type": "markdown",
   "metadata": {},
   "source": []
  }
 ],
 "metadata": {
  "kernelspec": {
   "display_name": "math",
   "language": "python",
   "name": "python3"
  },
  "language_info": {
   "codemirror_mode": {
    "name": "ipython",
    "version": 3
   },
   "file_extension": ".py",
   "mimetype": "text/x-python",
   "name": "python",
   "nbconvert_exporter": "python",
   "pygments_lexer": "ipython3",
   "version": "3.10.9"
  },
  "orig_nbformat": 4
 },
 "nbformat": 4,
 "nbformat_minor": 2
}
