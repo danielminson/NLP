{
 "cells": [
  {
   "attachments": {},
   "cell_type": "markdown",
   "metadata": {},
   "source": [
    "# Datasets muito grandes"
   ]
  },
  {
   "attachments": {},
   "cell_type": "markdown",
   "metadata": {},
   "source": [
    "Neste momento, estamos tendo problemas ligados ao fato de que precisamos usar muito mais memória do que temos disponível para fazer caber os dados que estamos usando. Neste notebook, vamos usar a API do Keras para lidar com uma grande base de dados.\n",
    "\n",
    "\n",
    "## Exercício\n",
    "**Objetivo: entender como a base de dados deve ser armazenada**\n",
    "\n",
    "Até o momento, usamos bases de dados em grandes arquivos CSV. O problema desse tipo de abordagem é que precisaremos abrir arquivos muito grandes, e isso pode ocupar muita memória, tornando difícil treinarmos classificadores para nossa base.\n",
    "\n",
    "Analisando o código abaixo, identifique como a base de dados deve ficar organizada no computador para poder ser usada pela API do Keras."
   ]
  },
  {
   "cell_type": "code",
   "execution_count": null,
   "metadata": {},
   "outputs": [],
   "source": []
  },
  {
   "cell_type": "code",
   "execution_count": 1,
   "metadata": {},
   "outputs": [],
   "source": [
    "from keras.layers import Input, Dense, Activation, TimeDistributed, Softmax, TextVectorization, Reshape, RepeatVector, GRU, Conv1D, Bidirectional, AveragePooling1D, UpSampling1D, Embedding, Concatenate, GlobalAveragePooling1D, LSTM, Multiply\n",
    "from keras.models import Model,load_model\n",
    "import pandas as pd\n",
    "import os\n",
    "import re\n",
    "from tqdm import tqdm\n",
    "from sklearn.model_selection import train_test_split\n",
    "import tensorflow as tf\n",
    "import matplotlib.pyplot as plt\n"
   ]
  },
  {
   "cell_type": "code",
   "execution_count": 5,
   "metadata": {},
   "outputs": [],
   "source": [
    "\n",
    "df = pd.read_csv('datasets/IMDB Dataset.csv')\n",
    "DATASET_DIR = './datasets/frases_classificacao/'\n"
   ]
  },
  {
   "cell_type": "code",
   "execution_count": 6,
   "metadata": {},
   "outputs": [],
   "source": [
    "os.mkdir(DATASET_DIR)\n",
    "os.mkdir(DATASET_DIR + \"/train\")\n",
    "os.mkdir(DATASET_DIR + \"/train/positive\")\n",
    "os.mkdir(DATASET_DIR + \"/train/negative\")\n",
    "os.mkdir(DATASET_DIR + \"/test\")\n",
    "os.mkdir(DATASET_DIR + \"/test/positive\")\n",
    "os.mkdir(DATASET_DIR + \"/test/negative\")\n"
   ]
  },
  {
   "cell_type": "code",
   "execution_count": 7,
   "metadata": {},
   "outputs": [
    {
     "name": "stderr",
     "output_type": "stream",
     "text": [
      "100%|██████████| 40000/40000 [00:03<00:00, 11524.12it/s]\n",
      "100%|██████████| 10000/10000 [00:00<00:00, 13435.71it/s]"
     ]
    },
    {
     "name": "stdout",
     "output_type": "stream",
     "text": [
      "Criei textos: 50000\n"
     ]
    },
    {
     "name": "stderr",
     "output_type": "stream",
     "text": [
      "\n"
     ]
    }
   ],
   "source": [
    "reviews = df['review']\n",
    "labels = df['sentiment']\n",
    "x_train, x_test, y_train, y_test = train_test_split(reviews, labels, train_size=0.8)\n",
    "\n",
    "n_texto = 0\n",
    "for i in tqdm(range(len(y_train))):\n",
    "    texto = x_train.iloc[i]\n",
    "    fname = 'review_' + str(n_texto) + '.txt'\n",
    "    with open(DATASET_DIR + \"/train/\" + y_train.iloc[i] + \"/\" + fname, 'w') as f:\n",
    "        f.write(texto)\n",
    "        n_texto += 1\n",
    "\n",
    "for i in tqdm(range(len(y_test))):\n",
    "    texto = x_test.iloc[i]\n",
    "    fname = 'review_' + str(n_texto) + '.txt'\n",
    "    with open(DATASET_DIR + \"/test/\" + y_test.iloc[i] + \"/\" + fname, 'w') as f:\n",
    "        f.write(texto)\n",
    "        n_texto += 1\n",
    "\n",
    "print(\"Criei textos:\", n_texto)\n"
   ]
  },
  {
   "cell_type": "code",
   "execution_count": 8,
   "metadata": {},
   "outputs": [
    {
     "name": "stdout",
     "output_type": "stream",
     "text": [
      "Found 40000 files belonging to 2 classes.\n",
      "Metal device set to: Apple M1 Pro\n",
      "\n",
      "systemMemory: 16.00 GB\n",
      "maxCacheSize: 5.33 GB\n",
      "\n",
      "Found 10000 files belonging to 2 classes.\n"
     ]
    }
   ],
   "source": [
    "# Ler um dataset e fazer batches\n",
    "from tensorflow.keras.utils import text_dataset_from_directory\n",
    "\n",
    "dataset_train = text_dataset_from_directory(\n",
    "    DATASET_DIR + '/train',\n",
    "    labels='inferred',\n",
    "    label_mode='categorical',\n",
    "    class_names=None,\n",
    "    batch_size=1024,\n",
    "    max_length=None,\n",
    "    shuffle=True,\n",
    "    seed=None,\n",
    "    validation_split=None,\n",
    "    subset=None,\n",
    "    follow_links=False\n",
    ")\n",
    "\n",
    "dataset_test = text_dataset_from_directory(\n",
    "    DATASET_DIR+ '/test',\n",
    "    labels='inferred',\n",
    "    label_mode='categorical',\n",
    "    class_names=None,\n",
    "    batch_size=1024,\n",
    "    max_length=None,\n",
    "    shuffle=True,\n",
    "    seed=None,\n",
    "    validation_split=None,\n",
    "    subset=None,\n",
    "    follow_links=False\n",
    ")"
   ]
  },
  {
   "attachments": {},
   "cell_type": "markdown",
   "metadata": {},
   "source": [
    "## Exercício 2\n",
    "**Objetivo: entender como funciona a função .map()**\n",
    "\n",
    "Algumas vezes, precisamos fazer alguns tipos de pré-processamento na base de dados. Para isso, usamos o método `.map()`.  Para que ele é usado, e para que ele está sendo usado no contexto do código abaixo?"
   ]
  },
  {
   "cell_type": "code",
   "execution_count": 9,
   "metadata": {},
   "outputs": [
    {
     "name": "stderr",
     "output_type": "stream",
     "text": [
      "2023-05-02 10:22:59.829699: W tensorflow/tsl/platform/profile_utils/cpu_utils.cc:128] Failed to get CPU frequency: 0 Hz\n"
     ]
    }
   ],
   "source": [
    "from keras.layers import Input, TextVectorization\n",
    "from keras.models import Model\n",
    "\n",
    "def remover_label(x,label):\n",
    "    return x\n",
    "\n",
    "vocab_size = 10000\n",
    "vectorize_layer = TextVectorization(max_tokens=vocab_size, output_sequence_length=256)\n",
    "vectorize_layer.adapt(dataset_train.map(remover_label)) #preprocessamento, realiza separacao dos dados"
   ]
  },
  {
   "cell_type": "code",
   "execution_count": 10,
   "metadata": {},
   "outputs": [
    {
     "data": {
      "text/plain": [
       "['', '[UNK]', 'the', 'a', 'and', 'of', 'to', 'is', 'in', 'it']"
      ]
     },
     "execution_count": 10,
     "metadata": {},
     "output_type": "execute_result"
    }
   ],
   "source": [
    "vectorize_layer.get_vocabulary()[0:10]"
   ]
  },
  {
   "attachments": {},
   "cell_type": "markdown",
   "metadata": {},
   "source": [
    "## Exercício 3\n",
    "**Objetivo: usar um dataset para treinar uma rede neural de classificação**\n",
    "\n",
    "Analisando o código abaixo, identifique:\n",
    "\n",
    "1. Como usar um dataset para treinar uma rede neural de classificação de textos?\n",
    "1. Modifique o parâmetro `batch_size` na criação do dataset. Como isso influencia o tempo de execução e o resultado final?\n",
    "1. Por que não podemos usar `batch_size` infinitamente alto (ou: porque não devemos treinar usando o dataset inteiro em um único batch?)"
   ]
  },
  {
   "cell_type": "code",
   "execution_count": 11,
   "metadata": {},
   "outputs": [
    {
     "name": "stdout",
     "output_type": "stream",
     "text": [
      "Model: \"model_7\"\n",
      "_________________________________________________________________\n",
      " Layer (type)                Output Shape              Param #   \n",
      "=================================================================\n",
      " input_1 (InputLayer)        [(None, 1)]               0         \n",
      "                                                                 \n",
      " text_vectorization (TextVec  (None, 256)              0         \n",
      " torization)                                                     \n",
      "                                                                 \n",
      " projecao (Embedding)        (None, 256, 2)            20000     \n",
      "                                                                 \n",
      " ngramas (Functional)        (None, 128, 16)           96        \n",
      "                                                                 \n",
      " model (Functional)          (None, 64, 16)            768       \n",
      "                                                                 \n",
      " model_1 (Functional)        (None, 32, 16)            768       \n",
      "                                                                 \n",
      " model_2 (Functional)        (None, 16, 16)            768       \n",
      "                                                                 \n",
      " model_3 (Functional)        (None, 8, 16)             768       \n",
      "                                                                 \n",
      " model_4 (Functional)        (None, 4, 16)             768       \n",
      "                                                                 \n",
      " model_5 (Functional)        (None, 2, 16)             768       \n",
      "                                                                 \n",
      " model_6 (Functional)        (None, 1, 16)             768       \n",
      "                                                                 \n",
      " reshape (Reshape)           (None, 16)                0         \n",
      "                                                                 \n",
      " classificador (Dense)       (None, 2)                 34        \n",
      "                                                                 \n",
      " activation_8 (Activation)   (None, 2)                 0         \n",
      "                                                                 \n",
      "=================================================================\n",
      "Total params: 25,506\n",
      "Trainable params: 25,506\n",
      "Non-trainable params: 0\n",
      "_________________________________________________________________\n",
      "None\n"
     ]
    }
   ],
   "source": [
    "def convolve_and_downsample(input_n_samples, input_embedding_size, n_filters, kernel_size=3, **kwargs):\n",
    "    input_layer = Input(shape=(input_n_samples,input_embedding_size))\n",
    "    x = input_layer\n",
    "    x = Conv1D( filters=n_filters,\n",
    "                kernel_size=kernel_size,\n",
    "                padding='same',\n",
    "                use_bias=False,\n",
    "                )(x)\n",
    "    x = AveragePooling1D(pool_size=2)(x)\n",
    "    x = Activation('elu')(x)\n",
    "    return Model(input_layer, x, **kwargs)\n",
    "\n",
    "def deep_cnn_embedding_softmax_model(vectorize_layer, vocab_size=vocab_size, number_of_ngrams=16, n_gram_size=3):\n",
    "    input_layer = Input(shape=(1,), dtype=tf.string)\n",
    "    x = input_layer\n",
    "    x = vectorize_layer(x)\n",
    "    x = Embedding(vocab_size, 2, name='projecao')(x)\n",
    "    x = convolve_and_downsample(256, 2, number_of_ngrams, n_gram_size, name='ngramas')(x)\n",
    "    x = convolve_and_downsample(128, number_of_ngrams, number_of_ngrams, n_gram_size)(x)\n",
    "    x = convolve_and_downsample(64, number_of_ngrams, number_of_ngrams, n_gram_size)(x)\n",
    "    x = convolve_and_downsample(32, number_of_ngrams, number_of_ngrams, n_gram_size)(x)\n",
    "    x = convolve_and_downsample(16, number_of_ngrams, number_of_ngrams, n_gram_size)(x)\n",
    "    x = convolve_and_downsample(8, number_of_ngrams, number_of_ngrams, n_gram_size)(x)\n",
    "    x = convolve_and_downsample(4, number_of_ngrams, number_of_ngrams, n_gram_size)(x)\n",
    "    x = convolve_and_downsample(2, number_of_ngrams, number_of_ngrams, n_gram_size)(x)\n",
    "    x = Reshape( (-1,))(x)\n",
    "    x = Dense(2, name='classificador')(x)\n",
    "    x = Activation('softmax')(x)\n",
    "    return Model(input_layer, x)\n",
    "\n",
    "clf = deep_cnn_embedding_softmax_model(vectorize_layer)\n",
    "print(clf.summary())\n",
    "clf.compile(loss='categorical_crossentropy', metrics=['accuracy'])#necessario para rodar a operacao de fit\n"
   ]
  },
  {
   "cell_type": "code",
   "execution_count": 12,
   "metadata": {},
   "outputs": [
    {
     "name": "stdout",
     "output_type": "stream",
     "text": [
      "Epoch 1/10\n",
      "40/40 [==============================] - 19s 461ms/step - loss: 0.5644 - accuracy: 0.6950 - val_loss: 0.4709 - val_accuracy: 0.7841\n",
      "Epoch 2/10\n",
      "40/40 [==============================] - 19s 476ms/step - loss: 0.3744 - accuracy: 0.8357 - val_loss: 0.3644 - val_accuracy: 0.8466\n",
      "Epoch 3/10\n",
      "40/40 [==============================] - 19s 473ms/step - loss: 0.3104 - accuracy: 0.8692 - val_loss: 0.3376 - val_accuracy: 0.8603\n",
      "Epoch 4/10\n",
      "40/40 [==============================] - 21s 512ms/step - loss: 0.2690 - accuracy: 0.8903 - val_loss: 0.3931 - val_accuracy: 0.8232\n",
      "Epoch 5/10\n",
      "40/40 [==============================] - 20s 494ms/step - loss: 0.2510 - accuracy: 0.8987 - val_loss: 0.3123 - val_accuracy: 0.8713\n",
      "Epoch 6/10\n",
      "40/40 [==============================] - 19s 459ms/step - loss: 0.2286 - accuracy: 0.9106 - val_loss: 0.3450 - val_accuracy: 0.8621\n",
      "Epoch 7/10\n",
      "40/40 [==============================] - 20s 491ms/step - loss: 0.2139 - accuracy: 0.9178 - val_loss: 0.3272 - val_accuracy: 0.8721\n",
      "Epoch 8/10\n",
      "40/40 [==============================] - 20s 483ms/step - loss: 0.2041 - accuracy: 0.9225 - val_loss: 0.3279 - val_accuracy: 0.8680\n",
      "Epoch 9/10\n",
      "40/40 [==============================] - 21s 513ms/step - loss: 0.1940 - accuracy: 0.9264 - val_loss: 0.3422 - val_accuracy: 0.8651\n",
      "Epoch 10/10\n",
      "40/40 [==============================] - 22s 532ms/step - loss: 0.1845 - accuracy: 0.9298 - val_loss: 0.3779 - val_accuracy: 0.8706\n"
     ]
    }
   ],
   "source": [
    "history = clf.fit(dataset_train, epochs=10, verbose=1, validation_data=dataset_test)\n"
   ]
  },
  {
   "cell_type": "code",
   "execution_count": 14,
   "metadata": {},
   "outputs": [
    {
     "name": "stdout",
     "output_type": "stream",
     "text": [
      "15/15 [==============================] - 3s 97ms/step - loss: 0.2902 - accuracy: 0.8883\n"
     ]
    },
    {
     "data": {
      "text/plain": [
       "[0.2902057468891144, 0.888261079788208]"
      ]
     },
     "execution_count": 14,
     "metadata": {},
     "output_type": "execute_result"
    }
   ],
   "source": [
    "clf.evaluate(dataset_test)"
   ]
  },
  {
   "cell_type": "code",
   "execution_count": 13,
   "metadata": {},
   "outputs": [
    {
     "data": {
      "image/png": "[encoded data removed]",
      "text/plain": [
       "<Figure size 1400x100 with 1 Axes>"
      ]
     },
     "metadata": {},
     "output_type": "display_data"
    },
    {
     "data": {
      "image/png": "[encoded data removed]",
      "text/plain": [
       "<Figure size 1400x100 with 1 Axes>"
      ]
     },
     "metadata": {},
     "output_type": "display_data"
    }
   ],
   "source": [
    "plt.figure(figsize=(14,1))\n",
    "plt.plot(history.history['loss'], label='loss')\n",
    "plt.plot(history.history['val_loss'], label='val_loss')\n",
    "plt.legend()\n",
    "plt.show()\n",
    "plt.figure(figsize=(14,1))\n",
    "plt.plot(history.history['accuracy'], label='accuracy')\n",
    "plt.plot(history.history['val_accuracy'], label='val_accuracy')\n",
    "plt.legend()\n",
    "plt.show()\n"
   ]
  },
  {
   "attachments": {},
   "cell_type": "markdown",
   "metadata": {},
   "source": [
    "## Exercício 4\n",
    "**Objetivo: salvar um modelo pré-treinado**\n",
    "\n",
    "Veja as instruções na [documentação do Keras](https://www.tensorflow.org/guide/keras/save_and_serialize?hl=pt-br) sobre como salvar um modelo pré-treinado.\n",
    "\n",
    "Modifique o código acima de forma que o treinamento gere dois modelos diferentes:\n",
    "\n",
    "1. Um extrator de features, que recebe como entrada uma lista de strings e retorna uma representação vetorial de cada uma das strings (isto é, executa a rede até antes da última camada densa),\n",
    "1. Um classificador, que corresponde à rede inteira.\n",
    "\n",
    "Após:\n",
    "\n",
    "1. Passe seu extrator de features para um colega.\n",
    "1. Use o extrator de features de outro colega, congele seus pesos, e treine um classificador usando seus próprios dados."
   ]
  },
  {
   "cell_type": "code",
   "execution_count": 14,
   "metadata": {},
   "outputs": [
    {
     "name": "stderr",
     "output_type": "stream",
     "text": [
      "WARNING:absl:Found untraced functions such as _jit_compiled_convolution_op, _jit_compiled_convolution_op, _jit_compiled_convolution_op, _jit_compiled_convolution_op, _jit_compiled_convolution_op while saving (showing 5 of 8). These functions will not be directly callable after loading.\n"
     ]
    },
    {
     "name": "stdout",
     "output_type": "stream",
     "text": [
      "INFO:tensorflow:Assets written to: encoder-maco/assets\n"
     ]
    },
    {
     "name": "stderr",
     "output_type": "stream",
     "text": [
      "INFO:tensorflow:Assets written to: encoder-maco/assets\n"
     ]
    }
   ],
   "source": [
    "def encoder(vectorize_layer, vocab_size=vocab_size, number_of_ngrams=16, n_gram_size=3):#para encontrar o espaço latente\n",
    "    input_layer = Input(shape=(1,), dtype=tf.string)\n",
    "    x = input_layer\n",
    "    x = vectorize_layer(x)\n",
    "    x = Embedding(vocab_size, 2, name='projecao')(x)\n",
    "    x = convolve_and_downsample(256, 2, number_of_ngrams, n_gram_size, name='ngramas')(x)\n",
    "    x = convolve_and_downsample(128, number_of_ngrams, number_of_ngrams, n_gram_size)(x)\n",
    "    x = convolve_and_downsample(64, number_of_ngrams, number_of_ngrams, n_gram_size)(x)\n",
    "    x = convolve_and_downsample(32, number_of_ngrams, number_of_ngrams, n_gram_size)(x)\n",
    "    x = convolve_and_downsample(16, number_of_ngrams, number_of_ngrams, n_gram_size)(x)\n",
    "    x = convolve_and_downsample(8, number_of_ngrams, number_of_ngrams, n_gram_size)(x)\n",
    "    x = convolve_and_downsample(4, number_of_ngrams, number_of_ngrams, n_gram_size)(x)\n",
    "    x = convolve_and_downsample(2, number_of_ngrams, number_of_ngrams, n_gram_size)(x)\n",
    "    x = Reshape( (-1,))(x)\n",
    "    return Model(input_layer, x)\n",
    "model = deep_cnn_embedding_softmax_model(vectorize_layer)\n",
    "model.compile(loss='categorical_crossentropy', metrics=['accuracy'])\n",
    "\n",
    "model.save('encoder-maco')\n"
   ]
  },
  {
   "cell_type": "code",
   "execution_count": 20,
   "metadata": {},
   "outputs": [
    {
     "name": "stderr",
     "output_type": "stream",
     "text": [
      "WARNING:absl:Found untraced functions such as _update_step_xla, _jit_compiled_convolution_op, _jit_compiled_convolution_op, _jit_compiled_convolution_op, _jit_compiled_convolution_op while saving (showing 5 of 9). These functions will not be directly callable after loading.\n"
     ]
    },
    {
     "name": "stdout",
     "output_type": "stream",
     "text": [
      "INFO:tensorflow:Assets written to: modelos\\assets\n"
     ]
    },
    {
     "name": "stderr",
     "output_type": "stream",
     "text": [
      "INFO:tensorflow:Assets written to: modelos\\assets\n"
     ]
    }
   ],
   "source": [
    "def decoder(vectorize_layer, vocab_size=vocab_size, number_of_ngrams=16, n_gram_size=3):#sai classificacao\n",
    "    input_layer = Input(shape=(1,), dtype=tf.string)\n",
    "    x = input_layer\n",
    "    x = Dense(2, name='classificador')(x)\n",
    "    x = Activation('softmax')(x)\n",
    "    return Model(input_layer, x)\n",
    "model2 = deep_cnn_embedding_softmax_model(vectorize_layer)\n",
    "model2.compile(loss='categorical_crossentropy', metrics=['accuracy'])\n",
    "\n",
    "model2.save('modelos')\n"
   ]
  },
  {
   "cell_type": "code",
   "execution_count": 26,
   "metadata": {},
   "outputs": [],
   "source": [
    "model_pedro = load_model('modelo_drone')\n"
   ]
  },
  {
   "attachments": {},
   "cell_type": "markdown",
   "metadata": {},
   "source": []
  }
 ],
 "metadata": {
  "kernelspec": {
   "display_name": "nlp",
   "language": "python",
   "name": "python3"
  },
  "language_info": {
   "codemirror_mode": {
    "name": "ipython",
    "version": 3
   },
   "file_extension": ".py",
   "mimetype": "text/x-python",
   "name": "python",
   "nbconvert_exporter": "python",
   "pygments_lexer": "ipython3",
   "version": "3.9.16"
  },
  "orig_nbformat": 4,
  "vscode": {
   "interpreter": {
    "hash": "1ffafd7343276c1e494c2d5178ed8c29939e914ccc66e6ee62167905f81278b7"
   }
  }
 },
 "nbformat": 4,
 "nbformat_minor": 2
}
