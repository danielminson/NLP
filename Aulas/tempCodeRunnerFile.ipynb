from sklearn.feature_extraction.text import TfidfVectorizer
import numpy as np

vectorizer = TfidfVectorizer(max_features=10000)
tfidf = vectorizer.fit_transform(df['Plot'])
print(vectorizer.vocabulary_)