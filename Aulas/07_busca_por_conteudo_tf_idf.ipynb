{
 "cells": [
  {
   "attachments": {},
   "cell_type": "markdown",
   "metadata": {},
   "source": [
    "# TF-IDF e busca por conteúdo\n",
    "\n",
    "Nesta atividade, vamos lidar com a seguinte situação: temos um grande banco de dados com textos, e queremos encontrar qual texto é mais relevante para uma consulta. Esse problema aparece em buscadores como Google, e também em sistemas locais como ElasticSearch."
   ]
  },
  {
   "cell_type": "code",
   "execution_count": 2,
   "metadata": {},
   "outputs": [
    {
     "name": "stdout",
     "output_type": "stream",
     "text": [
      "                           Title  \\\n",
      "17961              Banglar Nayok   \n",
      "28811             Badmash Gujjar   \n",
      "6641           Runaway Daughters   \n",
      "17191                    Get Out   \n",
      "7970   The Flight of the Phoenix   \n",
      "\n",
      "                                                    Plot  \n",
      "17961  Press reporter old man 'Anowar Hossain' (Anowa...  \n",
      "28811  Shaan is a charming, rustic, God-fearing local...  \n",
      "6641   Audrey Barton is the teen daughter of rich, ir...  \n",
      "17191  African-American photographer Chris Washington...  \n",
      "7970   Frank Towns (James Stewart) is the pilot of a ...   1000\n"
     ]
    }
   ],
   "source": [
    "import pandas as pd\n",
    "\n",
    "DATASET = 'datasets/wikipedia_movies.zip'\n",
    "df = pd.read_csv(DATASET).sample(1000)\n",
    "df = df[['Title', 'Plot']]\n",
    "print(df.head(), len(df))"
   ]
  },
  {
   "attachments": {},
   "cell_type": "markdown",
   "metadata": {},
   "source": [
    "## Exercício 1\n",
    "**Objetivo: lembrar-se do que é TF e o que é DF**\n",
    "\n",
    "Identifique o Term Frequency e o Document Frequency nas asserções abaixo:\n",
    "\n",
    "1. Quanto maior o ___, mais comum é a palavra entre os documentos de uma coleção\n",
    "1. Quanto maior o ___, mais vezes a palavra é mencionada num documento específico\n",
    "1. $P(w | \\text{documento})$\n",
    "1. $P(w | \\text{coleção})$\n",
    "1. Ajuda a identificar a coleção da qual um documento faz parte\n",
    "1. Ajuda a identificar um documento dentro de uma coleção"
   ]
  },
  {
   "attachments": {},
   "cell_type": "markdown",
   "metadata": {},
   "source": [
    "1: DF\n",
    "2: DF\n",
    "3: TF\n",
    "4: DF\n",
    "5: DF\n",
    "6: TF"
   ]
  },
  {
   "attachments": {},
   "cell_type": "markdown",
   "metadata": {},
   "source": [
    "## Exercício 2\n",
    "**Objetivo: refletir sobre o uso de TF-IDF**\n",
    "\n",
    "A medida TFIDF diz o quão relevante um documento é dentro de uma coleção e em relação a uma palavra específica. Ela é calculada para um par palavra-documento como:\n",
    "\n",
    "$\\text{TFIDF = TF / DF}$\n",
    "\n",
    "Quando um documento tem um TFIDF alto em relação a uma palavra, isso significa que:\n",
    "\n",
    "1. A palavra tende a ser (comum / incomum)\n",
    "1. O documento menciona a palavras (muitas / poucas) vezes\n",
    "\n",
    "Portanto, qual seria uma maneira de escrever um documento que tem intencionalmente um TFIDF alto para uma palavra?"
   ]
  },
  {
   "attachments": {},
   "cell_type": "markdown",
   "metadata": {},
   "source": [
    "## Exercício 3\n",
    "**Objetivo: calcular TFIDF para documentos usando sklearn**\n",
    "\n",
    "TFIDF pode ser entendido como um processo de vetorização, semelhante a usar o CountVectorizer. Abaixo, há um código que mostra um exemplo dessa vetorização usando sklearn. \n",
    "\n",
    "1. Escolhendo um filme aleatório da coleção que carregamos, identifique o TFIDF das palavras \"zombie\", \"fungus\" e \"survival\".\n",
    "1. Identifique o filme que tem o maior TFIDF para a palavra \"zombie\"."
   ]
  },
  {
   "cell_type": "code",
   "execution_count": 3,
   "metadata": {},
   "outputs": [],
   "source": [
    "from sklearn.feature_extraction.text import TfidfVectorizer\n",
    "import numpy as np\n",
    "\n",
    "vectorizer = TfidfVectorizer(max_features=10000)\n",
    "tfidf = vectorizer.fit_transform(df['Plot'])\n",
    "# print(vectorizer.vocabulary_)\n"
   ]
  },
  {
   "cell_type": "code",
   "execution_count": 4,
   "metadata": {},
   "outputs": [
    {
     "name": "stdout",
     "output_type": "stream",
     "text": [
      "Banglar Nayok 0.0\n"
     ]
    }
   ],
   "source": [
    "n_filme = 0\n",
    "j = vectorizer.vocabulary_['assistant']\n",
    "print(df.iloc[n_filme]['Title'], tfidf[n_filme, j])"
   ]
  },
  {
   "cell_type": "code",
   "execution_count": 5,
   "metadata": {},
   "outputs": [
    {
     "name": "stdout",
     "output_type": "stream",
     "text": [
      "Downstream 0.22901642371244585\n",
      "A detective goes undercover by taking a job as a bargee in order to prevent a woman's death.[2]\n"
     ]
    }
   ],
   "source": [
    "TERMO_DE_BUSCA = \"death\"\n",
    "j =  vectorizer.vocabulary_[TERMO_DE_BUSCA]\n",
    "m = 0\n",
    "m_max = 0\n",
    "m_i = 0\n",
    "for n_filme in range(tfidf.shape[0]):\n",
    "    m = tfidf[n_filme, j]\n",
    "    if m>m_max:\n",
    "        m_max = m\n",
    "        m_i = n_filme\n",
    "\n",
    "print(df.iloc[m_i]['Title'], tfidf[m_i, j])\n",
    "print(df.iloc[m_i]['Plot'])"
   ]
  },
  {
   "cell_type": "code",
   "execution_count": 6,
   "metadata": {},
   "outputs": [
    {
     "name": "stdout",
     "output_type": "stream",
     "text": [
      "Downstream 0.22901642371244585\n",
      "A detective goes undercover by taking a job as a bargee in order to prevent a woman's death.[2]\n"
     ]
    }
   ],
   "source": [
    "TERMO_DE_BUSCA = \"death\"\n",
    "j =  vectorizer.vocabulary_[TERMO_DE_BUSCA]\n",
    "local_tfidf = tfidf[:,j]\n",
    "m_i = np.argmax(local_tfidf)\n",
    "m_max = local_tfidf[m_i]\n",
    "\n",
    "print(df.iloc[m_i]['Title'], tfidf[m_i, j])\n",
    "print(df.iloc[m_i]['Plot'])"
   ]
  },
  {
   "attachments": {},
   "cell_type": "markdown",
   "metadata": {},
   "source": [
    "## Exercício 4\n",
    "**Objetivo: implementar uma busca por vários termos simultaneamente**\n",
    "\n",
    "Uma possível maneira de implementar uma busca por vários termos é somar o TFIDF de todas as palavras da query para cada documento da coleção, e então retornar o documento que tem a maior soma. Por exemplo, numa busca por \"zombie fungus survival\" deveríamos somar, para cada documento, o TFIDF de \"zombie\", de \"fungus\" e de \"survival\" e então ordenar o resultado.\n",
    "\n",
    "1. Escreva código que implemente uma busca na base de dados de filmes à partir de uma query específica.\n",
    "1. Qual é a complexidade ($O(...)$) da sua busca?"
   ]
  },
  {
   "cell_type": "code",
   "execution_count": 7,
   "metadata": {},
   "outputs": [
    {
     "name": "stdout",
     "output_type": "stream",
     "text": [
      "Banglar Nayok \n",
      "----\n",
      "Press reporter old man 'Anowar Hossain' (Anowar Hossain) published the daily news paper an most wanted criminal 'Rowshan Chowdhury’s' (Ahmed Sharif) criminal effect. After someday Rowshan Chowdhury killed Press reporter Anowar Hossain and his adolescent 'Rokeya' (Shabana) promises with him these killers take most punishment venture. After 12 year Rokeya gets be a professional lawyer. And a competitor mafia 'Don' (Jashim) he can trust to arms is all power with encouragement, also Rokeya with encouragement can trust to pen is all power. Rokeya’s small brother 'Munna' (Riaz) student of a university and 'Jully' (Sonia) also same university student. First time botheration with these duo and second time through the love relation. But Jully’s brother accepts it not.Rowshan Chowdhury and Don now start a war for take Don place.Don's sister Jully has gone to her lover Munna.Don losts his Don place to save his sister.Don now not Don he is now Banglar Nayok. 'Banglar Nayok' at the present so far the previous career now he has got back normal life living with Rokeya, Jully and Munna. Finished the story as 'Banglar Nayok' finally killed most wanted criminal Rowshan Chowdhury at the end. Reciprocally live all are.\n"
     ]
    }
   ],
   "source": [
    "import re\n",
    "query = \"zombie fungus survival\"\n",
    "\n",
    "palavras = re.findall(\"\\w+\", query)\n",
    "# print(palavras)\n",
    "# Implemente sua solução aqui\n",
    "j = [vectorizer.vocabulary_[t] for t in palavras if t in vectorizer.vocabulary_.keys()]\n",
    "local_tfidf = tfidf[:,j].todense()\n",
    "local_tfidf = np.min(local_tfidf, axis=1)\n",
    "\n",
    "m_i = np.argmax(local_tfidf)\n",
    "m_max = local_tfidf[m_i]\n",
    "\n",
    "print(df.iloc[m_i]['Title'], tfidf[m_i, j])\n",
    "print(\"----\")\n",
    "print(df.iloc[m_i]['Plot'])"
   ]
  },
  {
   "cell_type": "code",
   "execution_count": 8,
   "metadata": {},
   "outputs": [
    {
     "name": "stdout",
     "output_type": "stream",
     "text": [
      "Downstream 0.22901642371244585\n",
      "A detective goes undercover by taking a job as a bargee in order to prevent a woman's death.[2]\n"
     ]
    }
   ],
   "source": [
    "j =  vectorizer.vocabulary_[TERMO_DE_BUSCA]\n",
    "local_tfidf = tfidf[:,j]\n",
    "\n",
    "m_i = np.argmax(local_tfidf)\n",
    "m_max = local_tfidf[m_i]\n",
    "\n",
    "print(df.iloc[m_i]['Title'], tfidf[m_i, j])\n",
    "print(df.iloc[m_i]['Plot'])"
   ]
  },
  {
   "attachments": {},
   "cell_type": "markdown",
   "metadata": {},
   "source": [
    "## Exercício 5\n",
    "**Objetivo: implementar um índice invertido**\n",
    "\n",
    "Você provavelmente reparou (talvez não tenha reparado, e é tudo bem) que, para fazer a busca, até agora, teve que varrer todos os documentos da sua coleção. Isso provavelmente levaria algum tempo, especialmente quando a coleção começa a aumentar. Para evitar ter que varrer todos os documentos da coleção, podemos implementar uma técnica chamada *índice invertido*. A ideia do índice invertido é usar um dicionário cujas chaves são as palavras do vocabulário e cujo conteúdo é uma lista de documentos que contém essa palavra, possivelmente acompanhados do TFIDF correspondente. Por exemplo:"
   ]
  },
  {
   "cell_type": "code",
   "execution_count": 9,
   "metadata": {},
   "outputs": [
    {
     "data": {
      "text/plain": [
       "{'documento_1': 0.5, 'documento_2': 0.7, 'documento_3': 0.7}"
      ]
     },
     "execution_count": 9,
     "metadata": {},
     "output_type": "execute_result"
    }
   ],
   "source": [
    "indice = { 'palavra_1' : {'documento_1': 0.5, 'documento_2': 0.1}, \n",
    "          'palavra_2' : {'documento_2': 0.6},\n",
    "            'equalization' : {'documento_3': 0.7}    }\n",
    "\n",
    "def buscar(palavras, indice):\n",
    "    assert type(palavras)==list\n",
    "    resultado = dict()\n",
    "    for p in palavras:\n",
    "        if p in indice.keys():\n",
    "            for documento in indice[p].keys():\n",
    "                if documento not in resultado.keys():\n",
    "                    resultado[documento] = indice[p][documento]\n",
    "                else:\n",
    "                    resultado[documento] += indice[p][documento]\n",
    "    return resultado\n",
    "\n",
    "buscar(['palavra_1', 'palavra_2', 'equalization'], indice)#retornando a relevancia de documentos para a query"
   ]
  },
  {
   "attachments": {},
   "cell_type": "markdown",
   "metadata": {},
   "source": [
    "1. Adicione uma nova palavra ao índice e escolha seu TFIDF. Realize uma nova busca e verifique o resultado.\n",
    "1. Escreva uma função que ordena o resultado e retorna apenas `N` documentos mais relevantes para sua busca.\n",
    "1. Incremente sua biblioteca de forma que ela passe a receber uma string como entrada (representando a query) e retorne os `N` documentos mais relevantes (`N` pode ser definido arbitrariamente)."
   ]
  },
  {
   "cell_type": "code",
   "execution_count": 13,
   "metadata": {},
   "outputs": [
    {
     "name": "stdout",
     "output_type": "stream",
     "text": [
      "[(0.7, 'documento_2'), (0.5, 'documento_1')]\n",
      "[(0.7, 'documento_2'), (0.5, 'documento_1')]\n"
     ]
    }
   ],
   "source": [
    "# versao original alterada para ter funcao de encontrar n_maiores\n",
    "indice = { 'palavra_1' : {'documento_1': 0.5, 'documento_2': 0.1}, \n",
    "          'palavra_2' : {'documento_2': 0.6}    }\n",
    "\n",
    "def buscar(palavras, indice):\n",
    "    assert type(palavras)==list\n",
    "    resultado = dict()\n",
    "    for p in palavras:\n",
    "        if p in indice.keys():\n",
    "            for documento in indice[p].keys():\n",
    "                if documento not in resultado.keys():\n",
    "                    resultado[documento] = indice[p][documento]\n",
    "                else:\n",
    "                    resultado[documento] += indice[p][documento]\n",
    "    return resultado\n",
    "\n",
    "res = buscar(['palavra_1', 'palavra_2'], indice)#retornando a relevancia de documentos para a query\n",
    "\n",
    "def n_maiores(res_busca, n):\n",
    "    res = []\n",
    "    for k in res_busca.keys():\n",
    "        res.append((res_busca[k],k))\n",
    "    res = sorted(res, reverse = True)[0:n]\n",
    "    return res\n",
    "\n",
    "print(n_maiores(res, 2))\n",
    "\n",
    "def query(query_string, n, indice):\n",
    "    palavras = re.findall('\\w+', query_string)\n",
    "    res = buscar(palavras, indice)\n",
    "    res_n = n_maiores(res, n)\n",
    "    return res_n\n",
    "\n",
    "print(query(\"palavra_1 palavra_2 equalization\", 2, indice))"
   ]
  },
  {
   "attachments": {},
   "cell_type": "markdown",
   "metadata": {},
   "source": [
    "## Exercício 6\n",
    "**Objetivo: implementar um buscador de filmes**\n",
    "\n",
    "Implemente uma função que recebe como entrada uma query e retorna os títulos e enredos dos 5 filmes mais relevantes para aquela query. Se precisar, use mais parâmetros ou variáveis globais. Teste a sua função e veja se você concorda com os resultados, incluindo se você consegue encontrar seus filmes favoritos e se consegue alguma recomendação relevante a um filme novo."
   ]
  },
  {
   "cell_type": "code",
   "execution_count": 11,
   "metadata": {},
   "outputs": [
    {
     "name": "stderr",
     "output_type": "stream",
     "text": [
      "100%|██████████| 10000/10000 [01:13<00:00, 135.78it/s]\n"
     ]
    }
   ],
   "source": [
    "from tqdm import tqdm\n",
    "indice_filmes = dict()\n",
    "\n",
    "for w in tqdm(vectorizer.vocabulary_.keys()):\n",
    "    indice_filmes[w] = dict()\n",
    "    for j in range(tfidf.shape[0]):\n",
    "        if(tfidf[j, vectorizer.vocabulary_[w]])>0:\n",
    "            indice_filmes[w][j] = tfidf[j, vectorizer.vocabulary_[w]]\n",
    "def query_movies(query : str):\n",
    "    pass"
   ]
  },
  {
   "attachments": {},
   "cell_type": "markdown",
   "metadata": {},
   "source": []
  },
  {
   "cell_type": "code",
   "execution_count": 14,
   "metadata": {},
   "outputs": [
    {
     "name": "stdout",
     "output_type": "stream",
     "text": [
      "The Madness of King George\n",
      "The film depicts the ordeal of King George III whose bout of madness in 1788 touched off the Regency Crisis of 1788, triggering a power struggle between factions of Parliament under the conservative William Pitt the Younger and the reform-minded Charles James Fox.\n",
      "At first, the King's habits appear mildly eccentric, and are purposely ignored for reasons of state. The King is seen as being highly concerned with the wellbeing and productivity of England, and continually exhibits an encyclopedic knowledge of the families of even the most obscure royal appointments. In fact, the King is growing more unsettled, largely over the loss of America. George, his oldest son, aggravates the situation, knowing that he would be named regent in the event the King was found incapacitated. George chafes under his father's repeated criticism, but also hopes for regency to allow him greater freedom to marry his Catholic mistress. George also knows that he has the moral support of Charles Fox, who is eager to put across an agenda unlikely to pass under the current administration, including abolition of the slave trade and friendlier relations with America. Knowing that the King’s behavior is exacerbated in public, the Prince arranges for a concert playing the music of Handel. The King reacts as expected, interrupting the musicians, acting inappropriately towards Lady Pembroke, attendant to the Queen, and finally assaulting his son.\n",
      "The King's madness is treated using the relatively primitive medical practices of the time, which include blistering and purges, led on particularly by the Prince of Wales' personal physician, Dr. Warren. Eventually, Lady Pembroke recommends Dr Willis, an ex-minister who attempts to cure the insane through new procedures, and who begins his restoration of the King's mental state by enforcing a strict regime of strapping the King into a waistcoat and restraining him whenever he shows signs of his insanity or otherwise resists recovery.\n",
      "Meanwhile, the opposition led by Charles James Fox, confronts Prime Minister William Pitt the Younger's increasingly unpopular government with a bill that would give the Prince powers of regency. Meanwhile, Baron Thurlow, the Lord Chancellor, discovers that the Prince was secretly and illegally married to his Catholic mistress. Thurlow pays the minister to keep his mouth shut, and himself tears out a record of the marriage from church rolls.\n",
      "The King soon shows signs of recovery, becoming less eccentric and arrives in Parliament in time to thwart passage of the Regency bill. Restored, the King asserts control over his family, forcing the Prince to “put away” his mistress. With the crisis averted, those who had been closest to the king are summarily dismissed from service, including Dr Willis. During conversations with Pitt, the King appears more at ease and in control of himself. He is less antagonized by America, but also shows signs that his insanity remains.\n",
      "--\n",
      "Radio Flyer\n",
      "Mike observes his two sons fighting; with one insisting that a promise doesn't mean anything. To make them understand that a promise does mean something, he tells them the story of his youth. Mike, his little brother, Bobby, their mother, Mary, and their German Shepherd, Shane, all move to a new town after their father/husband leaves them. There, Mary marries a new man, Jack, who likes the others to call him \"The King\". Unbeknownst to Mary, the King is an alcoholic who often gets drunk and beats Bobby.\n",
      "The two boys, seeing that Mary has found happiness at last with the King, are reluctant to tell either her or the police about the abuse. They instead try to avoid the King by exploring and having adventures amidst the turmoil and traumatic experiences. In the process, the two devise a plan for Bobby to escape the King once and for all.\n",
      "Inspired by the urban legend of a boy named Fisher who attempted to fly away on his bicycle, the two convert their eponymous Radio Flyer toy wagon into an airplane. With it, Bobby flies away. Though Mike never sees him again, he continues to receive postcards from him from places all over the world.\n",
      "--\n",
      "Vanangamudi\n",
      "The film revolves around a king (M. K. Radha) and a talented sculptor (Sivaji Ganesan). Chitrashilpi, the sculptor, could make stones sing and dance with his artistic touch. Son of the king's bodyguard (Nagaiah), whose kind-hearted wife is played by Kannamba, he meets the princess (Savitri) in a forest and falls in love with her. However, each is not aware of the other's identity.\n",
      "Enters the villain (Nambiar) who has an eye on the throne and the princess. He has a mistress — a court dancer with a heart of gold (Rajasulochana). He employees all the tricks in his bag to get his desire fulfilled. He throws the sculptor in prison and introduces a princess-look-alike, a tribal girl (Savitri, again) and pulls the wool over the eyes of the king and marries the fake princess!\n",
      "After many events, somewhat predictable, the hero exposes the villain and happiness is restored in the royal family.\n",
      "--\n"
     ]
    }
   ],
   "source": [
    "res = query(\"king\", 3, indice_filmes)\n",
    "for n in res:\n",
    "    print(df.iloc[n[1]]['Title'])\n",
    "    print(df.iloc[n[1]]['Plot'])\n",
    "    print(\"--\")"
   ]
  },
  {
   "attachments": {},
   "cell_type": "markdown",
   "metadata": {},
   "source": [
    "## Exercício 7\n",
    "**Objetivo: identificar palavras-chave usando TFIDF**\n",
    "\n",
    "Uma outra aplicação de TFIDF é encontrar palavras-chave, isto é, palavras que diferenciam um documento do restante dos documentos de sua coleção.\n",
    "\n",
    "Incremente seu buscador de forma que, além do título e enredo, ele também escolha as algumas palavras (escolha quantas!) mais relevantes de cada documento e as imprima como keywords."
   ]
  },
  {
   "cell_type": "code",
   "execution_count": null,
   "metadata": {},
   "outputs": [],
   "source": []
  },
  {
   "cell_type": "markdown",
   "metadata": {},
   "source": []
  },
  {
   "attachments": {},
   "cell_type": "markdown",
   "metadata": {},
   "source": [
    "## Exercício 8\n",
    "**Objetivo: encontrar documentos semelhantes usando TFIDF**\n",
    "\n",
    "Uma maneira de encontrar documentos semelhantes em uma coleção de textos é assumir que o texto do documento é uma query, e então realizar a busca normalmente. O problema disso é que provavelmente teríamos textos muito longos e a query ficaria muito carregada. Para solucionar isso, poderíamos usar apenas as palavras mais relevantes de um documento como query. Implemente uma função que recebe o índice (ou outro identificador único) de um documento de nosso banco de dados e então encontra 5 documentos semelhantes a ele."
   ]
  },
  {
   "cell_type": "markdown",
   "metadata": {},
   "source": []
  }
 ],
 "metadata": {
  "kernelspec": {
   "display_name": "nlp",
   "language": "python",
   "name": "python3"
  },
  "language_info": {
   "codemirror_mode": {
    "name": "ipython",
    "version": 3
   },
   "file_extension": ".py",
   "mimetype": "text/x-python",
   "name": "python",
   "nbconvert_exporter": "python",
   "pygments_lexer": "ipython3",
   "version": "3.10.8"
  },
  "orig_nbformat": 4
 },
 "nbformat": 4,
 "nbformat_minor": 2
}
