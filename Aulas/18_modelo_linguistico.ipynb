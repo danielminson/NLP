{
 "cells": [
  {
   "attachments": {},
   "cell_type": "markdown",
   "metadata": {},
   "source": [
    "# Modelo linguístico"
   ]
  },
  {
   "attachments": {},
   "cell_type": "markdown",
   "metadata": {},
   "source": [
    "Modelos Seq2Seq mapeiam sequências de tokens para outras sequências de tokens. Em geral, eles têm um par encoder-decoder. O encoder mapeia uma sequência inteira para "
   ]
  },
  {
   "cell_type": "code",
   "execution_count": 1,
   "metadata": {},
   "outputs": [],
   "source": [
    "from keras.layers import Input, Dense, Activation, TimeDistributed, Softmax, TextVectorization, Reshape, RepeatVector, Conv1D, Bidirectional, AveragePooling1D, UpSampling1D, Embedding, Concatenate, GlobalAveragePooling1D, LSTM, Multiply\n",
    "from keras.models import Model\n",
    "import tensorflow as tf\n",
    "import keras\n",
    "import numpy as np"
   ]
  },
  {
   "cell_type": "code",
   "execution_count": 28,
   "metadata": {},
   "outputs": [],
   "source": [
    "# Refazer estrutura do dataset: uma frase por arquivo, arquivos em um diretorio\n",
    "import pandas as pd\n",
    "import os\n",
    "import re\n",
    "from tqdm import tqdm\n",
    "\n",
    "#df = pd.read_csv('datasets/IMDB Dataset.csv')\n",
    "#DATASET_DIR = './frases_imdb/'\n",
    "# DATASET_DIR = './datasets/frases/'\n",
    "DATASET_DIR = './datasets/frases_classificacao/train/positive/'\n"
   ]
  },
  {
   "cell_type": "code",
   "execution_count": 29,
   "metadata": {},
   "outputs": [],
   "source": [
    "\n",
    "# n_texto = 0\n",
    "# for i in tqdm(range(len(df))):\n",
    "#     texto = df.iloc[i]['review']\n",
    "#     #print(texto)\n",
    "#     texto = texto.replace('<br />', '.')\n",
    "#     #texto = re.sub(r'[\\n \\t][\\n \\t][\\n \\t]+', '.', texto)\n",
    "#     texto = re.split(r'[.!?\\n\\t-]', texto)\n",
    "#     #print(texto)\n",
    "#     for t in texto:\n",
    "\n",
    "#         t = t.lstrip().rstrip()\n",
    "#         if len(t) > 5:\n",
    "#             #print(t)\n",
    "#             fname = 'review_' + str(n_texto) + '.txt'\n",
    "#             with open(DATASET_DIR + fname, 'w') as f:\n",
    "#                 f.write(t)\n",
    "#             n_texto += 1\n",
    "\n",
    "# print(\"Criei textos:\", n_texto)\n"
   ]
  },
  {
   "cell_type": "code",
   "execution_count": 30,
   "metadata": {},
   "outputs": [
    {
     "name": "stdout",
     "output_type": "stream",
     "text": [
      "Found 19937 files belonging to 1 classes.\n"
     ]
    }
   ],
   "source": [
    "# Ler um dataset e fazer batches\n",
    "from tensorflow.keras.utils import text_dataset_from_directory\n",
    "\n",
    "dataset = text_dataset_from_directory(\n",
    "    DATASET_DIR,\n",
    "    labels=None,\n",
    "    label_mode='int',\n",
    "    class_names=None,\n",
    "    batch_size=2048,\n",
    "    max_length=None,\n",
    "    shuffle=True,\n",
    "    seed=None,\n",
    "    validation_split=None,\n",
    "    subset=None,\n",
    "    follow_links=False\n",
    ")"
   ]
  },
  {
   "cell_type": "code",
   "execution_count": 31,
   "metadata": {},
   "outputs": [],
   "source": [
    "from keras.layers import Input, TextVectorization\n",
    "from keras.models import Model\n",
    "\n",
    "vocab_size = 5000\n",
    "vectorize_layer = TextVectorization(max_tokens=vocab_size, output_sequence_length=10)\n",
    "vectorize_layer.adapt(dataset)"
   ]
  },
  {
   "cell_type": "code",
   "execution_count": 32,
   "metadata": {},
   "outputs": [
    {
     "name": "stdout",
     "output_type": "stream",
     "text": [
      "['', '[UNK]', 'the', 'and', 'a', 'of', 'to', 'is', 'in', 'it', 'i', 'this', 'that', 'br', 'as', 'with', 'for', 'was', 'but', 'film', 'movie', 'his', 'on', 'you', 'are', 'he', 'not', 'one', 'its', 'have', 'be', 'by', 'an', 'at', 'all', 'who', 'from', 'her', 'they', 'has', 'so', 'like', 'about', 'very', 'out', 'or', 'if', 'more', 'what', 'when', 'good', 'some', 'just', 'there', 'she', 'my', 'great', 'story', 'see', 'their', 'which', 'time', 'up', 'well', 'can', 'also', 'really', 'would', 'will', 'had', 'we', 'me', 'were', 'only', 'even', 'him', 'most', 'other', 'than', 'much', 'first', 'into', 'no', 'films', 'love', 'people', 'how', 'best', 'get', 'been', 'because', 'way', 'many', 'do', 'after', 'life', 'them', 'characters', 'think', 'movies', 'made', 'two', 'too', 'seen', 'then', 'dont', 'watch', 'character', 'being', 'little', 'still', 'show', 'make', 'never', 'where', 'could', 'does', 'man', 'any', 'know', 'did', 'while', 'years', 'ever', 'these', 'over', 'end', 'such', 'those', 'scene', 'real', 'your', 'say', 'here', 'back', 'scenes', 'makes', 'acting', 'through', 'now', 'plot', 'better', 'go', 'new', 'though', 'find', 'young', 'off', 'us', 'world', 'both', 'lot', 'work', 'something', 'before', 'quite', 'another', 'again', 'own', 'should', 'old', 'always', 'cast', 'part', 'funny', 'every', 'same', 'actors', 'between', 'music', 'watching', 'may', 'few', 'doesnt', 'series', 'im', 'role', 'look', 'bad', 'things', 'why', 'performance', 'family', 'saw', 'going', 'however', 'didnt', 'big', 'times', 'actually', 'take', 'director', 'bit', 'excellent', 'thing', 'down', 'comedy', 'must', 'around', 'each', 'fact', 'without', 'right', 'want', 'seems', 'long', 'got', 'fun', 'played', 'ive', 'thought', 'come', 'feel', 'give', 'cant', 'almost', 'yet', 'especially', 'shows', 'pretty', 'our', 'action', 'since', 'beautiful', 'last', 'done', 'thats', 'gets', 'different', 'although', 'enough', 'job', 'war', 'horror', 'true', 'interesting', 'tv', 'dvd', 'day', 'am', 'found', 'plays', 'hes', 'wonderful', 'probably', 'course', 'isnt', 'rather', 'far', 'original', 'away', 'woman', 'whole', 'worth', 'sure', 'later', 'play', 'john', 'once', 'anyone', 'point', 'nothing', 'kind', 'comes', 'might', 'together', 'takes', 'everything', 'girl', 'himself', 'having', 'performances', 'everyone', 'set', 'three', 'theres', 'american', 'perfect', 'during', 'screen', 'place', 'ending', 'classic', 'watched', 'loved', 'hard', 'goes', 'making', 'guy', 'seeing', 'nice', 'least', 'enjoy', 'main', 'put', 'wife', 'actor', 'night', 'believe', 'version', '10', 'along', 'recommend', 'anything', 'father', 'home', 'truly', 'definitely', 'sense', 'book', 'death', 'men', 'short', 'human', 'seem', 'gives', 'looking', 'black', 'friends', 'fan', 'second', 'year', 'trying', 'audience', 'high', 'amazing', 'help', 'said', 'others', 'until', 'house', 'remember', 'mind', 'favorite', 'star', 'used', 'left', 'maybe', 'kids', 'brilliant', 'episode', 'moments', 'small', 'special', 'full', 'often', 'become', 'liked', 'script', 'hollywood', 'early', 'mother', 'shot', 'live', 'came', 'enjoyed', 'top', 'lives', 'entertaining', 'keep', 'read', 'certainly', 'simply', 'someone', 'given', 'highly', 'less', 'use', 'need', 'wasnt', 'perhaps', 'works', 'playing', 'next', 'understand', 'youre', 'fine', 'style', 'looks', 'effects', 'dark', 'overall', 'several', 'hope', 'drama', 'cinema', 'friend', 'picture', 'finally', 'school', 'couple', 'women', 'heart', 'production', 'mr', 'based', 'reason', 'minutes', 'lost', 'children', 'against', 'getting', '2', 'itself', 'face', 'boy', 'line', 'humor', 'try', 'strong', 'stars', 'let', 'throughout', 'history', 'beginning', 'start', 'person', 'able', 'tell', 'becomes', 'city', 'fans', 'despite', 'idea', 'game', 'final', 'rest', 'completely', 'dead', 'today', 'else', 'went', 'days', 'wants', 'sometimes', 'michael', 'past', 'yes', 'hilarious', 'youll', 'son', 'instead', 'simple', 'wont', 'written', 'title', 'experience', '\\x96', 'case', 'shes', 'video', 'side', 'name', 'turns', 'absolutely', 'white', 'late', 'money', 'doing', 'james', 'parts', 'david', 'art', 'half', 'felt', 'eyes', 'soon', 'relationship', 'score', 'camera', 'viewer', 'sex', 'piece', 'sound', 'turn', 'town', 'under', 'either', 'lead', 'roles', 'wrong', 'ones', 'matter', 'stories', 'chance', 'head', 'including', 'living', 'lines', 'directed', 'song', 'already', 'quality', 'reality', 'direction', 'example', 'guys', 'robert', 'genre', 'feeling', 'sort', 'entire', 'actress', 'id', 'fantastic', 'told', 'released', 'laugh', 'murder', 'themselves', 'child', 'gave', 'behind', 'shown', 'episodes', 'important', 'moment', 'greatest', 'expect', 'musical', 'known', 'ago', 'documentary', 'called', 'totally', 'age', 'cinematography', 'particularly', 'evil', 'heard', 'coming', 'took', 'police', 'view', 'girls', 'mean', 'finds', 'wanted', 'superb', 'taken', 'enjoyable', 'dialogue', 'supporting', 'moving', 'leave', 'tells', 'whose', 'group', 'romantic', 'type', 'number', 'change', 'care', 'country', 'says', 'extremely', 'close', 'somewhat', 'voice', 'french', 'usual', 'happy', 'brother', 'run', 'budget', 'modern', 'english', 'miss', 'act', 'power', 'violence', 'hand', 'husband', 'daughter', 'car', 'stuff', 'seemed', 'realistic', 'across', 'opinion', 'british', 'light', 'hit', 'fight', 'attention', 'starts', 'songs', 'career', 'jack', '3', 'events', 'involved', 'serious', 'taking', 'perfectly', 'among', 'easy', 'opening', 'ways', 'soundtrack', 'tale', 'theyre', 'television', 'kid', 'cool', 'knows', 'beauty', 'major', 'problem', 'due', 'wish', 'novel', 'myself', 'future', 'cannot', 'writing', 'theme', 'surprised', 'happen', 'tries', 'exactly', 'alone', 'upon', 'sad', 'order', 'couldnt', 'ill', 'comic', 'season', 'four', 'brought', 'oscar', 'easily', 'unique', 'powerful', 'problems', 'etc', 'knew', 'emotional', 'kill', 'begins', 'viewing', 'parents', 'famous', 'similar', 'havent', 'certain', 'memorable', 'words', 'release', 'itbr', 'strange', 'sequence', 'bring', 'usually', 'king', 'george', 'whether', 'mostly', 'local', 'richard', 'masterpiece', 'happens', 'viewers', 'ends', 'anyway', 'typical', 'paul', 'team', 'happened', 'within', 'deal', 'atmosphere', 'animation', 'working', 'personal', 'thinking', 'herself', 'message', 'believable', 'york', 'interest', 'huge', 'stop', 'sister', 'sets', 'thriller', 'rock', 'guess', 'entertainment', 'above', 'elements', 'blood', 'period', 'killed', 'talent', 'peter', 'low', 'killer', 'society', 'form', 'flick', 'hell', 'deep', 'slow', 'level', 'tom', 'particular', 'directors', 'meets', 'showing', 'brings', 'truth', 'obviously', 'leads', 'room', 'boys', 'nature', 'yourself', 'body', 'possible', 'unfortunately', 'lots', 'named', 'wonder', 'keeps', 'romance', 'subject', 'poor', 'learn', 'filmed', 'crime', 'hero', 'giving', 'dance', 'eventually', 'difficult', 'western', 'needs', 'situation', 'lady', 'except', 'wouldnt', 'incredible', '80s', 'turned', 'eye', 'feels', 'surprise', 'lack', 'word', 'class', '1', 'filmbr', 'mystery', 'shots', 'means', 'clearly', 'older', 'red', 'match', 'indeed', 'buy', 'appears', 'leaves', 'fall', 'dr', 'features', 'comments', 'general', 'became', 'unlike', 'meet', 'running', 'jokes', 'female', 'call', 'add', 'whom', 'obvious', 'cut', 'interested', 'hours', 'beyond', 'forget', 'clear', 'feature', 'beautifully', 'near', 'talk', 'started', 'follow', 'suspense', 'nearly', 'god', 'america', 'theater', 'recommended', 'lets', 'complete', 'sweet', 'ten', 'stage', 'open', 'joe', 'william', 'following', 'check', 'japanese', 'various', 'single', 'recently', 'earth', 'de', 'visual', 'portrayal', 'hear', 'falls', 'gone', 'copy', 'whos', 'plenty', 'deserves', 'battle', 'talking', 'success', 'middle', 'arent', 'political', 'previous', 'note', 'saying', 'doubt', 'rating', 'oh', 'inside', 'please', 'earlier', 'solid', 'hate', 'moviebr', 'portrayed', 'bill', 'whats', 'subtle', 'caught', 'awesome', 'kept', 'question', 'journey', 'dog', 'sequences', 'present', 'seriously', 'hour', 'towards', 'points', 'mark', 'terrific', 'five', 'doctor', 'disappointed', 'mention', 'familiar', 'business', 'return', 'married', 'social', 'figure', 'sexual', 'setting', 'sees', 'move', 'dream', 'space', 'looked', 'era', 'using', 'brothers', 'basically', '5', '4', 'youve', 'street', 'actual', 'stand', 'outstanding', 'decent', 'images', 'rich', 'imagine', 'hands', 'third', 'clever', 'touching', 'air', 'effective', 'dancing', 'appreciate', 'fast', 'expected', 'scary', 'crazy', 'storyline', 'realize', 'disney', '70s', 'german', 'writer', 'background', 'review', 'popular', 'dramatic', 'intelligent', 'create', 'supposed', 'leading', 'crew', 'boring', 'surprisingly', 'pure', 'creepy', 'pace', 'follows', 'die', 'complex', 'stay', 'none', 'telling', 'plus', 'impressive', 'reading', 'emotions', 'baby', 'italian', 'effect', 'stunning', 'straight', 'genius', 'rare', 'manages', 'escape', 'adventure', 'younger', 'agree', '8', 'uses', 'thanks', 'attempt', 'moves', 'bond', '7', 'somehow', 'secret', 'gem', 'odd', 'fantasy', 'fairly', 'natural', 'edge', 'died', 'created', 'quickly', 'outside', 'gore', 'charming', 'century', 'worked', 'master', 'cold', 'admit', 'reviews', 'animated', 'material', 'large', 'laughs', 'hot', 'audiences', 'spirit', 'won', 'save', 'wait', 'recent', 'culture', 'members', 'lee', 'begin', 'touch', 'jane', 'missed', 'lovely', 'silly', 'acted', 'further', 'fighting', 'exciting', 'screenplay', 'office', 'ok', 'needed', 'la', 'hold', 'comment', 'charles', 'filled', 'fear', 'twists', 'scott', 'apparently', 'win', 'water', 'talented', 'former', 'available', 'shame', 'public', 'situations', 'party', 'male', 'west', 'silent', 'showed', 'apart', 'language', 'killing', 'cute', 'chemistry', 'successful', 'singing', 'adult', 'stupid', 'forced', 'fit', 'humour', 'editing', 'band', 'weird', 'result', 'free', 'dialog', 'choice', 'average', 'glad', 'convincing', 'appear', 'tony', 'themes', 'innocent', 'incredibly', 'frank', 'feelings', 'focus', 'tone', 'scifi', 'decides', 'slightly', 'reasons', 'force', 'footage', 'company', 'decided', 'honest', 'gay', 'ben', 'questions', 'helps', 'effort', 'common', 'ultimately', 'ride', 'knowing', 'front', '20', 'loves', 'casting', 'jim', 'paris', 'compared', 'amount', 'sounds', 'break', 'remains', 'south', 'consider', 'waiting', 'trip', 'tension', 'meant', 'wonderfully', 'starring', 'normal', 'mood', 'magic', 'violent', 'possibly', 'cartoon', 'tried', 'island', 'festival', 'fascinating', 'cause', 'ask', 'sequel', 'longer', 'intense', 'expecting', 'box', 'girlfriend', 'directing', 'changed', 'catch', 'leaving', 'laughing', 'issues', 'twist', 'personally', 'nor', 'whatever', 'likes', 'funniest', 'control', 'alive', 'critics', 'comedies', 'stands', 'credits', 'mentioned', 'harry', 'forward', 'trouble', 'road', 'rate', 'missing', 'train', 'state', 'pictures', 'gorgeous', 'friendship', 'books', 'dreams', 'disturbing', 'depth', 'batman', 'terms', 'ideas', 'credit', 'puts', 'considered', 'cop', 'blue', 'provides', 'fire', 'photography', 'minute', 'meaning', 'sit', 'produced', 'b', 'award', 'minor', 'impressed', 'fresh', 'development', 'soul', 'soldiers', 'rent', 'delivers', 'adds', 'marriage', 'christmas', 'wild', 'compelling', 'relationships', 'park', 'favourite', 'villain', 'stewart', 'ray', 'presence', 'fiction', 'mad', 'involving', 'details', 'date', 'added', 'noir', 'entirely', 'detective', 'values', 'immediately', 'imdb', 'fully', 'filmmakers', 'ability', '1010', 'cry', 'considering', 'bunch', 'thank', 'sexy', 'sent', 'narrative', 'london', 'aspect', 'tragic', 'radio', 'otherwise', 'ended', 'premise', 'pay', 'list', 'charm', 'studio', 'charlie', 'tragedy', 'todays', 'respect', 'adaptation', 'mary', 'central', 'bought', 'support', 'chris', 'slowly', 'remarkable', 'places', 'opera', 'bizarre', 'likely', 'changes', 'army', 'summer', 'prison', 'okay', 'college', 'runs', 'aspects', 'aside', '12', 'childhood', 'impact', 'government', 'camp', 'tough', 'speak', 'pick', 'magnificent', 'henry', 'finest', 'smith', 'offers', 'moved', 'bed', '9', 'attempts', 'indian', 'historical', 'drug', 'contains', 'presented', 'equally', 'wrote', 'born', 'billy', 'approach', 'appearance', 'scenery', 'thoroughly', 'hardly', 'dirty', 'week', 'underrated', 'writers', 'suddenly', 'smart', 'lived', 'justice', 'cinematic', 'cat', 'share', 'tears', 'literally', 'land', 'worse', 'hair', 'detail', 'amusing', 'science', 'predictable', 'mainly', 'cheesy', 'write', 'constantly', 'finding', 'remake', 'mysterious', 'kelly', 'pieces', 'monster', 'apartment', 'planet', 'led', 'worst', 'passion', 'terrible', 'holds', 'thus', 'store', 'basic', 'steve', 'sam', 'gun', 'everybody', 'christopher', 'self', 'forever', 'cult', 'color', 'biggest', 'unusual', 'deeply', 'decide', 'collection', 'taste', 'pleasure', 'opportunity', 'bruce', 'nicely', 'law', 'brief', 'surprising', 'lover', 'boss', 'total', 'revenge', 'impossible', 'fellow', 'dad', 'conclusion', 'proves', 'joy', 'games', 'costumes', 'gang', 'building', 'track', 'race', 'heavy', 'hasnt', 'van', 'manner', 'managed', 'image', 'hurt', 'brilliantly', 'vs', 'information', 'news', 'becoming', 'appeal', 'adults', 'thinks', 'likable', 'key', 'faces', 'reminded', 'hospital', 'emotion', 'drawn', 'climax', 'standard', 'inspired', 'acts', 'include', 'event', 'delightful', 'club', 'captured', 'soldier', 'moral', 'academy', '100', 'wars', 'creative', 'ahead', 'weak', 'shooting', 'mans', 'physical', 'jean', 'value', 'memories', 'element', 'sorry', 'returns', 'martin', 'jones', 'hotel', 'concept', 'brutal', 'struggle', 'spent', 'producer', 'generally', 'alan', 'fair', 'vhs', 'states', 'potential', 'flaws', 'extreme', 'cover', 'content', 'sick', 'sadly', 'chase', '15', 'treat', 'system', '810', 'thomas', 'notice', 'loving', 'hitchcock', 'hidden', 'freedom', 'forgotten', 'search', 'lies', 'helped', 'epic', 'deals', 'captures', 'addition', 'twice', 'military', 'wanting', 'quiet', 'judge', 'personality', 'davis', 'accurate', 'spoilers', 'falling', 'sisters', 'reminds', 'location', 'affair', 'mix', 'danny', 'victim', 'suicide', 'seemingly', 'russian', 'pain', 'page', 'beat', 'answer', '710', 'ryan', 'lovers', 'engaging', 'compare', 'brian', 'unexpected', 'captain', 'besides', 'timebr', 'spend', 'difference', 'arthur', 'agent', 'surely', 'process', 'accept', 'understanding', 'comedic', 'cheap', 'jason', 'jackson', 'impression', 'held', 'witty', 'suggest', 'actresses', 'actions', 'memory', 'latter', 'johnny', 'golden', 'ford', 'annoying', 'vision', 'ridiculous', 'positive', 'neither', 'ms', 'lose', 'intriguing', 'flying', 'spot', 'relate', 'jimmy', 'followed', 'six', 'keeping', 'growing', 'extraordinary', 'door', 'developed', '60s', 'step', 'negative', 'fox', 'channel', 'worthy', 'williams', 'uncle', 'strength', 'listen', 'drugs', 'americans', 'winning', 'nevertheless', 'dangerous', 'sitting', 'professional', 'nobody', 'accident', 'walk', 'therefore', 'somewhere', 'green', 'brain', 'began', 'area', 'tim', 'station', 'shocking', 'industry', 'includes', 'grand', 'filming', 'expectations', 'boyfriend', 'artist', 'teen', 'psychological', 'provide', 'players', 'plan', 'numbers', 'necessary', 'motion', 'laughed', 'desire', 'vampire', 'streets', 'rarely', 'continue', 'student', 'kevin', 'ii', 'animals', 'chinese', 'brown', 'teenage', 'producers', 'artistic', 'pull', 'ordinary', 'names', 'jr', 'eddie', 'creates', 'commentary', 'asks', '6', 'murders', 'international', 'drive', 'criminal', 'students', 'genuine', 'finish', 'dealing', 'castle', 'ages', 'nudity', 'horrible', 'current', 'creating', 'allows', 'allowed', 'seven', 'refreshing', 'received', 'project', 'offer', 'imagination', 'generation', 'extra', 'werent', 'serial', 'ring', 'ready', 'humanity', 'discover', 'spectacular', 'originally', 'kills', 'jerry', 'horse', 'grace', 'debut', 'unknown', 'trailer', 'plain', 'loud', 'england', 'community', 'willing', 'independent', 'appeared', 'pass', 'opposite', 'national', 'learned', 'humorous', 'youth', 'village', 'sea', 'giant', 'accent', 'ship', 'realism', 'owner', 'barbara', 'walking', 'onto', 'identity', 'design', 'met', 'loss', 'joan', 'intended', 'happening', 'gary', 'attack', 'superior', 'mom', 'member', 'steals', 'explain', 'emotionally', 'contrast', 'alien', 'surreal', 'range', 'officer', 'anne', 'smile', 'picked', 'haunting', 'ghost', 'filmmaking', 'ultimate', 'traditional', 'pop', 'heroes', 'bar', 'naked', 'mrs', 'mine', 'introduced', 'howard', 'gene', 'australian', 'stephen', 'remembered', 'direct', 'church', 'putting', 'europe', 'visuals', 'suspect', 'speaking', 'rated', 'queen', 'purpose', 'louis', 'food', 'fame', 'dying', 'double', 'asked', 'wellbr', 'hits', 'fell', 'dated', 'ann', '910', 'trust', 'thrown', 'study', 'pilot', 'foreign', 'conflict', 'teacher', 'strongly', 'standards', 'shock', 'sean', 'length', 'discovers', 'villains', 'super', 'starting', 'portrays', 'makeup', 'folks', 'visit', 'individual', 'energy', 'douglas', 'afraid', 'worlds', 'survive', 'sight', 'lesson', 'julie', 'jeff', 'hey', 'filmmaker', 'anymore', 'robin', 'merely', 'media', 'knowledge', 'favorites', 'whilst', 'references', 'record', 'perspective', 'mixed', 'lucky', 'fashion', 'capture', 'wind', 'victims', 'singer', 'realized', 'quick', 'price', 'holmes', 'france', 'arts', '30', 'wall', 'visually', 'stick', 'seasons', 'religious', 'prince', 'months', 'lord', 'locations', 'genuinely', 'european', 'deserved', 'aware', 'allow', 'theatre', 'taylor', 'sympathetic', 'issue', 'frame', 'decision', 'decade', 'attitude', 'sharp', 'million', 'legend', 'leader', 'jennifer', 'gags', 'exception', 'discovered', 'anthony', 'sky', 'nominated', 'mental', 'limited', 'fate', 'families', 'crowd', 'continues', 'attractive', 'andy', 'adam', 'absolute', 'yeah', 'gold', 'confused', 'computer', 'slasher', 'seat', 'ground', 'featuring', 'faith', 'turning', 'pair', 'noticed', 'max', 'grew', 'zombie', 'powers', 'intelligence', 'handsome', 'cops', 'albert', 'wide', 'warm', 'regular', 'phone', 'lighting', 'heaven', 'grow', 'gritty', 'fits', 'crap', 'bringing', 'thoughts', 'segment', 'rules', 'patrick', 'mike', 'levels', 'bits', 'united', 'toward', 'technical', 'stone', 'satisfying', 'private', 'naturally', 'flicks', 'ed', 'don', 'buddy', 'barely', 'shoot', 'revealed', 'morning', 'mission', 'meeting', 'dan', 'wise', 'sing', 'reach', 'pleasant', 'peoples', 'machine', 'eric', 'witness', 'spanish', 'shouldnt', 'scared', 'president', 'forces', 'cars', 'woods', 'touches', 'patient', 'japan', 'ie', 'dies', 'carry', 'viewed', 'utterly', 'tired', 'shop', 'rose', 'provided', 'nasty', 'joke', 'included', 'plane', 'occasionally', 'martial', 'gangster', 'count', 'constant', 'clean', 'bored', 'wedding', 'unless', 'portraying', 'learns', 'higher', 'describe', 'awful', '1950s', 'river', 'partner', 'sheer', 'realizes', 'finale', 'contemporary', 'combination', 'chief', 'spoiler', 'remain', 'prove', 'north', 'meanwhile', 'honestly', 'himbr', 'connection', 'bob', 'board', 'bigger', 'awards', 'alice', 'walter', 'evening', 'driving', 'deliver', 'blind', 'throw', 'texas', 'tend', 'subtitles', 'classics', 'broken', 'breaks', 'bloody', 'surface', 'sensitive', 'numerous', 'talents', 'lynch', 'dull', 'calls', 'youd', 'mistake', 'ladies', 'graphic', 'dick', 'brooks', 'bottom', 'winner', 'satire', 'presents', 'efforts', 'betty', 'adventures', 'stuck', 'wow', 'travel', 'speech', 'reaction', 'player', 'luck', 'experiences', 'behavior', 'anna', 'tape', 'studios', 'opens', 'losing', 'hunter', 'harris', 'damn', 'carries', 'breathtaking', 'al', 'according', 'urban', 'shakespeare', 'roll', 'nick', 'germany', 'fathers', 'believes', 'suppose', 'responsible', 'recall', 'pulls', 'program', 'gotten', 'essentially', 'effectively', 'angry', 'tiny', 'teenagers', 'sinatra', 'plans', 'kinda', 'influence', 'desert', 'weve', 'twisted', 'sir', 'jackie', 'depicted', 'versions', 'variety', 'pulled', 'pacing', 'moon', 'magical', 'humans', 'flat', 'desperate', 'daniel', 'victor', 'reveals', 'lonely', 'cross', 'cartoons', 'appreciated', 'anywhere', 'wondering', 'universal', 'results', 'raw', 'matthau', 'kong', 'hall', 'confusing', 'angel', 'shorts', 'paced', 'moore', 'miles', 'makers', 'ice', 'enemy', 'concerned', 'treated', 'simon', 'protagonist', 'plots', 'parker', 'loose', 'flashbacks', 'dressed', 'dennis', 'deeper', 'china', 'cameo', 'avoid', 'westerns', 'teenager', 'tarzan', 'performed', 'grade', 'field', 'suspenseful', 'sons', 'portray', 'nowhere', 'monsters', 'mainstream', 'fabulous', 'curious', 'columbo', 'center', 'allen', '50s', 'veteran', 'thembr', 'theatrical', 'recognize', 'post', 'normally', 'fights', 'everyday', 'apparent', 'sports', 'spoil', 'mature', 'lane', 'inner', 'floor', 'encounter', 'dogs', 'closer', 'bank', 'anybody', 'alex', 'touched', 'surprises', 'rob', 'killers', 'environment', 'daughters', 'concert', 'broadway', 'types', 'trilogy', 'sides', 'proved', 'legendary', 'insane', 'described', 'courage', 'caused', 'bright', 'author', 'welles', 'voices', 'treatment', 'torture', 'jewish', 'gripping', 'failed', 'colors', 'christian', 'artists', 'appropriate', 'source', 'peace', 'nightmare', 'morgan', 'innocence', 'exceptional', 'delight', 'anime', 'window', 'weeks', 'vote', 'unforgettable', 'unable', 'training', 'sudden', 'succeeds', 'proud', 'poignant', 'hoffman', 'driven', 'chilling', 'boat', 'von', 'relief', 'matt', 'hunt', 'hadnt', 'fly', 'civil', 'choose', 'universe', 'terror', 'largely', 'hopefully', 'greater', 'context', 'comparison', 'build', 'animal', 'trek', 'storybr', 'steal', 'skills', 'perfection', 'movement', 'marie', 'joseph', 'holes', 'happiness', 'finished', 'existence', 'circumstances', 'cable', 'wayne', 'stanwyck', 'relatively', 'nonetheless', 'minds', 'loses', 'appealing', 'whenever', 'service', 'obsessed', 'marvelous', 'edward', 'demons', 'daily', 'amazingly', 'uk', 'ted', 'slapstick', 'russell', 'ran', 'marry', 'luke', 'india', 'hoping', 'heads', 'frightening', 'focuses', 'eastwood', 'depiction', '90s', 'wearing', 'test', 'round', 'rise', 'reminiscent', 'faithful', 'experienced', 'enter', 'elizabeth', 'dumb', 'donald', 'develop', 'wit', 'reveal', 'instance', 'feet', 'extras', 'chaplin', 'washington', 'vietnam', 'priest', 'oliver', 'kick', 'involves', 'fred', 'fails', 'drew', 'crafted', 'clothes', 'bbc', 'anderson', 'aka', '50', 'witch', 'till', 'site', 'shines', 'prime', 'initial', 'grown', 'exist', 'deserve', 'cage', 'andrews', 'passed', 'network', 'murdered', 'fake', 'chosen', 'birth', 'ball', 'victoria', 'superbly', 'stays', 'reviewers', 'princess', 'politics', 'miniseries', 'mickey', 'laura', 'interviews', 'hong', 'handled', 'conversation', 'committed', 'union', 'treasure', 'timing', 'theaters', 'sell', 'insight', 'harsh', 'halloween', 'gordon', 'choices', 'baseball', 'arrives', 'usa', 'unlikely', 'speed', 'sleep', 'native', 'naive', 'model', 'jump', 'football', 'decades', 'creature', 'welcome', 'warning', 'spy', 'religion', 'mouth', 'intensity', 'imagery', '1970s', 'sunday', 'quirky', 'larry', 'fu', 'criticism', 'complicated', 'breaking', 'barry', '40', 'technology', 'talks', 'nancy', 'latest', 'initially', 'holly', 'driver', 'draw', 'cowboy', 'blown', 'balance', 'anger', 'storytelling', 'speaks', 'send', 'rape', 'powell', 'manage', 'heroine', 'granted', 'ensemble', 'eight', 'cooper', 'built', 'bugs', 'wwii', 'walks', 'twenty', 'timeless', 'teens', 'soviet', 'previously', 'mountain', 'le', 'keaton', 'julia', 'helen', 'delivered', 'beach', 'badly', 'tradition', 'suit', 'screening', 'mgm', 'lewis', 'hopes', 'greatly', 'entertained', 'dean', 'court', 'commercial', 'capable', 'spite', 'sorts', 'print', 'lovable', 'irish', 'core', 'canadian', 'beloved', 'awkward', 'roy', 'rain', 'proper', 'position', 'necessarily', 'lessons', 'laughter', 'hooked', 'focused', 'consequences', 'combined', '2001', 'troubled', 'tight', 'tense', 'supposedly', 'reviewer', 'regret', 'onebr', 'midnight', 'kung', 'formula', 'figures', 'c', 'wilson', 'warner', 'standing', 'scientist', 'r', 'portrait', 'musicals', 'matters', 'lawyer', 'interpretation', 'cost', 'answers', 'tremendous', 'susan', 'stranger', 'raised', 'path', 'overly', 'nurse', 'melodrama', 'lacks', 'hearing', 'guilty', 'flawless', 'facts', 'executed', 'evidence', 'dramas', 'creatures', 'correct', 'task', 'saturday', 'madness', 'lights', 'guilt', 'determined', 'angle', 'ancient', '11', 'understood', 'notable', 'mustsee', 'multiple', 'helping', 'expressions', 'dinner', 'cuts', 'childrens', 'albeit', 'suffering', 'struggles', 'southern', 'rough', 'prepared', 'featured', 'cultural', 'controversial', 'thin', 'structure', 'soft', 'sings', 'mothers', 'miller', 'listening', 'lifebr', 'johnson', 'guns', 'crash', 'colorful', 'bear', 'angles', 'via', 'ugly', 'tales', 'sidney', 'prior', 'kim', 'jon', 'hearts', 'grim', 'darkness', 'carried', 'trash', 'soap', 'skill', 'rescue', 'michelle', 'interview', 'imaginative', 'highlight', 'glimpse', 'fare', 'emma', 'california', 'wins', 'unfortunate', 'torn', 'praise', 'nights', 'majority', 'east', 'depressing', 'corny', 'cares', 'brave', 'africa', 'stereotypes', 'sign', 'safe', 'ralph', 'quest', 'market', 'learning', 'kate', 'inspiration', 'grant', 'flight', 'expression', 'eat', 'bound', 'account', 'accepted', 'shocked', 'searching', 'sarah', 'roberts', 'rented', 'professor', 'murphy', 'lowbudget', 'lie', 'essence', 'edited', 'disagree', 'critical', 'chan', 'challenge', 'bitter', 'thief', 'stylish', 'seeking', 'porn', 'kiss', 'kinds', 'factor', 'candy', 'burt', 'breath', 'bet', 'andor', 'african', 'vincent', 'significant', 'sexuality', 'serves', 'seek', 'section', 'italy', 'holding', 'guest', 'gory', 'fat', 'enjoying', 'eating', 'drunk', 'authentic', 'tribute', 'steps', 'status', 'roger', 'riding', 'pity', 'oscars', 'narration', 'lacking', 'haunted', 'friendly', 'essential', 'endbr', 'drag', 'closing', 'cell', 'bodies', 'striking', 'reynolds', 'product', 'perform', 'mebr', 'join', 'goodbr', 'disappointing', 'department', 'believed', 'trapped', 'thrillers', 'table', 'sympathy', 'scream', 'produce', 'painful', 'individuals', 'fail', 'destroy', 'cynical', 'closely', 'bus', 'waybr', 'sat', 'refuses', 'productions', 'placed', 'overcome', 'mess', 'mere', 'kudos', 'jungle', 'fictional', 'eerie', 'clint', 'advantage', '1980s', 'wood', 'vehicle', 'paid', 'offered', 'mob', 'league', 'hanging', 'everywhere', 'endearing', 'devil', 'danger', '25', 'views', 'rings', 'rights', 'revolution', 'prefer', 'obsession', 'notch', 'host', 'flow', 'degree', 'covered', 'code', 'afternoon', '2005', 'shadow', 'serve', 's', 'reputation', 'pleasantly', 'philip', 'passing', 'outbr', 'ourselves', 'intellectual', 'honor', 'hal', 'format', 'exploitation', 'erotic', 'display', 'directly', 'dealt', 'contact', 'abuse', '20th', 'x', 'thankfully', 'statement', 'shy', 'settings', 'sadness', 'rule', 'random', 'protect', 'protagonists', 'parody', 'overlooked', 'manager', 'lion', 'kennedy', 'hated', 'fourth', 'facial', 'faced', 'd', 'countries', 'blow', 'birthday', 'aunt', 'zombies', 'unbelievable', 'sun', 'rachel', 'occasional', 'leslie', 'introduction', 'forth', 'flynn', 'dress', 'claim', 'bother', 'asking', 'appearances', 'amazed', 'thatbr', 'rival', 'overthetop', 'nowadays', 'mouse', 'lifetime', 'importance', 'heartwarming', 'frankly', 'fears', 'express', 'equal', 'drives', 'develops', 'deadly', 'burns', 'beings', 'atmospheric', 'ass', 'amongst', 'trial', 'theyve', 'steven', 'skin', 'regard', 'profound', 'kane', 'jobs', 'flawed', 'cinderella', 'chose', 'adapted', 'wealthy', 'tommy', 'stock', 'sinister', 'packed', 'notorious', 'murderer', 'lloyd', 'internet', 'inspiring', 'health', 'greek', 'flashback', 'explanation', 'explained', 'entertain', 'empty', 'dubbed', 'draws', 'cried', 'charge', 'cgi', 'blonde', 'accidentally', 'whereas', 'stanley', 'st', 'scale', 'saved', 'regarding', 'nazi', 'landscape', 'jonathan', 'hill', 'heavily', 'guessing', 'glass', 'dvds', 'delivery', 'australia', 'aired', 'achieved', 'thrilling', 'target', 'stunts', 'separate', 'navy', 'heres', 'farm', 'excitement', 'entry', 'custer', 'creation', 'craig', 'changing', 'carefully', '1930s', 'waters', 'ward', 'videos', 'understated', 'supernatural', 'subsequent', 'stops', 'san', 'routine', 'reporter', 'psycho', 'los', 'jay', 'ironic', 'fault', 'disaster', 'demands', 'confusion', 'weekend', 'waste', 'sheriff', 'performers', 'lisa', 'ignore', 'flesh', 'distant', 'crying', 'criminals', 'cousin', 'costume', 'convinced', 'bette', 'attraction', 'abandoned', 'techniques', 'sally', 'propaganda', 'picks', 'performing', 'jamie', 'identify', 'hide', 'germans', 'foot', 'dollars', 'condition', 'checking', 'builds', 'brazil', 'adding', '13', 'u', 'splendid', 'shadows', 'saving', 'required', 'repeated', 'novels', 'graphics', 'funnier', 'fortunately', 'documentaries', 'disappointment', 'causes', 'bruno', 'bleak', 'angels', 'absurd', 'worthwhile', 'technically', 'slight', 'redemption', 'qualities', 'presentation', 'nazis', 'ideal', 'guide', 'gruesome', 'gentle', 'fool', 'fill', 'definite', 'cassavetes', 'captivating', 'below', 'wallace', 'throws', 'technique', 'struggling', 'strangely', 'solve', 'related', 'medical', 'maria', 'j', 'favor', 'engaged', 'cruel', 'claims', 'cases', 'carpenter', 'bourne', 'arms', 'alexander', 'advice', '90', '2006', '14', 'watchable', 'surrounding', 'stolen', 'shall', 'seconds', 'robot', 'revolves', 'pleased', 'personalities', 'lucy', 'lighthearted', 'horses', 'hitler', 'hat', 'frequently', 'carrying', 'blame', 'affected', 'trap', 'tour', 'specific', 'sitcom', 'practically', 'pitch', 'physically', 'o', 'noted', 'letter', 'jail', 'gradually', 'gothic', 'gonna', 'excited', 'complaint', 'belief', 'wolf', 'tune', 'trail', 'strikes', 'sold', 'sequels', 'revealing', 'research', 'promise', 'metal', 'lincoln', 'extent', 'explains', 'destroyed', 'covers', 'connery', 'bollywood', 'backdrop', 'terribly', 'struck', 'stopped', 'spots', 'souls', 'sophisticated', 'masterful', 'indians', 'horrors', 'hood', 'grandfather', 'fairy', 'examples', 'exact', 'convey', 'comfortable', 'clark', 'charismatic', 'cats', 'alltime', 'wave', 'tricks', 'travels', 'superman', 'subjects', 'rural', 'regardless', 'piano', 'nation', 'mexico', 'jesus', 'designed', 'description', 'crisis', 'clichés', 'cliché', 'caring', 'burton', 'blend', 'asian', 'virtually', 'unnecessary', 'unfolds', 'topic', 'suspects', 'styles', 'racism', 'oz', 'neat', 'mask', 'importantly', 'grows', 'giallo', 'frankie', 'flaw', 'emily', 'elderly', 'displays', 'dave', 'cutting', 'achievement', 'walker', 'underground', 'streep', 'stood', 'rush', 'remind', 'ps', 'provoking', 'nine', 'lesbian', 'justin', 'hole', 'hbo', 'handle', 'buying', 'brilliance', 'blade', 'vampires', 'thisbr', 'terrifying', 'summary', 'suffered', 'storm', 'sends', 'revelation', 'persons', 'lesser', 'lame', 'isbr', 'heck', 'heartbreaking', 'false', 'elegant', 'comedian', 'calling', 'britain', 'brad', 'blues', 'assume', '30s', 'writerdirector', 'suffer', 'stronger', 'stayed', 'sport', 'spends', 'sentimental', 'returning', 'recognition', 'pitt', 'outrageous', 'letting', 'h', 'discovery', 'ambitious', 'accused', 'wishes', 'territory', 'tender', 'sutherland', 'successfully', 'served', 'represents', 'rendition', 'reallife', 'raise', 'mexican', 'karen', 'instantly', 'inevitable', 'incident', 'glory', 'easier', 'dozen', 'dare', 'broadcast', 'titanic', 'theory', 'suggests', 'somebody', 'security', 'relevant', 'reference', 'properly', 'opposed', 'object', 'norman', 'kurt', 'inventive', 'interaction', 'immensely', 'hanks', 'guard', 'gratuitous', 'gas', 'excuse', 'established', 'desperately', 'cook', 'clips', 'bomb', 'basis', 'achieve', 'suffers', 'secrets', 'ron', 'rocks', 'purely', 'pride', 'pacino', 'lemmon', 'inspector', 'ian', 'hence', 'fulci', 'friday', 'fbi', 'failure', 'factory', 'dawn', 'darker', 'concerns', 'bobby', 'w', 'symbolism', 'sword', 'sullivan', 'suits', 'succeed', 'stellar', 'providing', 'neighbor', 'masters', 'jake', 'fallen', 'destruction', 'conventional', 'broke', 'bridge', 'areas', 'zone', 'vacation', 'starred', 'spoken', 'sleeping', 'shoes', 'segments', 'rolling', 'response', 'nuclear', 'library', 'kicks', 'highlights', 'hed', 'glenn', 'felix', 'exists', 'dry', 'drop', 'differences', 'depicts', 'daring', 'chick', 'assistant', 'alfred', 'woody', 'truck', 'toobr', 'subplot', 'silence', 'punk', 'ken', 'jeremy', 'influenced', 'hiding', 'g', 'eccentric', 'dig', 'comical', 'carol', 'cameos', 'caine', 'brando', 'bates', 'allowing', 'stealing', 'spiritual', 'spike', 'shed', 'riveting', 'punch', 'poetry', 'photographed', 'noble', 'mistakes', 'massive', 'loneliness', 'lake', 'irony', 'indie', 'increasingly', 'highest', 'grey', 'freeman', 'crimes', 'coach', 'clues', 'clue', 'classical', 'surrounded', 'specifically', 'scare', 'persona', 'pat', 'morality', 'mentally', 'larger', 'hitchcocks', 'happily', 'glover', 'francis', 'fitting', 'fish', 'dracula', 'contain', 'competition', 'againbr', 'zero', 'womans', 'wasted', 'unrealistic', 'trade', 'sandra', 'rita', 'nude', 'muppet', 'mitchell', 'mediocre', 'march', 'magazine', 'hired', 'groups', 'convince', 'carl', 'buster', 'arm', 'allbr', 'alike', 'aint', 'aged', 'winter', 'term', 'strangers', 'ruin', 'risk', 'poetic', 'marks', 'lyrics', 'logic', 'ironically', 'invisible', 'horrific', 'gift', 'expert', 'everyones', 'drinking', 'corner', 'concerning', 'blockbuster', 'andrew', 'wear', 'watches', 'trio', 'traveling', 'todd', 'thousands', 'smooth', 'sleazy', 'similarities', 'silver', 'reunion', 'realise', 'quote', 'officers', 'ocean', 'occurs', 'non', 'neighborhood', 'manhattan', 'lifestyle', 'investigation', 'introduces', 'intrigue', 'husbands', 'herbr', 'hamlet', 'explicit', 'encounters', 'directorial', 'blake', 'antics', '17', 'tunes', 'titles', 'swedish', 'stark', 'receive', 'oil', 'official', 'month', 'medium', 'meaningful', 'massacre', 'lucas', 'honesty', 'herebr', 'eg', 'device', 'detailed', 'dentist', 'curse', 'cleverly', 'chaos', 'boxing', 'admire', 'accomplished', '40s', '18', 'upper', 'toy', 'teach', 'substance', 'shortly', 'shape', 'selling', 'restaurant', 'requires', 'pulp', 'partly', 'opened', 'notes', 'mirror', 'mel', 'matrix', 'luckily', 'jealous', 'jazz', 'infamous', 'hunting', 'garbo', 'gain', 'frustrated', 'forgot', 'currently', 'crude', 'credible', 'cole', 'cash', 'briefly', 'beast', 'attacks', 'appearing', 'wake', 'tree', 'skip', 'rid', 'replaced', 'reed', 'passionate', 'paper', 'painting', 'outcome', 'lower', 'intimate', 'holiday', 'gotta', 'evident', 'enjoyment', 'empire', 'duty', 'despair', 'deaths', 'connected', 'chases', 'chances', 'boris', 'battles', 'youbr', 'worldbr', 'wax', 'viewings', 'vast', 'thousand', 'tear', 'remote', 'ranks', 'plant', 'paying', 'oneliners', 'l', 'heist', 'guts', 'glorious', 'fortune', 'execution', 'depression', 'chair', 'category', 'buck', 'belongs', 'bears', 'bands', 'wine', 'thoughtful', 'sin', 'sexually', 'scenario', 'pet', 'par', 'notably', 'mass', 'macy', 'homer', 'hatred', 'funeral', 'forms', 'explored', 'escaped', 'enters', 'elvira', 'downright', 'disappoint', 'cox', 'colour', 'catherine', 'brand', 'baker', 'wonders', 'wicked', 'ups', 'tied', 'snow', 'satisfied', 'rental', 'pays', 'owen', 'oddly', 'nearby', 'n', 'museum', 'lone', 'keith', 'goal', 'explore', 'edgar', 'describes', 'dancer', 'corruption', 'comics', 'chain', 'bird', 'bergman', 'base', '1960s', 'watson', 'vulnerable', 'vivid', 'thrill', 'survival', 'subplots', 'standout', 'secretary', 'ruth', 'rupert', 'repeat', 'prisoners', 'mixture', 'meat', 'mario', 'loyal', 'gods', 'genres', 'et', 'dynamic', 'dislike', 'diane', 'cup', 'calm', 'busy', 'beating', 'attempting', 'arrested', 'amanda', 'adorable', 'web', 'weapons', 'upset', 'uplifting', 'typically', 'tends', 'spooky', 'shine', 'ratings', 'push', 'nomination', 'ned', 'musicians', 'hang', 'godfather', 'facing', 'extended', 'contrived', 'circle', 'basement', 'wears', 'venice', 'trick', 'topnotch', 'stole', 'spring', 'spoof', 'scientists', 'restored', 'recorded', 'reactions', 'psychiatrist', 'progress', 'matthew', 'matches', 'korean', 'forest', 'figured', 'eve', 'devoted', 'corrupt', 'challenging', 'angeles', '2000', 'workers', 'warmth', 'undoubtedly', 'uncomfortable', 'triumph', 'screaming', 'scarlett', 'ruthless', 'returned', 'primarily', 'pregnant', 'poverty', 'onbr', 'kramer', 'jumps', 'garfield', 'forgive', 'filmsbr', 'disc', 'craft', 'couldve', 'contrary', 'continued', 'combat', 'bride', 'beats', 'attracted', 'arrive', 'weight', 'tons', 'teeth', 'stereotypical', 'stated', 'soccer', 'sake', 'recognized', 'reaches', 'pool', 'peters', 'occurred', 'marty', 'limits', 'lawrence', 'kidnapped', 'foster', 'em', 'directs', 'colonel', 'capturing', 'aliens', 'adams', 'worried', 'widow', 'widescreen', 'walsh', 'tourist', 'staff', 'prisoner', 'primary', 'performer', 'neil', 'monkey', 'khan', 'hudson', 'homage', 'hardy', 'fonda', 'flash', 'escapes', 'endless', 'education', 'edition', 'disgusting', 'delivering', 'curtis', 'cure', 'convincingly', 'commit', 'claude', 'claire', 'citizens', 'card', 'campbell', 'affection', 'accents', '2004', 'yesterday', 'versus', 'thumbs', 'threat', 'solo', 'smaller', 'seeks', 'scores', 'scares', 'savage', 'rogers', 'peak', 'needless', 'mildred', 'locked', 'jessica', 'hundreds', 'heat', 'handful', 'gentleman', 'enjoys', 'drink', 'doors', 'destiny', 'campy', 'april', 'affect', 'wagon', 'treats', 'transformation', 'suitable', 'spell', 'santa', 'russia', 'relative', 'reflect', 'pushing', 'pushed', 'poorly', 'planned', 'pink', 'pearl', 'narrator', 'moviesbr', 'mistaken', 'mid', 'innovative', 'eva', 'divorce', 'cusack', 'cameron', 'cagney', 'bonus', 'attitudes', 'attempted', 'album', 'abilities', 'unsettling', 'underlying', 'thoughtprovoking', 'text', 'talked', 'tad', 'straightforward', 'stooges', 'purchase', 'picking', 'philosophical', 'penn', 'odds', 'nyc', 'neighbors', 'link', 'laid', 'kitty', 'instant', 'grave', 'fought', 'feast', 'explosions', 'enormous', 'complain', 'citizen', 'chicago', 'astonishing', 'associated', 'agrees', 'worry', 'whoever', 'virgin', 'vicious', 'unfold', 'split', 'runner', 'represent', 'reflection', 'rank', 'pretentious', 'patricia', 'moody', 'messages', 'involvement', 'hysterical', 'hundred', 'hills', 'heroic', 'goofy', 'garbage', 'florida', 'duo', 'discussion', 'dedicated', 'conditions', 'cia', 'charisma', 'charactersbr', 'carpenters', 'broad', 'bettie', 'weapon', 'wealth', 'waves', 'walked', 'velvet', 'tall', 'rushed', 'patients', 'paranoia', 'parallel', 'odyssey', 'obscure', 'ninja', 'meryl', 'melodramatic', 'lying', 'jumping', 'itll', 'intrigued', 'ignored', 'hardcore', 'fancy', 'disease', 'depicting', 'delicate', 'creators', 'contract', 'composed', 'companion', 'catches', 'buried', 'betrayal', 'believing', 'argento', 'alternative', 'abc', 'wouldve', 'wondered', 'voight', 'teaches', 'sucked', 'shut', 'sacrifice', 'recording', 'millions', 'm', 'lily', 'leo', 'gross', 'fields', 'estate', 'discovering', 'countryside', 'countless', 'constructed', 'communist', 'chasing', 'characterization', 'causing', 'bean', 'attacked', 'arnold', 'aging', 'accompanied', 'stunt', 'slick', 'shoots', 'resolution', 'repeatedly', 'prevent', 'ponyo', 'originality', 'mysteries', 'movements', 'mistress', 'measure', 'margaret', 'kings', 'june', 'imagined', 'halfway', 'forbidden', 'falk', 'dropped', 'dorothy', 'digital', 'decisions', 'considerable', 'closeups', 'border', 'beneath', 'awe', 'audio', 'appreciation', '1995', '1980', 'wounded', 'tortured', 'sincere', 'shining', 'saves', 'revolutionary', 'pulling', 'proof', 'possibility', 'opinions', 'offering', 'nostalgia', 'maker', 'madonna', 'liking', 'involve', 'hopper', 'grandmother', 'ghosts', 'exposed', 'eighties', 'eastern', 'doll', 'compassion', 'chuck', 'carter', 'careers', 'bmovie', 'blows', 'argument', 'americas', '1st', '1940s', 'widmark', 'vengeance', 'valley', 'university', 'tracy', 't', 'spin', 'similarly', 'ships', 'shallow', 'shakespeares', 'selfish', 'robinson', 'relations', 'raymond', 'popcorn', 'pointed', 'pathetic', 'panic', 'pack', 'nostalgic', 'nelson', 'mountains', 'martha', 'loads', 'household', 'gifted', 'fatal', 'expensive', 'edie', 'e', 'dragon', 'developing', 'da', 'crucial', 'critic', 'conveys', 'complexity', 'comparing', 'command', 'comfort', 'christie', 'choreography', 'careful', 'angela', '1971', 'wrapped', 'wing', 'wellknown', 'timothy', 'testament', 'teaching', 'subtlety', 'staying', 'smoking', 'simplicity', 'sarandon', 'royal', 'rip', 'remaining', 'rage', 'precious', 'occur', 'menacing', 'lips', 'kirk', 'joined', 'hugh', 'hitman', 'georges', 'gangsters', 'fond', 'emphasis', 'drunken', 'doug', 'demon', 'consistently', 'che', 'bucks', 'bridges', 'afterwards', 'throwing', 'surviving', 'succeeded', 'strengths', 'staged', 'solution', 'signs', 'screenbr', 'scheme', 'row', 'rebel', 'rap', 'progresses', 'prize', 'prejudice', 'polished', 'philosophy', 'murray', 'murderous', 'morris', 'metaphor', 'installment', 'illness', 'hint', 'fords', 'fashioned', 'f', 'doubts', 'desires', 'curiosity', 'copies', 'conversations', 'buffs', 'bold', 'admittedly', 'absence', '911', '16', 'wooden', 'winds', 'upbr', 'understandable', 'therebr', 'terry', 'taught', 'string', 'showbr', 'screenwriter', 'scope', 'roman', 'quinn', 'projects', 'per', 'landscapes', 'intention', 'hitch', 'headed', 'hart', 'feelgood', 'fascinated', 'exquisite', 'doctors', 'disturbed', 'displayed', 'defined', 'crossing', 'carmen', 'buildings', 'brooklyn', 'bravo', 'bell', 'bag', 'backgrounds', 'arrival', 'apocalypse', 'aids', 'activities', '2002', 'widely', 'werewolf', 'utter', 'unexpectedly', 'twilight', 'ticket', 'terrorist', 'sub', 'sticks', 'steel', 'ranger', 'purchased', 'promises', 'priceless', 'performs', 'nonstop', 'nervous', 'muppets', 'moreover', 'marion', 'mansion', 'maintain', 'legs', 'homeless', 'hates', 'harder', 'greatness', 'fay', 'faults', 'ex', 'elaborate', 'ease', 'dialogs', 'crystal', 'competent', 'closest', 'carrie', 'boot', 'bernard', 'attached', 'alongside', 'affairs', 'watchbr', 'tracks', 'timesbr', 'technicolor', 'symbolic', 'suggested', 'setup', 'seldom', 'racial', 'proceedings', 'poster', 'perry', 'overwhelming', 'nose', 'newspaper', 'montana', 'lively', 'jewel', 'integrity', 'hayworth', 'grasp', 'elsewhere', 'educational', 'desperation', 'dear', 'cinematographer', 'celebrity', 'bumbling', 'ambiguous', 'altogether', 'aid', 'ad', 'workbr', 'whatsoever', 'vibrant', 'ties', 'swim', 'surfing', 'stretch', 'stan', 'someday', 'senses', 'scenebr', 'samurai', 'ruined', 'responsibility', 'pro', 'poem', 'planning', 'pie', 'phil', 'notion', 'nonsense', 'newman', 'musician', 'morebr', 'mayor', 'mafia', 'les', 'knight', 'juliet', 'iii', 'idiot', 'historically', 'guests', 'gag', 'funbr', 'focusing', 'financial', 'explores', 'exploration', 'experiment', 'doomed', 'dolls', 'doc', 'divine', 'disbelief', 'dignity', 'diana', 'dances', 'catholic', 'bull', 'blew', 'anyways', 'winters', 'willis', 'voyage', 'sum', 'strike', 'spoilersbr', 'spielberg', 'spending', 'sheen', 'scientific', 'rick', 'relax', 'reached', 'randy', 'racist', 'punishment', 'prostitute', 'promising', 'popularity', 'nicole', 'nations', 'maggie', 'legal', 'laurel', 'jeffrey', 'irritating', 'interactions', 'illegal', 'heartfelt', 'goodbye', 'generations', 'expressed', 'exchange', 'eugene', 'drawing', 'distance', 'devastating', 'cope', 'con', 'composer', 'commented', 'casual', 'butler', 'birds', 'bathroom', 'addiction', 'acceptable', '1999', 'yellow', 'website', 'victory', 'turner', 'thrills', 'tarantino', 'smiling', 'sixties', 'report', 'region', 'principal', 'orders', 'lust', 'lol', 'kubrick', 'jenny', 'intent', 'harvey', 'haines', 'folk', 'fighter', 'existed', 'enemies', 'dollar', 'discuss', 'davies', 'complaints', 'closed', 'civilization', 'charlotte', 'brosnan', 'biography', 'authority', 'assassin', 'arguably', '60', '1972', 'twin', 'thick', 'temple', 'tag', 'swimming', 'sunshine', 'streisand', 'sounded', 'socalled', 'samuel', 'saga', 'press', 'passes', 'neck', 'natalie', 'mild', 'mesmerizing', 'huston', 'humble', 'francisco', 'fisher', 'duke', 'difficulties', 'cuba', 'couples', 'classes', 'cities', 'circus', 'canada', 'buff', 'beer', 'beatles', 'argue', 'advanced', '2nd', 'wwe', 'wells', 'wanna', 'visiting', 'tongue', 'thirty', 'theyll', 'teams', 'sung', 'stuart', 'spirits', 'shared', 'scottish', 'scenesbr', 'retired', 'remarkably', 'rabbit', 'pursuit', 'pressure', 'portrayals', 'pointless', 'photos', 'parent', 'painfully', 'orson', 'offensive', 'nightmares', 'motives', 'montgomery', 'mindless', 'mile', 'method', 'marvel', 'marshall', 'loy', 'logical', 'likewise', 'lasting', 'kyle', 'journalist', 'insanity', 'hollywoods', 'foxx', 'familys', 'explosion', 'exercise', 'enterprise', 'engrossing', 'endings', 'dickens', 'denzel', 'demonstrates', 'consistent', 'cinemas', 'centers', 'cd', 'businessman', 'beaten', '1983', 'walls', 'walken', 'vegas', 'tyler', 'turkish', 'transfer', 'trained', 'tonight', 'tastes', 'superhero', 'spare', 'root', 'rewarding', 'renting', 'reflects', 'realizing', 'purple', 'population', 'paulie', 'parties', 'ought', 'nolan', 'namely', 'montage', 'meg', 'loyalty', 'lou', 'leland', 'lauren', 'irene', 'greed', 'frankenstein', 'drops', 'disappeared', 'designs', 'defeat', 'dancers', 'cruise', 'crisp', 'championship', 'challenges', 'aussie', 'antonio', 'amir', 'alvin', 'aimed', '24', '2007', 'wished', 'unpredictable', 'toni', 'theyd', 'strip', 'spain', 'simultaneously', 'simplistic', 'showdown', 'showcase', 'scripts', 'rolebr', 'rising', 'richardson', 'richards', 'respective', 'resembles', 'realm', 'quotes', 'practice', 'polanski', 'pfeiffer', 'owners', 'miyazaki', 'minimal', 'junior', 'jews', 'intentions', 'houses', 'globe', 'futuristic', 'frustration', 'farley', 'evans', 'earned', 'dylan', 'devito', 'deliberately', 'darren', 'cruelty', 'coast', 'christ', 'catchy', 'cared', 'burned', 'buffalo', 'brutally', 'borrowed', 'berlin', 'beliefs', 'agents', 'warren', 'virginia', 'vague', 'urge', 'unhappy', 'troubles', 'transition', 'tracking', 'supported', 'stomach', 'smoke', 'sidekick', 'robbery', 'restrained', 'receives', 'queens', 'puppet', 'prot', 'prominent', 'preview', 'presenting', 'premiere', 'phantom', 'palace', 'otherbr', 'nicholson', 'mighty', 'methods', 'loosely', 'literature', 'lionel', 'knife', 'kitchen', 'keen', 'istanbul', 'isolated', 'improved', 'homosexual', 'gray', 'fingers', 'finger', 'fifteen', 'emperor', 'distinct', 'dimension', 'delicious', 'dalton', 'contest', 'confidence', 'combine', 'climactic', 'champion', 'wore', 'weakest', 'voiced', 'translation', 'survivors', 'spirited', 'simpsons', 'shake', 'september', 'sandler', 'safety', 'rooney', 'represented', 'relatives', 'politically', 'phenomenal', 'newly', 'mann', 'layers', 'juvenile', 'judy', 'invited', 'ingredients', 'hitting', 'hamilton', 'guarantee', 'frances', 'farce', 'exceptionally', 'dub', 'dozens', 'crush', 'continuity', 'contained', 'connect', 'childs', 'brutality', 'blowing', 'blob', 'bath', 'authorities', 'accurately', 'aaron', '45', 'worker', 'wifes', 'wellwritten', 'virtual', 'twelve', 'seenbr', 'screams', 'plight', 'occasion', 'monty', 'masses', 'jealousy', 'iron', 'ingenious', 'immediate', 'hugely', 'hartley', 'glasses', 'funnybr', 'frequent', 'fired', 'exotic', 'enthusiasm', 'el', 'dust', 'dude', 'domestic', 'disneys', 'diamond', 'dialogues', 'departure', 'cultures', 'costar', 'colin', 'channels', 'burning', 'brady', 'bothered', 'bone', 'block', 'arrogant', 'amy', '1968', 'wisdom', 'weakness', 'surroundings', 'sublime', 'spread', 'specially', 'size', 'shares', 'roots', 'respected', 'regarded', 'raises', 'psychotic', 'producing', 'playboy', 'paramount', 'paradise', 'online', 'marked', 'lovebr', 'julian', 'jordan', 'jerk', 'hung', 'harrowing', 'furthermore', 'floating', 'executive', 'earl', 'eager', 'delightfully', 'credibility', 'crack', 'confrontation', 'chills', 'chapter', 'carey', 'cards', 'camerawork', 'belong', 'astaire', 'aforementioned', 'adequate', 'additional', 'acceptance', 'absorbing', '70', 'underworld', 'understands', 'unaware', 'tiger', 'tap', 'sunny', 'strongest', 'simmons', 'shell', 'secretly', 'scripted', 'schools', 'sadistic', 'ruby', 'rooms', 'rocky', 'rex', 'residents', 'remained', 'releases', 'photographer', 'othello', 'objective', 'marries', 'lifes', 'lately', 'ingrid', 'icon', 'hip', 'hilariously', 'guitar', 'freddy', 'flair', 'ego', 'dustin', 'dubbing', 'detract', 'corporate', 'controlled', 'conscience', 'combines', 'clothing', 'christy', 'christina', 'challenged', 'bottle', 'bore', 'bland', 'arrived', 'analysis', 'witnessed', 'wellmade', 'weaknesses', 'waitress', 'thru', 'tea', 'survived', 'stunningly', 'stress', 'stages', 'spoiled', 'sharing', 'seventies', 'satisfy', 'sandy', 'roof', 'rolled', 'riot', 'rhythm', 'representation', 'regards', 'referred', 'portion', 'paintings', 'ordered', 'onscreen', 'misses', 'middleaged', 'kicked', 'judging', 'jaded', 'investigate', 'inevitably', 'impress', 'horrifying', 'harold', 'graham', 'gerard', 'gandhi', 'femme', 'energetic', 'election', 'diverse', 'differently', 'damon', 'celebration', 'casts', 'bud', 'blair', 'afford', 'active', 'abusive', 'warned', 'visits', 'triangle', 'tomorrow', 'stevens', 'singers', 'shoulder', 'settle', 'sentence', 'robbins', 'rivers', 'resist', 'reluctant', 'refused', 'reasonable', 'precisely', 'politicians', 'pages', 'nightclub', 'mute', 'models', 'mode', 'minister', 'masterfully', 'liberal', 'kermit', 'interestingly', 'hints', 'grab', 'fifth', 'fido', 'eyre', 'excellently', 'exaggerated', 'etcbr', 'catching', 'buddies', 'behaviour', 'appropriately', 'adaptations', '3d', '35', '1945', 'wider', 'wacky', 'turkey', 'towns', 'stunned', 'stumbled', 'sometime', 'significance', 'shower', 'sappy', 'ritter', 'react', 'reaching', 'pushes', 'provocative', 'programme', 'paint', 'owns', 'nuts', 'novak', 'neatly', 'matched', 'marketing', 'machines', 'inbr', 'immigrant', 'hyde', 'gromit', 'forcing', 'firm', 'experimental', 'errol', 'encourage', 'eats', 'difficulty', 'depressed', 'demanding', 'demand', 'dazzling', 'danish', 'danes', 'damage', 'daffy', 'czech', 'creativity', 'chicken', 'chess', 'bonnie', 'bittersweet', 'betterbr', 'austin', 'attend', 'astounding', 'assigned', 'ali', 'airplane', 'advance', 'accuracy', '2003', '19th', '1996', '1969', 'yearsbr', 'wartime', 'wang', 'uneven', 'thieves', 'suburban', 'subtly', 'square', 'sherlock', 'resemblance', 'puzzle', 'noise', 'nicolas', 'motivations', 'menace', 'listed', 'kingdom', 'kenneth', 'kansas', 'justify', 'joins', 'joel', 'jesse', 'hoot', 'heroin', 'hammer', 'gloria', 'fx', 'furious', 'editor', 'dragged', 'crappy', 'corpse', 'confront', 'communicate', 'cheese', 'campaign', 'brooding', 'branagh', 'brains', 'boogie', 'blacks', 'barrymore', 'antwone', 'amateur', '1979', 'wives', 'underwater', 'secondary', 'scotland', 'records', 'prepare', 'polish', 'pants', 'painted', 'outer', 'orleans', 'molly', 'mini', 'linda', 'limitations', 'leon', 'knock', 'joey', 'jackass', 'insightful', 'horribly', 'hook', 'guaranteed', 'greg', 'grateful', 'gender', 'gems', 'garden', 'fortunate', 'explaining', 'ear', 'definition', 'defend', 'dating', 'daniels', 'cummings', 'conspiracy', 'confident', 'concern', 'coffee', 'chucky', 'choreographed', 'cheating', 'cary', 'capital', 'blast', 'bare', 'ambition', 'alas', 'acclaimed', 'writes', 'winchester', 'wet', 'warrior', 'visited', 'user', 'titled', 'threatening', 'sydney', 'statue', 'spaghetti', 'spade', 'shanghai', 'sailor', 'ronald', 'retarded', 'respectively', 'rely', 'quietly', 'primitive', 'possessed', 'plague', 'peoplebr', 'otto', 'orchestra', 'offbeat', 'occasions', 'nominations', 'nod', 'nemesis', 'morals', 'modest', 'melville', 'mayhem', 'masterpieces', 'marine', 'lengthy', 'lazy', 'kline', 'kinnear', 'karate', 'july', 'hoped', 'hats', 'greatbr', 'goodness', 'glued', 'fever', 'ellen', 'egyptian', 'dee', 'debate', 'conservative', 'cliff', 'clan', 'chooses', 'butt', 'bonds', 'altman', 'adopted', '1990', 'woo', 'witnesses']\n"
     ]
    }
   ],
   "source": [
    "print(vectorize_layer.get_vocabulary())"
   ]
  },
  {
   "cell_type": "code",
   "execution_count": 33,
   "metadata": {},
   "outputs": [],
   "source": [
    "# vocab = vectorize_layer.get_vocabulary()\n",
    "# vocab = vocab[0:2] + ['[SOS]'] + vocab[2:-1]\n",
    "# vectorize_layer.set_vocabulary(vocab)\n",
    "# print(vectorize_layer.get_vocabulary())"
   ]
  },
  {
   "cell_type": "code",
   "execution_count": 34,
   "metadata": {},
   "outputs": [],
   "source": [
    "def separar_ultimo_token(x):\n",
    "    x_ = vectorize_layer(x)\n",
    "    x_ = x_[:,:-1]\n",
    "    y_ = x_[:,-1:]\n",
    "    return x_, y_"
   ]
  },
  {
   "attachments": {},
   "cell_type": "markdown",
   "metadata": {},
   "source": [
    "Qual a saida do classificar? Sai a probabilidade de cada palavra do seu vocabulário\n",
    "Qual a entrada dele? uma frase \n",
    "\n",
    "Ignora palavras nao existentes"
   ]
  },
  {
   "cell_type": "code",
   "execution_count": 35,
   "metadata": {},
   "outputs": [
    {
     "name": "stdout",
     "output_type": "stream",
     "text": [
      "Model: \"model_4\"\n",
      "_________________________________________________________________\n",
      " Layer (type)                Output Shape              Param #   \n",
      "=================================================================\n",
      " input_3 (InputLayer)        [(None, 9)]               0         \n",
      "                                                                 \n",
      " embedding (Embedding)       (None, 9, 15)             75000     \n",
      "                                                                 \n",
      " lstm_2 (LSTM)               (None, 15)                1860      \n",
      "                                                                 \n",
      " dense_2 (Dense)             (None, 5000)              80000     \n",
      "                                                                 \n",
      " softmax_2 (Softmax)         (None, 5000)              0         \n",
      "                                                                 \n",
      "=================================================================\n",
      "Total params: 156,860\n",
      "Trainable params: 156,860\n",
      "Non-trainable params: 0\n",
      "_________________________________________________________________\n"
     ]
    }
   ],
   "source": [
    "def predict_word(seq_len, latent_dim, vocab_size):\n",
    "    input_layer = Input(shape=(seq_len-1,))\n",
    "    x = input_layer\n",
    "    x = Embedding(vocab_size, latent_dim, name='embedding', mask_zero=True)(x)\n",
    "    x = LSTM(latent_dim, kernel_initializer='glorot_uniform')(x)#kernel initializar diz sobre os pesos dos kernels #mask zero é para mascarar os zeros e nao rodar sem motivo\n",
    "    latent_rep = x\n",
    "    x = Dense(vocab_size)(x)\n",
    "    x = Softmax()(x)\n",
    "    return Model(input_layer, x), Model(input_layer, latent_rep)\n",
    "\n",
    "predictor, latent = predict_word(10, 15, vocab_size)\n",
    "predictor.summary()\n",
    "#opt = keras.optimizers.SGD(learning_rate=1, momentum=0.9)\n",
    "opt = keras.optimizers.Nadam(learning_rate=0.1)\n",
    "loss_fn = keras.losses.SparseCategoricalCrossentropy(\n",
    "    ignore_class=1,\n",
    "    name=\"sparse_categorical_crossentropy\",\n",
    ")\n",
    "\n",
    "predictor.compile(loss=loss_fn, optimizer=opt, metrics=[\"accuracy\"])\n"
   ]
  },
  {
   "cell_type": "code",
   "execution_count": 36,
   "metadata": {},
   "outputs": [
    {
     "name": "stdout",
     "output_type": "stream",
     "text": [
      "Epoch 1/20\n",
      "10/10 [==============================] - 5s 263ms/step - loss: 6.8101 - accuracy: 0.0298\n",
      "Epoch 2/20\n",
      "10/10 [==============================] - 3s 225ms/step - loss: 4.8560 - accuracy: 0.1050\n",
      "Epoch 3/20\n",
      "10/10 [==============================] - 3s 201ms/step - loss: 3.5529 - accuracy: 0.3239\n",
      "Epoch 4/20\n",
      "10/10 [==============================] - 3s 229ms/step - loss: 2.6307 - accuracy: 0.5081\n",
      "Epoch 5/20\n",
      "10/10 [==============================] - 3s 215ms/step - loss: 2.0463 - accuracy: 0.6014\n",
      "Epoch 6/20\n",
      "10/10 [==============================] - 2s 152ms/step - loss: 1.6611 - accuracy: 0.6559\n",
      "Epoch 7/20\n",
      "10/10 [==============================] - 3s 230ms/step - loss: 1.4081 - accuracy: 0.6851\n",
      "Epoch 8/20\n",
      "10/10 [==============================] - 2s 156ms/step - loss: 1.2264 - accuracy: 0.7048\n",
      "Epoch 9/20\n",
      "10/10 [==============================] - 4s 366ms/step - loss: 1.0869 - accuracy: 0.7166\n",
      "Epoch 10/20\n",
      "10/10 [==============================] - 3s 200ms/step - loss: 0.9779 - accuracy: 0.7301\n",
      "Epoch 11/20\n",
      "10/10 [==============================] - 2s 163ms/step - loss: 0.8869 - accuracy: 0.7394\n",
      "Epoch 12/20\n",
      "10/10 [==============================] - 2s 140ms/step - loss: 0.8115 - accuracy: 0.7492\n",
      "Epoch 13/20\n",
      "10/10 [==============================] - 3s 210ms/step - loss: 0.7439 - accuracy: 0.7596\n",
      "Epoch 14/20\n",
      "10/10 [==============================] - 2s 189ms/step - loss: 0.6848 - accuracy: 0.7670\n",
      "Epoch 15/20\n",
      "10/10 [==============================] - 2s 153ms/step - loss: 0.6334 - accuracy: 0.7765\n",
      "Epoch 16/20\n",
      "10/10 [==============================] - 3s 195ms/step - loss: 0.5862 - accuracy: 0.7839\n",
      "Epoch 17/20\n",
      "10/10 [==============================] - 2s 134ms/step - loss: 0.5482 - accuracy: 0.7904\n",
      "Epoch 18/20\n",
      "10/10 [==============================] - 2s 145ms/step - loss: 0.5115 - accuracy: 0.7985\n",
      "Epoch 19/20\n",
      "10/10 [==============================] - 2s 143ms/step - loss: 0.4789 - accuracy: 0.8033\n",
      "Epoch 20/20\n",
      "10/10 [==============================] - 2s 179ms/step - loss: 0.4535 - accuracy: 0.8094\n"
     ]
    }
   ],
   "source": [
    "history = predictor.fit(dataset.map(separar_ultimo_token), epochs=20, verbose=1)\n"
   ]
  },
  {
   "attachments": {},
   "cell_type": "markdown",
   "metadata": {},
   "source": [
    "Retorna a palavra mais provavel depois"
   ]
  },
  {
   "cell_type": "code",
   "execution_count": 37,
   "metadata": {},
   "outputs": [
    {
     "name": "stdout",
     "output_type": "stream",
     "text": [
      "1/1 [==============================] - 4s 4s/step\n",
      "[[3.7838228e-07 3.5728638e-07 9.0773879e-03 ... 1.6849135e-03\n",
      "  3.7065590e-07 7.6613578e-06]]\n",
      "tf.Tensor(1744, shape=(), dtype=int64)\n",
      "mixed\n"
     ]
    }
   ],
   "source": [
    "pred = predictor.predict(vectorize_layer([\"this movie is\"])[:,:-1])\n",
    "print(pred)\n",
    "idx = tf.argmax(pred, axis=1)[0]\n",
    "print(idx)\n",
    "word = vectorize_layer.get_vocabulary()[idx]\n",
    "print(word)"
   ]
  },
  {
   "cell_type": "code",
   "execution_count": 16,
   "metadata": {},
   "outputs": [
    {
     "name": "stdout",
     "output_type": "stream",
     "text": [
      "1/1 [==============================] - 0s 41ms/step\n",
      "\n",
      "1/1 [==============================] - 0s 19ms/step\n",
      "\n"
     ]
    },
    {
     "data": {
      "text/plain": [
       "'this movie is  '"
      ]
     },
     "execution_count": 16,
     "metadata": {},
     "output_type": "execute_result"
    }
   ],
   "source": [
    "def predizer(entrada, numero_de_predicoes, modelo, vectorize_layer):\n",
    "    frase = entrada\n",
    "    for n in range(numero_de_predicoes):\n",
    "        pred = modelo.predict(vectorize_layer([frase])[:,:-1])\n",
    "        idx = tf.argmax(pred, axis=1)[0]\n",
    "        word = vectorize_layer.get_vocabulary()[idx]\n",
    "        frase = frase + \" \" + word\n",
    "        print(word)\n",
    "    return frase\n",
    "\n",
    "predizer(\"this movie is\", 2, predictor, vectorize_layer)"
   ]
  },
  {
   "cell_type": "code",
   "execution_count": 106,
   "metadata": {},
   "outputs": [
    {
     "name": "stdout",
     "output_type": "stream",
     "text": [
      "1/1 [==============================] - 0s 81ms/step\n",
      "but\n",
      "1/1 [==============================] - 0s 41ms/step\n",
      "or\n",
      "1/1 [==============================] - 0s 55ms/step\n",
      "off\n",
      "1/1 [==============================] - 0s 52ms/step\n",
      "chance\n",
      "1/1 [==============================] - 0s 100ms/step\n",
      "visual\n",
      "1/1 [==============================] - 0s 41ms/step\n",
      "100\n",
      "1/1 [==============================] - 0s 44ms/step\n",
      "hero\n",
      "1/1 [==============================] - 0s 64ms/step\n",
      "cannot\n",
      "1/1 [==============================] - 0s 46ms/step\n",
      "footage\n",
      "1/1 [==============================] - 0s 83ms/step\n",
      "came\n"
     ]
    },
    {
     "data": {
      "text/plain": [
       "'i like how but or off chance visual 100 hero cannot footage came'"
      ]
     },
     "execution_count": 106,
     "metadata": {},
     "output_type": "execute_result"
    }
   ],
   "source": [
    "def predizer2(entrada, numero_de_predicoes, modelo, vectorize_layer):\n",
    "    frase = entrada\n",
    "    contexto = frase # Contexto deslizante\n",
    "    for n in range(numero_de_predicoes):\n",
    "        pred = modelo.predict(vectorize_layer([contexto])[:,:-1])\n",
    "\n",
    "        # Nao repetir palavras\n",
    "        tentando = True\n",
    "        while tentando:\n",
    "\n",
    "            # Selectionar de k-best\n",
    "            candidatos = tf.math.top_k(pred, k=10).indices[0,:]\n",
    "            idx = np.random.choice(candidatos.numpy())\n",
    "#            idx = tf.argmax(pred, axis=1)[0]\n",
    "            word = vectorize_layer.get_vocabulary()[idx]\n",
    "            if word in frase.split():\n",
    "                pred[0][idx] = 0\n",
    "            else:\n",
    "                tentando = False\n",
    "                \n",
    "        frase = frase + \" \" + word\n",
    "        contexto = contexto + \" \" + word\n",
    "        #print(frase)\n",
    "        contexto = ' '.join(frase.split()[1:])\n",
    "        print(word)\n",
    "    return frase\n",
    "\n",
    "predizer2(\"i like how\", 10, predictor, vectorize_layer)"
   ]
  },
  {
   "cell_type": "code",
   "execution_count": null,
   "metadata": {},
   "outputs": [],
   "source": []
  },
  {
   "cell_type": "code",
   "execution_count": null,
   "metadata": {},
   "outputs": [],
   "source": []
  }
 ],
 "metadata": {
  "kernelspec": {
   "display_name": "math",
   "language": "python",
   "name": "python3"
  },
  "language_info": {
   "codemirror_mode": {
    "name": "ipython",
    "version": 3
   },
   "file_extension": ".py",
   "mimetype": "text/x-python",
   "name": "python",
   "nbconvert_exporter": "python",
   "pygments_lexer": "ipython3",
   "version": "3.9.16"
  },
  "orig_nbformat": 4
 },
 "nbformat": 4,
 "nbformat_minor": 2
}
