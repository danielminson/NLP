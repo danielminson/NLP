{
 "cells": [
  {
   "attachments": {},
   "cell_type": "markdown",
   "metadata": {},
   "source": [
    "# Modelo linguístico"
   ]
  },
  {
   "attachments": {},
   "cell_type": "markdown",
   "metadata": {},
   "source": [
    "Modelos Seq2Seq mapeiam sequências de tokens para outras sequências de tokens. Em geral, eles têm um par encoder-decoder. O encoder mapeia uma sequência inteira para "
   ]
  },
  {
   "cell_type": "code",
   "execution_count": 79,
   "metadata": {},
   "outputs": [],
   "source": [
    "from keras.layers import Input, Dense, Activation, TimeDistributed, Softmax, TextVectorization, Reshape, RepeatVector, Conv1D, Bidirectional, AveragePooling1D, UpSampling1D, Embedding, Concatenate, GlobalAveragePooling1D, LSTM, Multiply\n",
    "from keras.models import Model\n",
    "import tensorflow as tf\n",
    "import keras\n",
    "import numpy as np"
   ]
  },
  {
   "cell_type": "code",
   "execution_count": 3,
   "metadata": {},
   "outputs": [],
   "source": [
    "# Refazer estrutura do dataset: uma frase por arquivo, arquivos em um diretorio\n",
    "import pandas as pd\n",
    "import os\n",
    "import re\n",
    "from tqdm import tqdm\n",
    "\n",
    "#df = pd.read_csv('datasets/IMDB Dataset.csv')\n",
    "#DATASET_DIR = './frases_imdb/'\n",
    "DATASET_DIR = './datasets/frases/'\n",
    "#DATASET_DIR = './datasets/frases_classificacao/'\n"
   ]
  },
  {
   "cell_type": "code",
   "execution_count": 4,
   "metadata": {},
   "outputs": [],
   "source": [
    "\n",
    "# n_texto = 0\n",
    "# for i in tqdm(range(len(df))):\n",
    "#     texto = df.iloc[i]['review']\n",
    "#     #print(texto)\n",
    "#     texto = texto.replace('<br />', '.')\n",
    "#     #texto = re.sub(r'[\\n \\t][\\n \\t][\\n \\t]+', '.', texto)\n",
    "#     texto = re.split(r'[.!?\\n\\t-]', texto)\n",
    "#     #print(texto)\n",
    "#     for t in texto:\n",
    "\n",
    "#         t = t.lstrip().rstrip()\n",
    "#         if len(t) > 5:\n",
    "#             #print(t)\n",
    "#             fname = 'review_' + str(n_texto) + '.txt'\n",
    "#             with open(DATASET_DIR + fname, 'w') as f:\n",
    "#                 f.write(t)\n",
    "#             n_texto += 1\n",
    "\n",
    "# print(\"Criei textos:\", n_texto)\n"
   ]
  },
  {
   "cell_type": "code",
   "execution_count": 10,
   "metadata": {},
   "outputs": [
    {
     "name": "stdout",
     "output_type": "stream",
     "text": [
      "Found 22516 files belonging to 1 classes.\n"
     ]
    }
   ],
   "source": [
    "# Ler um dataset e fazer batches\n",
    "from tensorflow.keras.utils import text_dataset_from_directory\n",
    "\n",
    "dataset = text_dataset_from_directory(\n",
    "    DATASET_DIR,\n",
    "    labels=None,\n",
    "    label_mode='int',\n",
    "    class_names=None,\n",
    "    batch_size=2048,\n",
    "    max_length=None,\n",
    "    shuffle=True,\n",
    "    seed=None,\n",
    "    validation_split=None,\n",
    "    subset=None,\n",
    "    follow_links=False\n",
    ")"
   ]
  },
  {
   "cell_type": "code",
   "execution_count": 84,
   "metadata": {},
   "outputs": [],
   "source": [
    "from keras.layers import Input, TextVectorization\n",
    "from keras.models import Model\n",
    "vocab_size = 5000\n",
    "vectorize_layer = TextVectorization(max_tokens=vocab_size, output_sequence_length=10)\n",
    "vectorize_layer.adapt(dataset)"
   ]
  },
  {
   "cell_type": "code",
   "execution_count": 85,
   "metadata": {},
   "outputs": [
    {
     "name": "stdout",
     "output_type": "stream",
     "text": [
      "['', '[UNK]', 'the', 'and', 'of', 'a', 'to', 'in', 'is', 'that', 'br', 'it', 'with', 'as', 'this', 'i', 'for', 'but', 'was', 'on', 'his', 'film', 'by', 'movie', 'who', 'are', 'he', 'not', 'be', 'have', 'from', 'you', 'at', 'one', 'an', 'her', 'they', 'all', 'its', 'or', 'like', 'so', 'which', 'some', 'about', 'out', 'has', 'when', 'their', 'just', 'more', 'up', 'if', 'what', 'there', 'would', 'even', 'into', 'time', 'she', 'very', 'only', 'had', 'story', 'because', 'were', 'good', 'can', 'other', 'no', 'him', 'than', 'we', 'people', 'them', 'being', 'most', 'been', 'will', 'see', 'get', 'where', 'my', 'after', 'much', 'really', 'first', 'how', 'films', 'characters', 'well', 'then', 'also', 'character', 'me', 'any', 'way', 'while', 'do', 'make', 'made', 'two', 'great', 'man', 'life', 'movies', 'many', 'could', 'off', 'little', 'scene', 'bad', 'over', 'such', 'through', 'think', 'plot', 'love', 'too', 'never', 'show', 'dont', 'scenes', 'these', 'still', 'know', 'seen', 'best', 'back', 'those', 'something', 'does', 'end', 'your', 'before', 'here', 'young', 'director', 'world', 'though', 'new', 'between', 'watch', 'years', 'actually', 'same', 'go', 'old', 'acting', 'actors', 'down', 'better', 'did', 'real', 'another', 'find', 'us', 'doesnt', 'work', 'going', 'now', 'should', 'around', 'ever', 'makes', 'things', 'every', 'own', 'say', 'both', 'thing', 'fact', 'seems', 'take', 'part', 'few', 'look', 'without', 'may', 'having', 'watching', 'gets', 'cast', 'lot', 'family', 'why', 'since', 'rather', 'horror', 'woman', 'long', 'enough', 'didnt', 'im', 'come', 'bit', 'away', 'although', 'original', 'played', 'each', 'again', 'point', 'nothing', 'trying', 'almost', 'whole', 'series', 'might', 'girl', 'last', 'quite', 'big', 'always', 'american', 'theres', 'music', 'right', 'making', 'want', 'funny', 'place', 'least', 'pretty', 'interesting', 'yet', 'war', 'far', 'day', 'role', 'kind', 'probably', 'audience', 'action', 'cant', 'himself', 'times', 'our', 'must', 'got', 'script', 'however', 'shows', 'performance', 'guy', 'especially', 'set', 'hes', 'feel', 'anything', 'minutes', 'different', 'together', 'main', 'looking', 'during', 'screen', 'course', 'comes', 'thought', 'goes', 'instead', 'along', 'death', 'put', 'someone', 'comedy', 'give', 'sense', 'seem', 'three', 'takes', 'john', 'home', 'done', 'later', 'idea', 'house', 'night', 'once', 'found', 'play', 'isnt', '\\x96', 'help', 'everything', 'reason', 'dead', 'thats', 'half', 'wife', 'tv', 'father', 'true', 'getting', 'black', 'men', 'given', 'hard', 'friends', 'book', 'plays', 'year', 'shot', 'couple', 'use', 'left', 'human', 'believe', 'money', 'ive', 'head', 'beautiful', 'anyone', 'high', 'used', 'sure', 'camera', 'everyone', 'effects', 'looks', 'completely', 'star', 'special', 'simply', 'against', 'women', 'less', 'am', 'actor', 'small', 'mother', 'saw', 'performances', 'face', 'evil', 'under', 'playing', 'full', 'including', 'hollywood', '2', 'until', 'finally', 'ending', 'mind', 'maybe', 'seeing', 'school', 'production', 'second', 'version', 'short', 'sex', 'person', 'despite', 'become', 'moments', 'lives', 'said', 'poor', 'perhaps', 'gives', 'job', 'excellent', 'watched', 'often', 'others', 'name', 'early', 'whose', 'start', 'based', 'tell', 'keep', 'came', 'understand', 'try', 'case', 'themselves', 'rest', 'able', 'lead', 'live', 'several', 'itself', 'either', 'behind', 'police', 'kids', 'group', 'doing', 'children', 'budget', 'turn', 'fun', 'dvd', 'next', 'line', 'cinema', 'supposed', 'past', 'car', 'written', 'read', 'called', 'viewer', 'sort', 'lost', 'else', 'style', 'let', 'top', 'side', 'throughout', 'youre', 'wasnt', 'town', 'need', 'history', 'days', 'order', 'classic', 'final', 'city', 'boy', 'truly', 'friend', 'tries', 'guys', 'worst', 'went', 'stupid', 'piece', 'picture', 'dialogue', 'kill', 'killer', 'involved', 'example', 'entire', 'son', 'already', 'nice', 'turns', 'lines', 'beginning', 'wrong', 'sound', 'relationship', 'direction', 'body', 'becomes', 'white', 'lack', 'wonderful', 'wants', 'shes', 'murder', 'michael', 'dark', 'child', 'starts', 'possible', 'girls', 'certainly', 'video', 'remember', 'stars', 'living', 'episode', 'run', 'ones', 'fans', 'coming', 'worth', 'taken', 'late', 'killed', 'feeling', 'daughter', 'due', 'act', 'sometimes', 'heart', 'close', 'british', 'running', 'events', 'title', 'boring', 'robert', 'obviously', 'game', 'eyes', 'care', 'felt', 'soon', 'local', 'fight', 'upon', 'hand', 'experience', 'known', 'husband', 'drama', 'number', 'matter', 'entertaining', 'problem', 'power', 'country', 'awful', 'across', 'terrible', 'moment', 'except', 'parts', 'modern', 'david', 'attempt', 'wanted', 'leave', 'brother', 'english', 'directed', 'art', 'actress', '3', 'works', 'theyre', 'fan', 'absolutely', 'type', 'shots', 'quality', 'mean', 'james', 'career', 'unfortunately', 'stories', 'sequence', 'seemed', 'opening', 'hour', 'perfect', 'female', 'french', 'blood', 'exactly', 'reality', 'particularly', 'writing', 'score', 'released', 'low', 'team', 'space', 'genre', 'brilliant', 'totally', 'whether', 'told', 'directors', '10', 'hope', 'couldnt', 'bring', 'took', 'today', 'middle', 'happens', 'fine', 'alone', 'room', 'humor', 'extremely', 'within', 'voice', 'using', 'taking', 'violence', 'age', 'finds', 'decent', 'novel', 'giving', 'whom', 'hero', 'ends', 'tells', 'important', 'cut', 'actual', 'saying', 'named', 'song', 'apparently', 'worse', 'turned', 'sister', 'roles', 'interest', 'complete', 'showing', 'peter', 'musical', 'among', 'working', 'view', 'mostly', 'etc', 'york', 'usual', 'deal', 'clear', 'certain', 'yes', 'viewers', 'various', 'stop', 'problems', 'kid', 'inside', 'hit', 'clearly', 'somewhat', 'similar', 'romantic', 'obvious', 'herself', 'happen', 'form', 'bunch', 'shown', 'hell', 'falls', 'enjoy', 'ago', 'stuff', 'slow', 'ridiculous', 'documentary', 'change', 'major', 'laugh', 'chance', 'talking', 'gave', 'wont', 'strong', 'simple', 'period', 'lady', 'island', 'huge', 'god', 'stage', 'overall', 'eventually', 'earth', 'doctor', 'de', 'attention', 'youll', 'television', 'single', 'sets', 'serious', 'save', 'personal', 'dance', 'jokes', 'usually', 'supporting', 'rock', 'means', 'wouldnt', 'whos', 'situation', 'says', 'nature', 'hours', 'talent', 'sexual', 'king', 'gore', 'definitely', 'crime', 'subject', 'manages', 'elements', 'crew', 'cinematography', 'cannot', 'beyond', 'tale', 'recommend', 'moving', 'guess', 'dull', 'die', 'basically', 'songs', 'myself', 'episodes', 'brought', 'beauty', 'annoying', 'writer', 'straight', 'killing', 'famous', 'call', 'wonder', 'towards', 'thinking', 'following', 'feels', 'expect', 'words', 'ways', 'truth', 'street', 'sequences', 'light', 'level', 'horrible', 'decided', 'cheap', 'appears', 'society', 'outside', 'male', 'loved', 'leading', 'ill', 'greatest', 'forced', 'five', 'feature', 'emotional', 'comic', 'atmosphere', 'water', 'political', 'message', 'involving', 'four', 'release', 'mention', 'looked', 'knows', 'highly', 'general', 'started', 'happened', 'earlier', 'difficult', 'business', 'attempts', 'richard', 'return', 'hilarious', 'deep', 'arent', '1', 'strange', 'learn', 'knew', 'future', 'former', 'theme', 'silly', 'quickly', 'none', 'ideas', 'heard', 'easily', 'class', 'soundtrack', 'screenplay', 'particular', 'needed', 'anyway', 'amazing', 'setting', 'near', 'memorable', 'lots', 'filmed', 'figure', 'america', 'above', 'thriller', 'realize', 'parents', 'members', 'large', 'flick', 'dramatic', 'create', 'writers', 'word', 'talk', 'storyline', 'party', 'meet', 'jack', 'id', 'worked', 'meets', 'material', 'liked', '5', 'paul', 'monster', 'leaving', 'italian', 'happy', 'escape', 'dog', 'brothers', 'begins', 'features', 'entertainment', 'soldiers', 'leads', 'german', 'front', 'favorite', 'tried', 'telling', 'social', 'previous', 'otherwise', 'narrative', 'move', 'mentioned', 'leaves', 'george', 'enjoyed', 'battle', 'background', 'mystery', 'appear', 'apart', '4', 'waste', 'seriously', 'red', 'realistic', 'premise', 'married', 'joe', 'eye', 'era', 'created', 'became', 'self', 'needs', 'fire', 'enjoyable', 'crap', 'cop', 'villain', 'tom', 'stand', 'spent', 'points', 'open', 'gun', 'effect', 'basic', 'western', 'older', 'nearly', 'lets', 'indeed', 'effective', 'audiences', 'result', 'pace', 'free', 'culture', 'air', 'add', 'train', 'sit', 'secret', 'romance', 'office', 'mark', 'hold', 'fall', 'development', 'boys', 'whatever', 'prison', 'mysterious', 'la', 'girlfriend', 'effort', 'easy', 'credits', 'begin', 'ten', 'success', 'opinion', 'japanese', 'hands', 'government', 'dream', 'violent', 'rich', 'minute', 'kept', 'footage', 'cause', 'van', 'present', 'popular', 'journey', 'incredibly', 'further', 'fighting', 'familiar', 'drug', 'believable', 'band', 'badly', 'youve', 'somehow', 'reading', 'possibly', 'manner', 'gay', 'considering', 'baby', 'william', 'theater', 'stay', 'slightly', 'lee', 'imagine', 'gone', 'considered', 'comments', 'army', '80s', 'visual', 'surprise', 'nor', 'keeps', 'hear', 'constantly', 'viewing', 'uses', 'seemingly', 'reviews', 'portrayed', 'meant', 'hot', 'filmmakers', 'ability', 'thus', 'tension', 'runs', 'powerful', 'ok', 'oh', 'fairly', 'cool', 'buy', 'bill', 'wish', 'whilst', 'spirit', 'sequel', 'sad', 'producers', 'missing', 'meaning', 'language', 'include', 'follow', 'doubt', 'creepy', 'century', 'vampire', 'typical', 'suddenly', 'spend', 'question', 'public', 'laughs', 'force', 'expected', 'company', 'suspense', 'studio', 'road', 'reasons', 'miss', 'mary', 'follows', 'decides', 'charles', 'state', 'revenge', 'recently', 'race', 'perfectly', 'oscar', 'jane', 'images', 'focus', 'fast', 'check', 'caught', '20', 'yourself', 'unlike', 'ultimately', 'potential', 'issues', 'forget', 'editing', 'directing', 'box', 'scary', 'recent', 'predictable', 'portrayal', 'knowing', 'interested', 'falling', 'door', 'cold', 'central', 'animation', 'situations', 'review', 'merely', 'london', 'kills', 'havent', 'detective', 'depth', 'cartoon', '70s', 'zombie', 'younger', 'write', 'trouble', 'likely', 'disappointed', 'bizarre', 'attack', 'value', 'touch', 'thrown', 'successful', 'poorly', 'naked', 'moral', 'filled', 'fellow', 'fear', 'died', 'cover', 'computer', 'choice', 'brief', 'bed', 'barely', 'amount', 'admit', 'total', 'support', 'season', 'pictures', 'military', 'managed', 'break', 'west', 'themes', 'steve', 'slowly', 'silent', 'putting', 'pay', 'machine', 'immediately', 'fully', 'constant', 'compared', 'club', 'christmas', 'captain', 'walk', 'third', 'south', 'soul', 'presented', 'plus', 'note', 'land', 'impressive', 'impossible', 'historical', 'gang', 'entirely', 'dumb', 'crazy', 'convincing', 'concept', 'changes', 'acts', 'whats', 'singing', 'questions', 'odd', 'nudity', 'hotel', 'honest', 'fit', 'cheesy', 'bond', 'allowed', 'affair', 'woods', 'tough', 'sounds', 'somewhere', 'ship', 'planet', 'match', 'longer', 'literally', 'hospital', 'feelings', 'fantastic', 'complex', 'brings', 'alive', '100', 'struggle', 'shooting', 'sees', 'remains', 'rating', 'photography', 'okay', 'mad', 'led', 'ended', 'dialog', 'twists', 'twist', 'sitting', 'relationships', 'project', 'places', 'law', 'drugs', 'cult', 'common', 'appearance', 'weird', 'understanding', 'terms', 'standard', 'respect', 'fantasy', 'creature', 'thanks', 'surprisingly', 'supposedly', 'queen', 'onto', 'numerous', 'likes', 'imdb', 'image', 'fails', 'conclusion', 'cat', 'blue', 'aside', 'adaptation', 'wrote', 'values', 'unique', 'track', 'soldier', 'sent', 'remake', 'purpose', 'process', 'presence', 'pieces', 'normal', 'natural', 'intelligent', 'hair', 'flat', 'fake', 'disney', 'college', 'camp', 'born', 'alien', 'acted', 'accent', 'surprised', 'subtle', 'share', 'plenty', 'opera', 'nowhere', 'makers', 'industry', 'hate', 'fair', 'clever', 'cinematic', 'average', 'wild', 'werent', 'walking', 'shock', 'producer', 'produced', 'pick', 'phone', 'park', 'masterpiece', 'mans', 'location', 'jim', 'indian', 'hardly', 'expecting', 'boss', 'becoming', 'approach', 'animated', 'amusing', 'waiting', 'opportunity', 'ii', 'frank', 'emotion', 'criminal', 'boat', 'b', 'angry', 'victims', 'utterly', 'therefore', 'store', 'station', 'states', 'shame', 'scott', 'pointless', 'neither', 'necessary', 'marriage', 'jones', 'joke', 'flying', 'decide', 'dangerous', 'casting', 'building', 'youd', 'tony', 'taste', 'talented', 'students', 'speak', 'physical', 'mess', 'magic', 'fiction', 'drive', 'dreams', 'deserves', 'childhood', 'changed', 'boyfriend', 'ben', 'agree', 'adult', 'weak', 'victim', 'trip', 'teacher', 'suicide', 'stuck', 'starring', 'solid', 'shoot', 'science', 'sam', 'radio', 'nasty', 'motion', 'intelligence', 'impression', 'edge', 'driving', 'details', 'credit', 'appreciate', 'apartment', 'americans', '30', 'tone', 'superb', 'sadly', 'please', 'plan', 'missed', 'martin', 'includes', 'holes', 'helped', 'games', 'fresh', 'forward', 'emotions', 'control', 'bored', 'books', 'week', 'thinks', 'suggest', 'sea', 'professional', 'plain', 'murders', 'mr', 'million', 'humour', 'finding', 'explain', 'disturbing', 'disappointing', 'dancing', 'critics', 'creating', 'charlie', 'brain', 'ask', 'won', 'willing', 'turning', 'treated', 'student', 'sexy', 'personally', 'member', 'keeping', 'innocent', 'included', 'friendship', 'church', 'chase', 'appeal', 'sorry', 'showed', 'search', 'religious', 'officer', 'moves', 'master', 'loves', 'laughing', 'incredible', 'heavy', 'exception', 'cross', 'copy', 'confusing', 'apparent', 'animals', 'allows', 'allow', 'agent', 'adventure', 'tired', 'suppose', 'stunning', 'random', 'puts', 'pass', 'mainly', 'loud', 'lame', 'key', 'information', 'faces', 'developed', 'chinese', 'bits', 'billy', 'began', 'award', 'accept', '15', 'wondering', 'unless', 'unknown', 'smart', 'responsible', 'personality', 'names', 'mom', 'miles', 'hidden', 'gold', 'giant', 'food', 'feet', 'fashion', 'failed', 'discover', 'desert', 'dad', 'confused', 'clichés', 'circumstances', 'avoid', 'attractive', 'touching', 'spot', 'river', 'positive', 'paris', 'offer', 'lover', 'list', 'ghost', 'filming', 'date', 'brutal', 'system', 'sight', 'sick', 'serial', 'pure', 'occasionally', 'native', 'mouth', 'meeting', 'knowledge', 'international', 'held', 'followed', 'fascinating', 'double', 'desire', 'contains', 'comment', 'aspects', 'artistic', 'wanting', 'tragedy', 'throw', 'stands', 'pull', 'psychological', 'powers', 'notice', 'majority', 'lovely', 'happening', 'genius', 'foreign', 'featuring', 'everybody', 'england', 'element', 'dying', 'detail', 'cute', 'continue', 'commercial', 'climax', 'cliché', 'sweet', 'streets', 'smith', 'shocking', 'ready', 'rare', 'provides', 'mix', 'intended', 'generally', 'event', 'drawn', 'commentary', 'christian', 'catch', 'brian', 'bloody', 'biggest', 'actions', 'worthy', 'win', 'unusual', 'traditional', 'spanish', 'seconds', 'plots', 'passion', 'kelly', 'jason', 'intriguing', 'hitler', 'fly', 'fights', 'excuse', 'equally', 'dollars', 'disaster', 'dies', 'design', 'connection', 'asked', 'appeared', 'adults', 'added', 'zombies', 'trailer', 'toward', 'strength', 'stock', 'spoiler', 'scientist', 'ride', 'limited', 'independent', 'green', 'efforts', 'direct', 'contemporary', 'broken', 'besides', 'ancient', 'adds', 'wearing', 'wasted', 'village', 'unable', 'twenty', 'travel', 'super', 'summer', 'returns', 'proves', 'protagonist', 'nobody', 'news', 'lies', 'leader', 'latter', 'justice', 'impact', 'hurt', 'festival', 'exciting', 'current', 'consider', 'capture', 'bruce', 'accident', 'window', 'unexpected', 'torture', 'speaking', 'singer', 'rate', 'priest', 'previously', 'ordinary', 'locations', 'lived', 'legend', 'jerry', 'inspired', 'hitchcock', 'europe', 'discovered', 'collection', 'clothes', 'christopher', 'build', 'board', 'youth', 'wooden', 'whenever', 'thomas', 'russian', 'rape', 'private', 'partner', 'originally', 'offers', 'mission', 'lighting', 'introduced', 'guns', 'growing', 'ground', 'freedom', 'forces', 'energy', 'don', 'color', 'charming', 'captured', 'bar', 'according', 'wait', 'villains', 'ugly', 'tragic', 'texas', 'terrific', 'step', 'rip', 'realized', 'provide', 'peoples', 'outstanding', 'monsters', 'lacks', 'honestly', 'garbage', 'finish', 'explanation', 'count', 'cars', 'beautifully', 'beat', '8', '60s', 'wall', 'united', 'standards', 'rent', 'quiet', 'prove', 'players', 'non', 'moon', 'minor', 'intense', 'individual', 'heroine', 'extreme', 'encounter', 'difference', 'demons', 'cops', 'compelling', 'chris', 'chemistry', 'charm', 'african', 'worlds', 'uncle', 'trash', 'teen', 'suspect', 'standing', 'shouldnt', 'ryan', 'record', 'painful', 'numbers', 'mood', 'loving', 'learned', 'latest', 'killers', 'impressed', 'helping', 'gorgeous', 'golden', 'extra', 'dirty', 'desperate', 'content', 'brown', 'barbara', 'available', 'artist', 'absolute', 'witness', 'weve', 'unfortunate', 'thoroughly', 'survive', 'stephen', 'steal', 'ring', 'research', 'references', 'ray', 'post', 'pain', 'naturally', 'murdered', 'moved', 'model', 'joan', 'humanity', 'greater', 'graphic', 'essentially', 'ed', 'caused', 'bright', 'bank', 'aliens', 'ahead', 'addition', 'vision', 'teenage', 'surely', 'study', 'spoilers', 'quick', 'pathetic', 'morning', 'months', 'loss', 'lord', 'lewis', 'kevin', 'irish', 'instance', 'imagination', 'horse', 'football', 'flesh', 'filmmaker', 'field', 'fat', 'cuts', 'community', 'cgi', 'awkward', 'arts', 'area', 'academy', 'visit', 'unlikely', 'trek', 'stick', 'stewart', 'steven', 'stereotypes', 'starting', 'speech', 'source', 'sleep', 'six', 'seven', 'scenery', 'redeeming', 'plans', 'picked', 'opposite', 'noir', 'nightmare', 'national', 'met', 'jean', 'humans', 'henry', 'handled', 'genuine', 'exist', 'develop', 'described', 'deeply', 'dealing', 'compare', 'comedies', 'aspect', 'arm', 'albert', 'alan', 'abandoned', 'wonderfully', 'wide', 'vampires', 'training', 'slasher', 'regarding', 'proved', 'pregnant', 'pop', 'plane', 'owner', 'opens', 'nonsense', 'mask', 'loose', 'length', 'learns', 'hey', 'heroes', 'folks', 'fate', 'explained', 'enemy', 'endless', 'elizabeth', 'eating', 'destroy', 'damn', 'contact', 'breaks', 'behavior', 'beach', 'batman', 'asking', '12', 'wise', 'universe', 'ultimate', 'uk', 'thin', 'test', 'surface', 'successfully', 'speed', 'sean', 'reminded', 'range', 'north', 'mountain', 'lose', 'largely', 'jimmy', 'jennifer', 'irritating', 'initial', 'holding', 'helps', 'hasnt', 'harry', 'gory', 'generation', 'gary', 'forever', 'exploitation', 'executed', 'european', 'epic', 'engaging', 'edited', 'drunk', 'debut', 'costumes', 'contrast', 'conflict', 'claims', 'cash', 'blonde', 'aware', 'awards', 'anymore', 'andor', 'witch', 'whatsoever', 'trust', 'trial', 'trapped', 'tim', 'talks', 'studios', 'structure', 'stolen', 'rules', 'round', 'revealed', 'portrays', 'politics', 'performed', 'memories', 'meanwhile', 'magnificent', 'lovers', 'listening', 'likable', 'joy', 'italy', 'influence', 'heads', 'grand', 'floor', 'flashbacks', 'fame', 'experiences', 'expectations', 'evidence', 'directly', 'describe', 'deliver', 'decade', 'danny', 'creative', 'core', 'clean', 'castle', 'carry', 'bottom', 'bob', 'assume', 'arms', 'accidentally', 'yeah', 'winning', 'watchable', 'versions', 'sheriff', 'rose', 'reminds', 'remarkable', 'reaction', 'president', 'normally', 'mixed', 'memory', 'media', 'massacre', 'lawyer', 'jungle', 'jewish', 'innocence', 'increasingly', 'hoping', 'gangster', 'explains', 'existence', 'ex', 'empty', 'driven', 'dogs', 'delivers', 'creates', 'conversation', 'calls', 'brooks', 'bought', 'believes', 'asks', 'achieve', 'witty', 'underground', 'tiny', 'thousands', 'teenagers', 'surrounding', 'surreal', 'sudden', 'sorts', 'sign', 'sheer', 'rights', 'remembered', 'reach', 'pulled', 'position', 'player', 'passing', 'paid', 'noticed', 'mike', 'loses', 'listen', 'letting', 'holds', 'heaven', 'genuinely', 'gas', 'families', 'faith', 'exact', 'douglas', 'degree', 'decision', 'criminals', 'comedic', 'classics', 'chosen', 'bodies', 'australian', 'anne', 'amongst', 'afraid', '1970s', '–', 'williams', 'whereas', 'wars', 'victoria', 'universal', 'treatment', 'treat', 'theatre', 'suffering', 'status', 'spends', 'relief', 'raised', 'protagonists', 'prince', 'prime', 'portraying', 'portray', 'porn', 'pleasure', 'placed', 'paying', 'page', 'pacing', 'obsessed', 'negative', 'millions', 'melodrama', 'manage', 'lynch', 'laughable', 'jump', 'invisible', 'hill', 'gags', 'france', 'fill', 'emotionally', 'effectively', 'dr', 'cry', 'crowd', 'countries', 'comparison', 'charge', 'bother', 'bigger', 'anywhere', 'animal', 'account', 'abuse', 'wind', 'via', 'unnecessary', 'twisted', 'teenager', 'susan', 'superior', 'suit', 'steals', 'southern', 'robin', 'results', 'provided', 'princess', 'pilot', 'overcome', 'nurse', 'nicely', 'moore', 'mental', 'martial', 'lake', 'julie', 'jesus', 'japan', 'intellectual', 'howard', 'grace', 'fish', 'express', 'enter', 'display', 'discovers', 'devil', 'depicted', 'cutting', 'concert', 'concerned', 'claim', 'chief', 'chick', 'bringing', 'blind', 'attitude', 'accurate', '90', 'werewolf', 'walter', 'views', 'vehicle', 'twice', 'truck', 'todays', 'terror', 'tears', 'sun', 'subtitles', 'soft', 'sharp', 'realism', 'rarely', 'qualities', 'program', 'produce', 'pair', 'overly', 'opposed', 'officers', 'nominated', 'mob', 'mexican', 'max', 'matt', 'legendary', 'laughter', 'lacking', 'keaton', 'johnny', 'interview', 'individuals', 'identity', 'hills', 'harris', 'hanging', 'gotten', 'friday', 'frankly', 'forest', 'failure', 'established', 'eric', 'dreadful', 'dracula', 'deals', 'deadly', 'dawn', 'cruel', 'convinced', 'context', 'channel', 'center', 'cell', 'bbc', 'ball', 'amateur', 'adventures', 'advantage', 'absurd', 'weeks', 'walker', 'visually', 'virtually', 'throwing', 'theatrical', 'sympathy', 'storytelling', 'spectacular', 'sons', 'sky', 'shape', 'service', 'saving', 'rise', 'remote', 'ran', 'proper', 'pretentious', 'perspective', 'peace', 'patient', 'market', 'losing', 'lesbian', 'lane', 'ladies', 'judge', 'jackson', 'interviews', 'initially', 'ice', 'forth', 'flicks', 'finale', 'fell', 'encounters', 'distant', 'desperately', 'deserve', 'delivered', 'dean', 'creatures', 'combined', 'china', 'buddy', 'bear', 'author', 'anybody', 'andy', 'africa', '9', '6', '1950s', 'wealthy', 'washington', 'von', 'types', 'touches', 'tend', 'technology', 'surprising', 'sports', 'spending', 'speaks', 'sisters', 'sell', 'screaming', 'scared', 'roll', 'reporter', 'recognize', 'recall', 'racist', 'print', 'prevent', 'physically', 'philip', 'mothers', 'mistake', 'minds', 'mediocre', 'mainstream', 'lucky', 'kick', 'jeff', 'hunter', 'humorous', 'higher', 'hearing', 'harsh', 'guard', 'grow', 'glad', 'focuses', 'flashback', 'figures', 'favourite', 'fallen', 'environment', 'eat', 'drives', 'daughters', 'dated', 'crisis', 'crash', 'covered', 'controversial', 'continues', 'choose', 'brave', 'blame', 'believed', 'anna', 'angles', 'angel', '7', 'wwii', 'warm', 'visuals', 'veteran', 'tradition', 'theyve', 'technical', 'taylor', 'suffers', 'somebody', 'skin', 'sir', 'shop', 'shakespeare', 'san', 'rubbish', 'revolution', 'remain', 'relatively', 'raise', 'ocean', 'navy', 'le', 'jonathan', 'jackie', 'insane', 'importance', 'host', 'hopes', 'handsome', 'gradually', 'ford', 'fathers', 'edward', 'driver', 'darkness', 'creation', 'cost', 'combination', 'carrying', 'carries', 'capable', 'cameo', 'california', 'cage', 'blow', 'below', 'awesome', 'assistant', 'answer', 'alex', '1980s', 'wear', 'viewed', 'variety', 'thoughts', 'teens', 'talents', 'table', 'suspenseful', 'sucks', 'struggling', 'stone', 'sinister', 'shadows', 'shadow', 'segment', 'scream', 'russell', 'rough', 'regard', 'per', 'passed', 'object', 'multiple', 'metal', 'kiss', 'imagery', 'hundreds', 'hundred', 'horribly', 'holmes', 'haunted', 'grown', 'grade', 'glory', 'gene', 'frame', 'forgotten', 'flaws', 'finished', 'finest', 'facts', 'eddie', 'disbelief', 'device', 'delivery', 'cultural', 'court', 'consists', 'committed', 'clue', 'changing', 'chan', 'birthday', 'attacks', 'asian', '50', 'weekend', 'weapons', 'troubled', 'task', 'tarzan', 'sympathetic', 'supernatural', 'specific', 'soap', 'site', 'security', 'seat', 'seagal', 'saturday', 'sarah', 'repeated', 'reminiscent', 'religion', 'promise', 'presents', 'practically', 'pool', 'path', 'parody', 'novels', 'nick', 'mine', 'mere', 'marry', 'magical', 'lisa', 'kong', 'kinda', 'joseph', 'jamie', 'jail', 'issue', 'involves', 'horrors', 'hide', 'granted', 'gods', 'frustrated', 'fox', 'fortune', 'focusing', 'featured', 'faced', 'dressed', 'draw', 'dragon', 'disgusting', 'crafted', 'costume', 'convince', 'convey', 'complicated', 'closely', 'causing', 'caring', 'breaking', 'base', 'attempting', 'attempted', 'arthur', 'anthony', 'al', 'actresses', '1995', '1960s', 'zero', 'warning', 'voices', 'vietnam', 'vhs', 'urban', 'toy', 'tedious', 'suffered', 'suffer', 'steps', 'stealing', 'slight', 'sing', 'significant', 'sequels', 'sensitive', 'scientists', 'scale', 'sake', 'sadistic', 'rescue', 'required', 'reputation', 'relate', 'quest', 'poignant', 'performing', 'offered', 'notorious', 'nazi', 'medical', 'mature', 'matters', 'masters', 'ludicrous', 'lights', 'learning', 'laid', 'incident', 'horrific', 'hits', 'gruesome', 'gem', 'focused', 'fbi', 'factor', 'extras', 'evening', 'east', 'destroyed', 'designed', 'demon', 'daily', 'cousin', 'built', 'bridge', 'bland', 'beloved', 'belief', 'appropriate', 'appealing', 'anime', 'amateurish', 'allowing', 'wilson', 'vegas', 'travels', 'territory', 'technique', 'tape', 'storm', 'stanwyck', 'simon', 'ripped', 'revolves', 'reveals', 'redemption', 'realizes', 'raped', 'rain', 'pulls', 'psycho', 'protect', 'possessed', 'paper', 'oddly', 'nuclear', 'neck', 'nation', 'mistakes', 'mentally', 'laura', 'jay', 'introduction', 'intention', 'inner', 'inept', 'health', 'halloween', 'gratuitous', 'gordon', 'friendly', 'farm', 'expressions', 'experienced', 'escapes', 'embarrassing', 'eaten', 'dress', 'donald', 'dealt', 'davis', 'daniel', 'curious', 'consequences', 'competition', 'colour', 'clues', 'civil', 'chose', 'chaplin', 'cartoons', 'broadcast', 'bothered', 'bomb', 'birth', 'australia', 'attraction', 'anderson', 'alice', '50s', 'wood', 'womans', 'welles', 'wears', 'walks', 'usa', 'unbelievable', 'titanic', 'timing', 'throat', 'theory', 'theaters', 'terribly', 'term', 'tales', 'superman', 'soviet', 'solve', 'shoots', 'shallow', 'sexuality', 'send', 'section', 'satisfying', 'sat', 'roman', 'ridiculously', 'reviewers', 'reviewer', 'reveal', 'retarded', 'restaurant', 'received', 'propaganda', 'prior', 'prefer', 'pity', 'personalities', 'nine', 'network', 'musicals', 'murderer', 'mexico', 'massive', 'louis', 'logic', 'lesson', 'korean', 'kate', 'inspector', 'hunt', 'hired', 'heavily', 'hardy', 'hall', 'gritty', 'grew', 'grave', 'gag', 'fred', 'false', 'fairy', 'everyday', 'eight', 'dude', 'dozen', 'dorothy', 'dinner', 'deeper', 'decades', 'cynical', 'countless', 'correct', 'christ', 'cheese', 'causes', 'catherine', 'candy', 'canadian', 'burning', 'briefly', 'blown', 'beer', 'ass', 'winner', 'whoever', 'wayne', 'unconvincing', 'u', 'tommy', 'tied', 'terrorist', 'subsequent', 'string', 'stretch', 'stranger', 'starred', 'smile', 'sleazy', 'silver', 'sides', 'shortly', 'shocked', 'sexually', 'serves', 'served', 'searching', 'screenwriter', 'sadness', 'routine', 'replaced', 'remaining', 'related', 'regular', 'refuses', 'pushing', 'promising', 'product', 'price', 'performers', 'paint', 'pack', 'notable', 'nevertheless', 'museum', 'mid', 'madness', 'lying', 'levels', 'lessons', 'idiot', 'homage', 'holiday', 'happiness', 'guessing', 'grant', 'glass', 'ghosts', 'fits', 'fault', 'explaining', 'equal', 'ears', 'drinking', 'drag', 'dick', 'defeat', 'danger', 'dan', 'crappy', 'conditions', 'closer', 'carried', 'anger', 'albeit', 'aged', '18', 'x', 'wouldve', 'utter', 'unrealistic', 'torn', 'technically', 'teach', 'sunday', 'subplot', 'stops', 'stopped', 'stereotypical', 'statement', 'spooky', 'spirits', 'serve', 'separate', 'sends', 'roberts', 'rings', 'returning', 'resembles', 'regardless', 'realise', 'rated', 'quirky', 'purely', 'pulling', 'professor', 'productions', 'presumably', 'praise', 'poverty', 'picking', 'painfully', 'outer', 'oil', 'official', 'offensive', 'obnoxious', 'nude', 'ninja', 'neighborhood', 'necessarily', 'naive', 'movement', 'morgan', 'mel', 'meaningful', 'mass', 'mario', 'lou', 'los', 'lonely', 'linda', 'knife', 'julia', 'involvement', 'illegal', 'hong', 'hoffman', 'heroic', 'hated', 'hal', 'guide', 'grim', 'funnier', 'fail', 'exotic', 'execution', 'everywhere', 'enters', 'elderly', 'drop', 'downright', 'discovering', 'description', 'depiction', 'department', 'dennis', 'corner', 'connery', 'confusion', 'condition', 'comical', 'clichéd', 'challenge', 'cards', 'brilliantly', 'bone', 'bleak', 'bitter', 'atrocious', 'artists', 'argument', 'appearing', 'ann', 'angle', 'allen', 'adam', '2001', 'versus', 'uncomfortable', 'typically', 'trilogy', 'traveling', 'topic', 'throws', 'thousand', 'ted', 'substance', 'sub', 'stranded', 'stevens', 'stays', 'spoken', 'sophisticated', 'smoke', 'sleeping', 'scheme', 'scare', 'satire', 'safe', 'ruined', 'rival', 'revealing', 'resolution', 'relative', 're', 'pressure', 'plastic', 'picks', 'painting', 'occasional', 'narration', 'mouse', 'midnight', 'makeup', 'kinds', 'kim', 'kidnapped', 'johnson', 'jealous', 'ironically', 'investigation', 'intentions', 'intent', 'insight', 'inevitable', 'india', 'ignore', 'holocaust', 'hints', 'helen', 'hearts', 'guilt', 'guest', 'grandfather', 'funniest', 'franco', 'forgot', 'financial', 'expensive', 'excited', 'examples', 'evident', 'essence', 'entertained', 'dubbed', 'doctors', 'discovery', 'determined', 'dave', 'corny', 'closing', 'cameron', 'cable', 'britain', 'beings', 'beast', 'basis', 'baseball', 'bands', 'attracted', 'attacked', 'areas', 'angels', 'aka', 'adding', 'adapted', 'accepted', '90s', '\\x85', 'zone', 'writerdirector', 'wedding', 'wannabe', 'ups', 'uninspired', 'tree', 'target', 'suggests', 'sucked', 'succeeds', 'strongly', 'strangers', 'stan', 'spoof', 'solely', 'sold', 'snakes', 'slapstick', 'size', 'shut', 'shower', 'shark', 'scenario', 'rid', 'rick', 'revelation', 'reference', 'receive', 'properly', 'profound', 'producing', 'patrick', 'paced', 'oliver', 'lucas', 'loosely', 'locked', 'lifetime', 'letter', 'leslie', 'league', 'jon', 'interaction', 'idiotic', 'hopefully', 'honor', 'homosexual', 'hole', 'hammer', 'halfway', 'guilty', 'greatly', 'germany', 'germans', 'gentle', 'formula', 'foot', 'fi', 'fancy', 'expression', 'expert', 'drink', 'detailed', 'deserved', 'deliberately', 'dancers', 'crying', 'critical', 'credibility', 'conversations', 'constructed', 'concerns', 'companies', 'colorful', 'chilling', 'chainsaw', 'cares', 'captures', 'caine', 'buying', 'blah', 'bat', 'barry', 'bag', 'angeles', 'accused', 'wicked', 'welcome', 'union', 'titles', 'thirty', 'terry', 'teeth', 'teaching', 't', 'surprises', 'sum', 'subjects', 'stupidity', 'struggles', 'stated', 'spite', 'skills', 'skill', 'sixties', 'sinatra', 'roy', 'ron', 'rob', 'risk', 'riding', 'resulting', 'report', 'remind', 'relevant', 'prisoners', 'press', 'prepared', 'population', 'pink', 'parker', 'originality', 'opened', 'notably', 'nearby', 'motives', 'mindless', 'miller', 'mildly', 'mickey', 'marvelous', 'martha', 'marie', 'maker', 'magazine', 'mafia', 'lousy', 'lit', 'lengthy', 'laws', 'landing', 'justify', 'jumping', 'join', 'isolated', 'investigate', 'invasion', 'inspiration', 'inevitably', 'importantly', 'hood', 'homeless', 'hitchcocks', 'hiding', 'hed', 'haunting', 'happily', 'fu', 'frequently', 'freeman', 'frankenstein', 'fighter', 'fictional', 'factory', 'facial', 'experiment', 'exists', 'essential', 'erotic', 'equipment', 'endearing', 'emily', 'dry', 'develops', 'depression', 'depressing', 'delivering', 'daring', 'dancer', 'corpse', 'conventional', 'conceived', 'commit', 'comfort', 'coach', 'circle', 'chair', 'chain', 'cassavetes', 'calling', 'buildings', 'breath', 'bare', 'arrives', 'alfred', 'aint', 'afternoon', 'advance', '40', '11', 'wounded', 'worthwhile', 'wives', 'winds', 'westerns', 'weapon', 'warrior', 'uninteresting', 'treasure', 'threw', 'tense', 'suck', 'stylish', 'staying', 'staff', 'spell', 'specifically', 'souls', 'snow', 'similarly', 'shorts', 'shirt', 'shell', 'secretly', 'scripts', 'screams', 'sci', 'scares', 'santa', 'rush', 'rule', 'robot', 'represent', 'rented', 'rendition', 'reached', 'rage', 'purposes', 'providing', 'prisoner', 'principal', 'presenting', 'photographed', 'pants', 'offering', 'obsession', 'nose', 'nerd', 'michelle', 'machines', 'luck', 'lovable', 'lifestyle', 'lie', 'legal', 'lawrence', 'larry', 'ken', 'keith', 'jessica', 'jeremy', 'investigating', 'idiots', 'houses', 'hopelessly', 'hat', 'handle', 'guts', 'grows', 'groups', 'gothic', 'format', 'fool', 'flight', 'finger', 'figured', 'farce', 'fabulous', 'exaggerated', 'ensemble', 'education', 'drawing', 'dollar', 'deaths', 'countryside', 'contain', 'communist', 'combat', 'closed', 'classes', 'chaos', 'bugs', 'breasts', 'bobby', 'beaten', 'battles', 'basement', 'attitudes', 'armed', 'antics', 'amazingly', 'affected', 'affairs', 'additional', 'accents', '13', 'wrestling', 'worry', 'wit', 'wave', 'victor', 'vague', 'vacation', 'understandable', 'twin', 'troops', 'tribe', 'translation', 'tight', 'threatening', 'temple', 'suspects', 'survival', 'suggested', 'sticks', 'spaghetti', 'smoking', 'shines', 'seeking', 'seasons', 'scottish', 'scientific', 'schools', 'sacrifice', 'row', 'rolling', 'remotely', 'relatives', 'reasonably', 'reactions', 'reaching', 'ratings', 'randy', 'quinn', 'pushed', 'prostitute', 'prom', 'proceedings', 'preston', 'precious', 'poster', 'ponyo', 'politicians', 'polish', 'orange', 'operation', 'occurs', 'noted', 'nostalgia', 'n', 'movements', 'motivations', 'manager', 'legs', 'larger', 'kingdom', 'killings', 'jumps', 'ironic', 'insult', 'illness', 'husbands', 'highlights', 'heres', 'heck', 'gripping', 'greek', 'goofy', 'glimpse', 'glenn', 'fx', 'fulci', 'foul', 'forms', 'faithful', 'exposed', 'excitement', 'eve', 'entry', 'enormous', 'enjoying', 'emphasis', 'drake', 'displays', 'discussion', 'developing', 'deranged', 'corrupt', 'controlled', 'contrived', 'construction', 'connected', 'concerning', 'clips', 'chuck', 'cheating', 'charismatic', 'centers', 'carol', 'card', 'cannibal', 'bus', 'burned', 'buried', 'broadway', 'brains', 'blair', 'assassin', 'arrested', 'amounts', 'alexander', 'writes', 'wing', 'wagon', 'virgin', 'unintentional', 'tribute', 'touched', 'till', 'thank', 'text', 'tactics', 'sword', 'sutherland', 'surrounded', 'summary', 'stronger', 'strip', 'strikes', 'stomach', 'stayed', 'stages', 'spiritual', 'speeches', 'sits', 'sin', 'signs', 'shirley', 'seek', 'secrets', 'scores', 'saves', 'saved', 'saga', 'rushed', 'reynolds', 'responsibility', 'repetitive', 'racing', 'r', 'punch', 'progresses', 'progress', 'primarily', 'pleasant', 'planning', 'perform', 'patients', 'outfit', 'outcome', 'ourselves', 'nowadays', 'notion', 'murderous', 'mankind', 'lust', 'logical', 'lacked', 'kings', 'kennedy', 'intensity', 'instantly', 'instant', 'influenced', 'infamous', 'incoherent', 'immediate', 'ignored', 'heat', 'hadnt', 'guards', 'gross', 'gonna', 'franchise', 'folk', 'flow', 'fisher', 'extraordinary', 'explore', 'explicit', 'engaged', 'elaborate', 'dutch', 'drew', 'doors', 'disappear', 'diane', 'devoted', 'destruction', 'destroying', 'destiny', 'desires', 'demands', 'cruise', 'crude', 'crucial', 'crimes', 'creators', 'cowboy', 'courage', 'corruption', 'continued', 'confrontation', 'competent', 'colonel', 'choices', 'childrens', 'chases', 'characterization', 'cats', 'category', 'carpenters', 'burton', 'buddies', 'brutally', 'blond', 'bet', 'beating', 'atmospheric', 'assault', 'answers', 'alongside', 'affection', 'admittedly', 'acceptable', '14', '\\x97', 'workers', 'woody', 'womens', 'walls', 'upset', 'unfunny', 'tyler', 'turkey', 'trap', 'tracks', 'tons', 'threat', 'thief', 'terrorists', 'suits', 'strangely', 'stanley', 'spy', 'slightest', 'silence', 'showdown', 'ships', 'secretary', 'rubber', 'rooms', 'rochester', 'resident', 'ralph', 'racism', 'push', 'pulp', 'proceeds', 'pride', 'portrait', 'politically', 'policeman', 'piano', 'photographer', 'philosophy', 'phantom', 'petty', 'partly', 'par', 'noble', 'neighbor', 'ned', 'mrs', 'montgomery', 'mistress', 'misses', 'mirror', 'marks', 'maria', 'mansion', 'lugosi', 'liking', 'lay', 'kurt', 'kane', 'joel', 'jobs', 'israel', 'interpretation', 'innovative', 'illogical', 'ignorant', 'horses', 'hint', 'generic', 'gain', 'flawed', 'flair', 'exchange', 'escaped', 'elvis', 'elephant', 'editor', 'eccentric', 'eastwood', 'doomed', 'disturbed', 'disappointment', 'dimensional', 'devoid', 'defined', 'dedicated', 'crisp', 'costs', 'continuity', 'command', 'colors', 'code', 'co', 'cliff', 'clark', 'cinematographer', 'charlotte', 'chances', 'cave', 'carpenter', 'carefully', 'c', 'burt', 'bullets', 'broad', 'blacks', 'aunt', 'asleep', 'argue', 'appearances', 'angela', 'andrews', 'airport', 'aging', 'afterwards', 'aforementioned', 'advice', 'advanced', 'activities', '30s', '2004', '1930s', 'wax', 'walked', 'wake', 'victory', 'valley', 'upper', 'unfolds', 'trite', 'transported', 'towns', 'tongue', 'tiger', 'thugs', 'thick', 'thankfully', 'tall', 'talked', 'succeed', 'stunts', 'struck', 'streisand', 'stream', 'steel', 'statue', 'squad', 'spree', 'spread', 'spots', 'split', 'species', 'spain', 'sloppy', 'shoulders', 'shoes', 'sentimental', 'sentence', 'selling', 'ruthless', 'russia', 'rural', 'rogers', 'response', 'resemblance', 'refreshing', 'reeves', 'recorded', 'raw', 'proof', 'possibility', 'portion', 'popularity', 'pie', 'persons', 'pat', 'paranoia', 'packed', 'outrageous', 'opinions', 'odds', 'norman', 'nights', 'nicole', 'nazis', 'narrow', 'nancy', 'namely', 'murphy', 'murdering', 'mountains', 'moody', 'monkey', 'mitchell', 'mile', 'messages', 'menace', 'loyal', 'lower', 'loads', 'listed', 'leg', 'laughed', 'las', 'lab', 'khan', 'karen', 'ireland', 'intimate', 'inferior', 'independence', 'imagined', 'identify', 'horrid', 'hook', 'hideous', 'hence', 'hearted', 'hatred', 'grotesque', 'gravity', 'grasp', 'gein', 'galaxy', 'francisco', 'fog', 'fifteen', 'femme', 'favor', 'faster', 'failing', 'facing', 'extended', 'explosion', 'explored', 'exploding', 'eternity', 'et', 'estate', 'enthusiasm', 'elevator', 'easier', 'eager', 'duo', 'drinks', 'dragged', 'dozens', 'digital', 'differences', 'denzel', 'defense', 'damage', 'curtis', 'criticism', 'craft', 'couldve', 'corpses', 'cooper', 'combine', 'coast', 'clueless', 'clown', 'claire', 'civilization', 'cinemas', 'charisma', 'characteristics', 'challenging', 'celluloid', 'bride', 'bollywood', 'blockbuster', 'benefit', 'backgrounds', 'amusement', 'alternative', 'ages', 'agents', 'address', 'adams', 'achievement', 'accomplished', 'access', 'abused', '2005', '2000', '17', 'yellow', 'worthless', 'wonders', 'wishes', 'weight', 'wealth', 'wanna', 'wagner', 'vulgar', 'vote', 'visiting', 'vincent', 'videos', 'vast', 'v', 'unforgettable', 'unbelievably', 'tune', 'tricks', 'trick', 'trials', 'trashy', 'tortured', 'toilet', 'todd', 'theyd', 'terrifying', 'techniques', 'tame', 'synopsis', 'stumbles', 'studied', 'strongest', 'stiff', 'sticking', 'spring', 'spoil', 'splendid', 'sounded', 'sole', 'sings', 'sidney', 'shy', 'shed', 'sharing', 'seventies', 'screening', 'scotland', 'scope', 'savage', 'safety', 'rope', 'root', 'roger', 'requires', 'represents', 'renting', 'relies', 'referred', 'reed', 'recording', 'reaches', 'rats', 'ranger', 'quote', 'psychotic', 'proud', 'property', 'projects', 'pretend', 'predator', 'potentially', 'possibilities', 'pointed', 'pitt', 'passionate', 'painted', 'orders', 'occurred', 'notes', 'neighbors', 'narrator', 'morality', 'month', 'models', 'mistaken', 'menacing', 'medium', 'meat', 'margaret', 'manhattan', 'luke', 'load', 'lion', 'irony', 'intrigue', 'interrupted', 'internet', 'insulting', 'indie', 'ian', 'hunting', 'hugely', 'hooked', 'holly', 'handed', 'hack', 'gate', 'flynn', 'florida', 'filling', 'fare', 'exterior', 'extent', 'expressed', 'executive', 'exceptional', 'ethnic', 'errors', 'enemies', 'empire', 'eerie', 'e', 'drops', 'dropped', 'doom', 'donna', 'doll', 'documentaries', 'distance', 'disappeared', 'diamond', 'despair', 'deserted', 'describes', 'descent', 'depicts', 'defend', 'darker', 'dare', 'damned', 'd', 'covers', 'convoluted', 'conveys', 'contest', 'containing', 'consideration', 'conservative', 'computers', 'comfortable', 'clothing', 'closet', 'closest', 'climactic', 'cities', 'christina', 'challenges', 'catholic', 'carradine', 'careers', 'brad', 'border', 'bold', 'blows', 'blade', 'bible', 'bathroom', 'barney', 'authors', 'authority', 'audio', 'associated', 'arrive', 'arnold', 'airplane', 'aimed', 'aid', 'accompanied', '80', '20th', '1981', 'wow', 'wounds', 'worried', 'witnessed', 'winter', 'wilderness', 'wasting', 'warner', 'vs', 'useless', 'understood', 'underlying', 'trivia', 'trio', 'trees', 'transition', 'transformation', 'traffic', 'ticket', 'thrills', 'thrilling', 'thrillers', 'tender', 'tear', 'teachers', 'swimming', 'subplots', 'styles', 'stopping', 'square', 'spare', 'snake', 'slaughter', 'skeleton', 'simultaneously', 'sidekick', 'scarlett', 'satisfied', 'ritter', 'rising', 'respectively', 'represented', 'repeatedly', 'rejected', 'regarded', 'reflection', 'racial', 'publicity', 'primitive', 'primary', 'predecessor', 'practice', 'porno', 'planned', 'pile', 'phrase', 'persona', 'passes', 'partners', 'occur', 'o', 'notch', 'northern', 'nonetheless', 'nightclub', 'natalie', 'montage', 'minded', 'meaningless', 'matrix', 'maintain', 'macarthur', 'lone', 'locals', 'lips', 'lifted', 'library', 'lethal', 'lesser', 'lazy', 'landscape', 'kung', 'knight', 'kicked', 'jerk', 'ira', 'interests', 'interactions', 'incestuous', 'inability', 'ideal', 'hudson', 'horrendous', 'hitting', 'hilariously', 'highway', 'headed', 'hardcore', 'hapless', 'hanks', 'guarantee', 'griffith', 'greedy', 'glorious', 'global', 'gifted', 'gift', 'genres', 'gap', 'gangsters', 'fourth', 'fishing', 'fears', 'experiments', 'eventual', 'estranged', 'entertain', 'enjoyment', 'edition', 'eater', 'ear', 'dubbing', 'draws', 'dramas', 'domestic', 'disease', 'discuss', 'disabled', 'directs', 'directorial', 'devices', 'der', 'depending', 'dentist', 'dee', 'cushing', 'copies', 'conventions', 'concepts', 'commander', 'coherent', 'cloud', 'clint', 'citizens', 'christianity', 'chicks', 'chest', 'chasing', 'channels', 'cg', 'cared', 'canada', 'butcher', 'buck', 'bottle', 'borrowed', 'boris', 'boot', 'blowing', 'blatant', 'blank', 'bergman', 'beneath', 'bears', 'balance', 'arrival', 'appreciated', 'anti', 'andrew', 'ambitious', 'alcohol', 'album', 'afghanistan', 'acclaimed', 'abysmal', 'absence', '60', '40s', '25', '24', '1984', '1971', '13th', 'wreck', 'wolf', 'warriors', 'unpleasant', 'unlikable', 'unit', 'unintentionally', 'unexplained', 'twelve', 'tvs', 'trained', 'trade', 'tour', 'titled', 'ties', 'tie', 'theories', 'tea', 'taught', 'suzanne', 'suspicious', 'suspend', 'superbly', 'sung', 'strike', 'spielberg', 'someones', 'solution', 'soccer', 'shopping', 'severely', 'settings', 'sergeant', 'scripted', 'samurai', 's', 'runner', 'ruins', 'ross', 'robbery', 'ritual', 'rita', 'rides', 'revolutionary', 'returned', 'respectable', 'resources', 'reluctant', 'relation', 'rejects', 'regret', 'regards', 'reflect', 'recognized', 'rebel', 'rapidly', 'provocative', 'promoted', 'powell', 'portrayals', 'poetic', 'plight', 'pleased', 'pitch', 'phil', 'pet', 'performs', 'perfection', 'pearl', 'parent', 'pan', 'offended', 'obligatory', 'nightmares', 'newspaper', 'nemesis', 'needless', 'myth', 'ms', 'monk', 'minority', 'mildred', 'mild', 'mighty', 'method', 'masterful', 'lyrics', 'lestat', 'lands', 'kidnapping', 'kicks', 'judy', 'josh', 'jews', 'jess', 'jeffrey', 'jazz', 'jake', 'islands', 'irrelevant', 'iraq', 'invited', 'introduce', 'intrigued', 'integrity', 'installment', 'inherent', 'indians', 'incompetent', 'iii', 'ignorance', 'ie', 'hip', 'heros', 'hates', 'handful', 'guitar', 'graphics', 'godfather', 'glover', 'gathering', 'frustration', 'frightening', 'frequent', 'freak', 'francis', 'fortunately', 'forgettable', 'forcing', 'forbidden', 'fired', 'feeding', 'fed', 'exposure', 'exploit', 'exercise', 'equivalent', 'embarrassed', 'drunken', 'dose', 'disagree', 'dire', 'dimension', 'diaz', 'diamonds', 'dialogs', 'derek', 'demise', 'delightful', 'delight', 'decisions', 'deciding', 'daddy', 'cruelty', 'crippled', 'crazed', 'crack', 'cope', 'contrary', 'completed', 'commercials', 'comics', 'columbo', 'clumsy', 'citizen', 'chess', 'cd', 'cases', 'captivating', 'cameras', 'buster', 'businessman', 'bullet', 'brooklyn', 'broke', 'brilliance', 'breathtaking', 'bound', 'booth', 'blend', 'bills', 'bernard', 'berlin', 'believing', 'banned', 'baldwin', 'baker', 'backdrop', 'attorney', 'argento', 'appropriately', 'appalling', 'amanda', 'altogether', 'alright', 'aired', 'affect', 'ad', 'achieved', '911', '23', '2006', '2002', '1999', '1990s', '1987', '1978', 'yokai', 'wished', 'willis', 'wildly', 'wendy', 'warn', 'ward', 'vaguely', 'underwear', 'twilight', 'tunes', 'trend', 'trailers', 'tracking', 'toys', 'toxic', 'token', 'sydney', 'surviving', 'superficial', 'suitably', 'succeeded', 'subtlety', 'subsequently', 'stunt', 'stations', 'stabbed', 'st', 'splatter', 'sounding', 'slice', 'similarities', 'shaking', 'shake', 'severe', 'settled', 'sensible', 'selfish', 'satan', 'sarcastic', 'sandra', 'sally', 'rude', 'royal', 'rocky', 'rocks', 'ripping', 'restrained', 'respective', 'resort', 'reserved', 'repeat', 'relations', 'region', 'refused', 'recommended', 'receives', 'rat', 'pursuit', 'purchased', 'psychiatrist', 'props', 'presentation', 'pornography', 'policy', 'plausible', 'plants', 'pilots', 'pierre', 'pays', 'passengers', 'parties', 'oz', 'owen', 'opportunities', 'occasions', 'norton', 'nolan', 'noise', 'nervous', 'nelson', 'murray', 'motivation', 'molly', 'miserable', 'miscast', 'minimal', 'mentions', 'melodramatic', 'measure', 'mayor', 'matthew', 'matches', 'mason', 'loyalty', 'logan', 'located', 'literary', 'les', 'leaders', 'laurel', 'laughably', 'kicking', 'jr', 'joined', 'joey', 'jesse', 'involve', 'inventive', 'introduces', 'interestingly', 'inadvertently', 'improved', 'immigrant', 'imaginative', 'hunters', 'hostage', 'holy', 'highlight', 'grip', 'greg', 'goal', 'globe', 'giallo', 'gerard', 'gear', 'funeral', 'frustrating', 'frightened', 'freaks', 'fought', 'fortunate', 'floating', 'flash', 'firmly', 'fest', 'fatal', 'fashioned', 'f', 'explosions', 'exploration', 'expedition', 'exceptionally', 'ensure', 'election', 'educational', 'edgar', 'eastern', 'dvds', 'dresses', 'doc', 'distinct', 'dislike', 'disc', 'dirt', 'dignity', 'devils', 'detectives', 'dear', 'dating', 'curse', 'currently', 'curiosity', 'creativity', 'craig', 'corporate', 'cooking', 'conveniently', 'contract', 'conspiracy', 'consist', 'connect', 'confront', 'compassion', 'companion', 'committee', 'colin', 'cinderella', 'cia', 'chopped', 'choosing', 'chooses', 'che', 'chased', 'challenged', 'ceiling', 'cattle', 'carrie', 'campy', 'butt', 'busy', 'brand', 'boston', 'bombs', 'bite', 'bird', 'bin', 'betrayal', 'bent', 'belong', 'bell', 'beliefs', 'bela', 'beats', 'bath', 'balls', 'authentic', 'austen', 'attacking', 'assured', 'assumed', 'arrogant', 'approaches', 'amazed', 'alike', 'alas', 'adrian', 'adopted', 'admire', 'addiction', '3000', '2003', '1973', 'wrapped', 'wonderland', 'wishing', 'wings', 'widow', 'wider', 'waves', 'waters', 'warren', 'vocal', 'visited', 'virginia', 'villainous', 'user', 'unseen', 'unfair', 'underrated', 'turner', 'turkish', 'triangle', 'treats', 'traits', 'tourist', 'topless', 'tomb', 'teams', 'tarantino', 'swedish', 'survived', 'striking', 'stilted', 'staring', 'staged', 'sparks', 'sources', 'sometime', 'socially', 'smaller', 'sleaze', 'skip', 'sitcom', 'silliness', 'seymour', 'settle', 'secondly', 'scratch', 'rome', 'rivalry', 'rises', 'resemble', 'repeating', 'reminding', 'rely', 'reflects', 'records', 'recognition', 'rebels', 'realm', 'rank', 'raising', 'raises', 'raid', 'rachel', 'quietly', 'punk', 'programme', 'possession', 'posing', 'polished', 'pit', 'pig', 'performer', 'paths', 'ordered', 'ollie', 'obscure', 'objects', 'nostalgic', 'noises', 'mythology', 'mysteries', 'musicians', 'motel', 'moronic', 'momentum', 'minimum', 'mill', 'mgm', 'merit', 'marty', 'map', 'maniac', 'males', 'maggie', 'macbeth', 'm', 'lucy', 'luckily', 'lowest', 'lloyd', 'liners', 'limit', 'lift', 'lauren', 'lasting', 'landed', 'kitchen', 'kissing', 'kenneth', 'kay', 'karate', 'justified', 'june', 'judgement', 'jacket', 'items', 'internal', 'instincts', 'inspire', 'insipid', 'ingredients', 'incidents', 'inane', 'impress', 'immense', 'humble', 'household', 'honesty', 'ho', 'helicopter', 'heading', 'hart', 'hang', 'hackneyed', 'gypo', 'guests', 'grief', 'grayson', 'gilbert', 'generations', 'gates', 'gained', 'futuristic', 'fundamental', 'frances', 'frames', 'forgiven', 'fingers', 'fifth', 'fields', 'fiancée', 'fever', 'feast', 'expose', 'experimental', 'evolution', 'everyones', 'eva', 'endure', 'elsewhere', 'elliott', 'elite', 'egyptian', 'earl', 'dysfunctional', 'duty', 'duke', 'duchess', 'drove', 'dropping', 'doubts', 'divorce', 'distribution', 'displayed', 'disguised', 'disguise', 'discussing', 'dictator', 'describing', 'demonstrate', 'definition', 'daft', 'da', 'cup', 'credible', 'crashes', 'cracking', 'couples', 'coupled', 'conviction', 'consciousness', 'conan', 'complaining', 'complain', 'collective', 'clubs', 'claude', 'classical', 'claimed', 'circus', 'chorus', 'childish', 'carter', 'carrey', 'caper', 'campaign', 'cameos', 'cabin', 'butler', 'burn', 'bunny', 'bonds', 'bo', 'blues', 'biting', 'birds', 'biography', 'bike', 'beverly', 'banal', 'babies', 'authorities', 'atlantis', 'assignment', 'arabia', 'annoyed', 'amy', 'almighty', 'alert', 'ala', 'aircraft', 'aided', 'accurately', 'aaron', '70', '1997', '1980', '1974', '1968', 'youthful', 'wong', 'witnesses', 'wisdom', 'wilsons', 'wig', 'wifes', 'wells', 'watches', 'warmth', 'wandering', 'walt', 'vulnerable', 'voyage', 'voight', 'vital', 'vigilante', 'vice', 'venture', 'vein', 'varied', 'unwatchable', 'unstable', 'unsettling', 'unlikeable', 'uniformly', 'unfold', 'undercover', 'twins', 'tramp', 'tracy', 'thrill', 'thoughtful', 'theyll', 'taxi', 'tad', 'symbolism', 'swear', 'suspension', 'sullivan', 'suggesting', 'subjected', 'stuffed', 'strictly', 'streep', 'stood', 'steam', 'steady', 'stardom', 'spoiled', 'spin', 'spectre', 'sordid', 'slip', 'slick', 'sincere', 'shouting', 'shotgun', 'sherlock', 'shelf', 'shares', 'semi', 'seldom', 'seeming', 'seedy', 'satisfaction', 'sarandon', 'sara', 'sane', 'sand', 'samuels', 'russians', 'roof', 'rod', 'robots', 'revolving', 'retired', 'resolved', 'repulsive', 'rendered', 'reminder', 'remarkably', 'reluctantly', 'reduced', 'receiving', 'rebecca', 'reasonable', 'realization', 'react', 'radical', 'rabbit', 'quigley', 'questioning', 'punishment', 'prize', 'pretending', 'precisely', 'practical', 'pound', 'possess', 'poses', 'playboy', 'platoon', 'pivotal', 'pirates', 'pirate', 'phillips', 'philadelphia', 'peters', 'penny', 'penn', 'peculiar', 'patricia', 'passage', 'paramount', 'parallel', 'palermo', 'owned', 'overwhelming', 'overlooked', 'ought', 'oscars', 'origin', 'odyssey', 'nyc', 'nuances', 'nonsensical', 'nomination', 'niro', 'nicholas', 'murky', 'mundane', 'morally', 'mobile', 'mixture', 'millionaire', 'methods', 'mentality', 'mate', 'mars', 'mail', 'lopez', 'literature', 'link', 'lighter', 'liberties', 'liberal', 'lena', 'landscapes', 'kent', 'kansas', 'junk', 'juice', 'judging', 'journalist', 'inmates', 'injury', 'injured', 'inexplicable', 'inconsistent', 'incidentally', 'implausible', 'ideals', 'huston', 'hulk', 'hughes', 'hopeless', 'hoped', 'hire', 'hepburn', 'heights', 'height', 'heartfelt', 'harvey', 'hangs', 'greed', 'gloria', 'girlfriends', 'gentleman', 'furthermore', 'function', 'fruit', 'frankie']\n"
     ]
    }
   ],
   "source": [
    "print(vectorize_layer.get_vocabulary())"
   ]
  },
  {
   "cell_type": "code",
   "execution_count": 86,
   "metadata": {},
   "outputs": [],
   "source": [
    "# vocab = vectorize_layer.get_vocabulary()\n",
    "# vocab = vocab[0:2] + ['[SOS]'] + vocab[2:-1]\n",
    "# vectorize_layer.set_vocabulary(vocab)\n",
    "# print(vectorize_layer.get_vocabulary())"
   ]
  },
  {
   "cell_type": "code",
   "execution_count": 87,
   "metadata": {},
   "outputs": [],
   "source": [
    "def separar_ultimo_token(x):\n",
    "    x_ = vectorize_layer(x)\n",
    "    x_ = x_[:,:-1]\n",
    "    y_ = x_[:,-1:]\n",
    "    return x_, y_"
   ]
  },
  {
   "cell_type": "code",
   "execution_count": 100,
   "metadata": {},
   "outputs": [
    {
     "name": "stdout",
     "output_type": "stream",
     "text": [
      "Model: \"model_17\"\n",
      "_________________________________________________________________\n",
      " Layer (type)                Output Shape              Param #   \n",
      "=================================================================\n",
      " input_13 (InputLayer)       [(None, 9)]               0         \n",
      "                                                                 \n",
      " embedding (Embedding)       (None, 9, 15)             75000     \n",
      "                                                                 \n",
      " lstm_11 (LSTM)              (None, 15)                1860      \n",
      "                                                                 \n",
      " dense_11 (Dense)            (None, 5000)              80000     \n",
      "                                                                 \n",
      " softmax_11 (Softmax)        (None, 5000)              0         \n",
      "                                                                 \n",
      "=================================================================\n",
      "Total params: 156,860\n",
      "Trainable params: 156,860\n",
      "Non-trainable params: 0\n",
      "_________________________________________________________________\n"
     ]
    }
   ],
   "source": [
    "def predict_word(seq_len, latent_dim, vocab_size):\n",
    "    input_layer = Input(shape=(seq_len-1,))\n",
    "    x = input_layer\n",
    "    x = Embedding(vocab_size, latent_dim, name='embedding', mask_zero=True)(x)\n",
    "    x = LSTM(latent_dim, kernel_initializer='glorot_uniform')(x)\n",
    "    latent_rep = x\n",
    "    x = Dense(vocab_size)(x)\n",
    "    x = Softmax()(x)\n",
    "    return Model(input_layer, x), Model(input_layer, latent_rep)\n",
    "\n",
    "predictor, latent = predict_word(10, 15, vocab_size)\n",
    "predictor.summary()\n",
    "#opt = keras.optimizers.SGD(learning_rate=1, momentum=0.9)\n",
    "opt = keras.optimizers.Nadam(learning_rate=0.1)\n",
    "loss_fn = keras.losses.SparseCategoricalCrossentropy(\n",
    "    ignore_class=1,\n",
    "    name=\"sparse_categorical_crossentropy\",\n",
    ")\n",
    "\n",
    "predictor.compile(loss=loss_fn, optimizer=opt, metrics=[\"accuracy\"])\n"
   ]
  },
  {
   "cell_type": "code",
   "execution_count": 101,
   "metadata": {},
   "outputs": [
    {
     "name": "stdout",
     "output_type": "stream",
     "text": [
      "Epoch 1/20\n",
      "11/11 [==============================] - 22s 270ms/step - loss: 6.7871 - accuracy: 0.0357\n",
      "Epoch 2/20\n",
      "11/11 [==============================] - 9s 304ms/step - loss: 4.6652 - accuracy: 0.1921\n",
      "Epoch 3/20\n",
      "11/11 [==============================] - 10s 315ms/step - loss: 3.2644 - accuracy: 0.4351\n",
      "Epoch 4/20\n",
      "11/11 [==============================] - 9s 287ms/step - loss: 2.5205 - accuracy: 0.5432\n",
      "Epoch 5/20\n",
      "11/11 [==============================] - 9s 296ms/step - loss: 2.0686 - accuracy: 0.6055\n",
      "Epoch 6/20\n",
      "11/11 [==============================] - 9s 285ms/step - loss: 1.7626 - accuracy: 0.6411\n",
      "Epoch 7/20\n",
      "11/11 [==============================] - 9s 290ms/step - loss: 1.5407 - accuracy: 0.6636\n",
      "Epoch 8/20\n",
      "11/11 [==============================] - 9s 295ms/step - loss: 1.3714 - accuracy: 0.6817\n",
      "Epoch 9/20\n",
      "11/11 [==============================] - 9s 290ms/step - loss: 1.2365 - accuracy: 0.6955\n",
      "Epoch 10/20\n",
      "11/11 [==============================] - 9s 290ms/step - loss: 1.1230 - accuracy: 0.7076\n",
      "Epoch 11/20\n",
      "11/11 [==============================] - 9s 295ms/step - loss: 1.0242 - accuracy: 0.7195\n",
      "Epoch 12/20\n",
      "11/11 [==============================] - 9s 289ms/step - loss: 0.9418 - accuracy: 0.7287\n",
      "Epoch 13/20\n",
      "11/11 [==============================] - 9s 283ms/step - loss: 0.8697 - accuracy: 0.7388\n",
      "Epoch 14/20\n",
      "11/11 [==============================] - 9s 298ms/step - loss: 0.8089 - accuracy: 0.7460\n",
      "Epoch 15/20\n",
      "11/11 [==============================] - 9s 286ms/step - loss: 0.7545 - accuracy: 0.7524\n",
      "Epoch 16/20\n",
      "11/11 [==============================] - 9s 281ms/step - loss: 0.7070 - accuracy: 0.7578\n",
      "Epoch 17/20\n",
      "11/11 [==============================] - 9s 297ms/step - loss: 0.6649 - accuracy: 0.7641\n",
      "Epoch 18/20\n",
      "11/11 [==============================] - 9s 296ms/step - loss: 0.6291 - accuracy: 0.7673\n",
      "Epoch 19/20\n",
      "11/11 [==============================] - 9s 282ms/step - loss: 0.5975 - accuracy: 0.7726\n",
      "Epoch 20/20\n",
      "11/11 [==============================] - 9s 283ms/step - loss: 0.5685 - accuracy: 0.7753\n"
     ]
    }
   ],
   "source": [
    "history = predictor.fit(dataset.map(separar_ultimo_token), epochs=20, verbose=1)\n"
   ]
  },
  {
   "cell_type": "markdown",
   "metadata": {},
   "source": []
  },
  {
   "cell_type": "code",
   "execution_count": 102,
   "metadata": {},
   "outputs": [
    {
     "name": "stdout",
     "output_type": "stream",
     "text": [
      "1/1 [==============================] - 4s 4s/step\n",
      "[[4.9774087e-12 4.3837924e-12 1.5019800e-03 ... 2.0039743e-09\n",
      "  3.8750864e-12 4.5052989e-12]]\n",
      "tf.Tensor(8, shape=(), dtype=int64)\n",
      "is\n"
     ]
    }
   ],
   "source": [
    "pred = predictor.predict(vectorize_layer([\"this movie is\"])[:,:-1])\n",
    "print(pred)\n",
    "idx = tf.argmax(pred, axis=1)[0]\n",
    "print(idx)\n",
    "word = vectorize_layer.get_vocabulary()[idx]\n",
    "print(word)"
   ]
  },
  {
   "cell_type": "code",
   "execution_count": 103,
   "metadata": {},
   "outputs": [
    {
     "name": "stdout",
     "output_type": "stream",
     "text": [
      "1/1 [==============================] - 0s 53ms/step\n",
      "is\n",
      "1/1 [==============================] - 0s 73ms/step\n",
      "is\n"
     ]
    },
    {
     "data": {
      "text/plain": [
       "'this movie is is is'"
      ]
     },
     "execution_count": 103,
     "metadata": {},
     "output_type": "execute_result"
    }
   ],
   "source": [
    "def predizer(entrada, numero_de_predicoes, modelo, vectorize_layer):\n",
    "    frase = entrada\n",
    "    for n in range(numero_de_predicoes):\n",
    "        pred = modelo.predict(vectorize_layer([frase])[:,:-1])\n",
    "        idx = tf.argmax(pred, axis=1)[0]\n",
    "        word = vectorize_layer.get_vocabulary()[idx]\n",
    "        frase = frase + \" \" + word\n",
    "        print(word)\n",
    "    return frase\n",
    "\n",
    "predizer(\"this movie is\", 2, predictor, vectorize_layer)"
   ]
  },
  {
   "cell_type": "code",
   "execution_count": 106,
   "metadata": {},
   "outputs": [
    {
     "name": "stdout",
     "output_type": "stream",
     "text": [
      "1/1 [==============================] - 0s 81ms/step\n",
      "but\n",
      "1/1 [==============================] - 0s 41ms/step\n",
      "or\n",
      "1/1 [==============================] - 0s 55ms/step\n",
      "off\n",
      "1/1 [==============================] - 0s 52ms/step\n",
      "chance\n",
      "1/1 [==============================] - 0s 100ms/step\n",
      "visual\n",
      "1/1 [==============================] - 0s 41ms/step\n",
      "100\n",
      "1/1 [==============================] - 0s 44ms/step\n",
      "hero\n",
      "1/1 [==============================] - 0s 64ms/step\n",
      "cannot\n",
      "1/1 [==============================] - 0s 46ms/step\n",
      "footage\n",
      "1/1 [==============================] - 0s 83ms/step\n",
      "came\n"
     ]
    },
    {
     "data": {
      "text/plain": [
       "'i like how but or off chance visual 100 hero cannot footage came'"
      ]
     },
     "execution_count": 106,
     "metadata": {},
     "output_type": "execute_result"
    }
   ],
   "source": [
    "def predizer2(entrada, numero_de_predicoes, modelo, vectorize_layer):\n",
    "    frase = entrada\n",
    "    contexto = frase # Contexto deslizante\n",
    "    for n in range(numero_de_predicoes):\n",
    "        pred = modelo.predict(vectorize_layer([contexto])[:,:-1])\n",
    "\n",
    "        # Nao repetir palavras\n",
    "        tentando = True\n",
    "        while tentando:\n",
    "\n",
    "            # Selectionar de k-best\n",
    "            candidatos = tf.math.top_k(pred, k=10).indices[0,:]\n",
    "            idx = np.random.choice(candidatos.numpy())\n",
    "#            idx = tf.argmax(pred, axis=1)[0]\n",
    "            word = vectorize_layer.get_vocabulary()[idx]\n",
    "            if word in frase.split():\n",
    "                pred[0][idx] = 0\n",
    "            else:\n",
    "                tentando = False\n",
    "                \n",
    "        frase = frase + \" \" + word\n",
    "        contexto = contexto + \" \" + word\n",
    "        #print(frase)\n",
    "        contexto = ' '.join(frase.split()[1:])\n",
    "        print(word)\n",
    "    return frase\n",
    "\n",
    "predizer2(\"i like how\", 10, predictor, vectorize_layer)"
   ]
  },
  {
   "cell_type": "code",
   "execution_count": null,
   "metadata": {},
   "outputs": [],
   "source": []
  },
  {
   "cell_type": "code",
   "execution_count": null,
   "metadata": {},
   "outputs": [],
   "source": []
  }
 ],
 "metadata": {
  "kernelspec": {
   "display_name": "math",
   "language": "python",
   "name": "python3"
  },
  "language_info": {
   "codemirror_mode": {
    "name": "ipython",
    "version": 3
   },
   "file_extension": ".py",
   "mimetype": "text/x-python",
   "name": "python",
   "nbconvert_exporter": "python",
   "pygments_lexer": "ipython3",
   "version": "3.10.9"
  },
  "orig_nbformat": 4
 },
 "nbformat": 4,
 "nbformat_minor": 2
}
